{
 "cells": [
  {
   "cell_type": "code",
   "execution_count": null,
   "metadata": {},
   "outputs": [
    {
     "name": "stdout",
     "output_type": "stream",
     "text": [
      "痛苦的當兵人生\n",
      ">>吵死了 現在才幾點啊?\n",
      "現在時間洞五三洞 安官請示連長起床\n",
      ">>可是我還好睏QQQ 還想再睡一下拉\n",
      "你活老百姓阿 所有弟兄十分鐘後著體育服連集合場集合\n",
      ">>慘了 好像真的快來不及了\n",
      "你各位延遲宣布要被禁假拉\n",
      ">>與其被禁假 我還不如現在1985打好打滿!!\n",
      "你各位敢申訴給我試試看 小心被電飛阿\n",
      ">>抱歉長官 不要電飛我QQ 但是我還是不想被禁假阿QQQ\n",
      "有空討拍還不給我去跑5000?\n"
     ]
    }
   ],
   "source": [
    "msg = \"當兵人生\"\n",
    "print(\"痛苦的當兵人生\")\n",
    "while(msg !=\"解散\"):\n",
    "    msg = input(\">>\")\n",
    "    if \"幾點\" in msg:\n",
    "        print(\"現在時間洞五三洞 安官請示連長起床\")\n",
    "    elif \"睏\" in msg:\n",
    "        print(\"你活老百姓阿 所有弟兄十分鐘後著體育服連集合場集合\")\n",
    "    elif \"來不及\" in msg:\n",
    "        print(\"你各位延遲宣布要被禁假拉\")\n",
    "    elif \"1985\" in msg:\n",
    "        print(\"你各位敢申訴給我試試看 小心被電飛阿\")\n",
    "    else:\n",
    "        print(\"有空討拍還不給我去跑5000?\")"
   ]
  },
  {
   "cell_type": "code",
   "execution_count": null,
   "metadata": {},
   "outputs": [],
   "source": []
  },
  {
   "cell_type": "code",
   "execution_count": null,
   "metadata": {},
   "outputs": [],
   "source": []
  }
 ],
 "metadata": {
  "kernelspec": {
   "display_name": "Python 3",
   "language": "python",
   "name": "python3"
  },
  "language_info": {
   "codemirror_mode": {
    "name": "ipython",
    "version": 3
   },
   "file_extension": ".py",
   "mimetype": "text/x-python",
   "name": "python",
   "nbconvert_exporter": "python",
   "pygments_lexer": "ipython3",
   "version": "3.7.3"
  }
 },
 "nbformat": 4,
 "nbformat_minor": 2
}
