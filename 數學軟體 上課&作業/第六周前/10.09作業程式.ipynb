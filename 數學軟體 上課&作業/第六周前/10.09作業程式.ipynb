{
 "cells": [
  {
   "cell_type": "markdown",
   "metadata": {},
   "source": [
    "# 程式一:選擇背景音樂"
   ]
  },
  {
   "cell_type": "code",
   "execution_count": 24,
   "metadata": {},
   "outputs": [],
   "source": [
    "%matplotlib inline\n",
    "import numpy as np\n",
    "import matplotlib.pyplot as plt\n",
    "import pandas as pd\n",
    "from ipywidgets import interact\n",
    "import webbrowser\n",
    "from IPython.display import display, HTML, Markdown, Image, YouTubeVideo"
   ]
  },
  {
   "cell_type": "code",
   "execution_count": 34,
   "metadata": {},
   "outputs": [],
   "source": [
    "reading = YouTubeVideo('BklGhQYKl30')\n",
    "thinking = YouTubeVideo('NHwn0pszJ0I')\n",
    "exercising = YouTubeVideo('rXLXFKbJAi8')\n",
    "classic = YouTubeVideo('5VB1RvyfISM')"
   ]
  },
  {
   "cell_type": "code",
   "execution_count": 35,
   "metadata": {},
   "outputs": [],
   "source": [
    "def f(choice):\n",
    "    print(choice)\n",
    "    if choice == \"讀書\":\n",
    "        display(reading)\n",
    "    elif choice == \"冥想\":\n",
    "        display(thinking)\n",
    "    elif choice == \"運動\":\n",
    "        display(exercising)\n",
    "    elif choice == \"放空\":\n",
    "        display(classic)\n",
    "    else:\n",
    "        print(\"choose yourself\")\n",
    "        webbrowser.open_new(\"https://www.youtube.com/results?search_query=music\")"
   ]
  },
  {
   "cell_type": "code",
   "execution_count": 36,
   "metadata": {},
   "outputs": [
    {
     "data": {
      "application/vnd.jupyter.widget-view+json": {
       "model_id": "704e31e916eb44588df67793d57801f3",
       "version_major": 2,
       "version_minor": 0
      },
      "text/plain": [
       "interactive(children=(Dropdown(description='choice', options=('讀書', '放空', '運動', '冥想', '其他'), value='讀書'), Outp…"
      ]
     },
     "metadata": {},
     "output_type": "display_data"
    }
   ],
   "source": [
    "interact(f, choice={\"讀書\", \"冥想\", \"運動\", \"放空\", \"其他\"});"
   ]
  },
  {
   "cell_type": "markdown",
   "metadata": {},
   "source": [
    "# 程式二: 設定初始帳號與密碼"
   ]
  },
  {
   "cell_type": "code",
   "execution_count": 1,
   "metadata": {},
   "outputs": [],
   "source": [
    "import random\n",
    "import string"
   ]
  },
  {
   "cell_type": "code",
   "execution_count": 2,
   "metadata": {},
   "outputs": [
    {
     "name": "stdout",
     "output_type": "stream",
     "text": [
      "nIits\n",
      "ccq7ZJ\n"
     ]
    }
   ],
   "source": [
    "a = \"\".join([random.choice(string.ascii_letters)for i in range(5)])\n",
    "p = \"\".join([random.choice(string.ascii_letters+string.hexdigits)for i in range(6)])\n",
    "print(a)\n",
    "print(p)"
   ]
  },
  {
   "cell_type": "code",
   "execution_count": 12,
   "metadata": {},
   "outputs": [
    {
     "name": "stdout",
     "output_type": "stream",
     "text": [
      "請輸入您的帳號:sojfia\n",
      "請輸入您的帳號:asjcoqiwcj\n",
      "請輸入您的帳號:nIits\n",
      "請輸入您的密碼:cjioqcj\n",
      "請輸入您的密碼:ccq7ZJ\n",
      "已成功進入您的帳戶\n"
     ]
    }
   ],
   "source": [
    "flag = 0\n",
    "count = 0\n",
    "while True:\n",
    "    username = input(\"請輸入您的帳號:\")\n",
    "    if username == a:\n",
    "        while True:\n",
    "            password = input(\"請輸入您的密碼:\")\n",
    "            if password == p:\n",
    "                print(\"已成功進入您的帳戶\")\n",
    "                break\n",
    "        else:\n",
    "            flag+=1\n",
    "        if flag == 1:\n",
    "                break\n",
    "        else:\n",
    "            count+=1\n",
    "        if count == 1:\n",
    "                break"
   ]
  },
  {
   "cell_type": "markdown",
   "metadata": {},
   "source": [
    "# 程式三: 文字打印愛心"
   ]
  },
  {
   "cell_type": "code",
   "execution_count": 49,
   "metadata": {},
   "outputs": [
    {
     "name": "stdout",
     "output_type": "stream",
     "text": [
      "                                                            \n",
      "                                                            \n",
      "                                                            \n",
      "                LOVELOLOV           LOVELOLOV               \n",
      "            OVELOVELOLOVELOVE   OVELOVELOLOVELOVE           \n",
      "          LOVELOVELOLOVELOVELOLOVELOVELOLOVELOVELOL         \n",
      "         LOVELOVELOLOVELOVELOLOVELOVELOLOVELOVELOLOV        \n",
      "        LOVELOVELOLOVELOVELOLOVELOVELOLOVELOVELOLOVEL       \n",
      "        OVELOVELOLOVELOVELOLOVELOVELOLOVELOVELOLOVELO       \n",
      "        VELOVELOLOVELOVELOLOVELOVELOLOVELOVELOLOVELOV       \n",
      "        ELOVELOLOVELOVELOLOVELOVELOLOVELOVELOLOVELOVE       \n",
      "        LOVELOLOVELOVELOLOVELOVELOLOVELOVELOLOVELOVEL       \n",
      "        OVELOLOVELOVELOLOVELOVELOLOVELOVELOLOVELOVELO       \n",
      "         ELOLOVELOVELOLOVELOVELOLOVELOVELOLOVELOVELO        \n",
      "          OLOVELOVELOLOVELOVELOLOVELOVELOLOVELOVELO         \n",
      "          LOVELOVELOLOVELOVELOLOVELOVELOLOVELOVELOL         \n",
      "            ELOVELOLOVELOVELOLOVELOVELOLOVELOVELO           \n",
      "             OVELOLOVELOVELOLOVELOVELOLOVELOVELO            \n",
      "              ELOLOVELOVELOLOVELOVELOLOVELOVELO             \n",
      "                LOVELOVELOLOVELOVELOLOVELOVEL               \n",
      "                  ELOVELOLOVELOVELOLOVELOVE                 \n",
      "                    VELOLOVELOVELOLOVELOV                   \n",
      "                       LOVELOVELOLOVEL                      \n",
      "                          LOVELOLOV                         \n",
      "                             LOL                            \n",
      "                              L                             \n",
      "                                                            \n",
      "                                                            \n",
      "                                                            \n",
      "                                                            \n"
     ]
    }
   ],
   "source": [
    "print('\\n'.join([''.join([('LOVELOVELOVE'[(x-y)%10]if((x*0.05)**2+(y*0.1)**2-1)**3-(x*0.05)**2*(y*0.1)**3<=0 \n",
    "                           else' ')for x in range(-30,30)])for y in range(15,-15,-1)]))"
   ]
  },
  {
   "cell_type": "markdown",
   "metadata": {},
   "source": [
    "# 程式四:隨機迷宮生成器"
   ]
  },
  {
   "cell_type": "code",
   "execution_count": 68,
   "metadata": {},
   "outputs": [
    {
     "name": "stdout",
     "output_type": "stream",
     "text": [
      "╱╱╱╱╱╱╲╲╱╱╲╲╲╲╲╱╱╱╱╲╱╱╲╲╱╲╲╱╲╱╱╱╲╲╱╱╲╲╱╱╲╱╲╲╲╱╲╱╲╲╱╲╱╲╲╱╲╲╲╱╲╱╲╱╲╲╲╲╱╲╲╲╲╱╲╱╱╲╲╱╱╲╱╱╱╱╲╱╲╲╲╲╲╱╱╱╲╱╱╱╱╲╱╲╲╱╲╱╲╲╱╱╲╱╲╱╲╲╱╲╲╲╱╱╲╱╱╲╲╲╱╲╱╲╱╲╲╱╲╲╲╱╱╱╲╱╱╱╱╱╱╲╱╱╲╲╱╲╱╱╲╲╱╲╲╱╱╱╲╱╱╲╱╱╲╱╱╱╱╲╲╲╲╲╱╱╲╲╱╲╱╱╲╱╱╲╱╲╱╱╱╲╲╲╱╲╱╱╱╱╲╲╲╱╲╲╱╱╲╱╲╱╱╱╱╲╲╲╲╱╲╱╲╲╲╱╲╲╲╲╲╱╱╲╲╱╲╱╱╱╱╱╲╲╱╲╱╱╱╱╱╲╲╲╱╲╱╲╲╱╲╲╲╱╲╲╲╱╲╱╱╲╲╱╱╱╲╱╲╱╱╱╲╲╲╱╲╲╱╱╲╱╱╲╱╱╲╲╲╲╱╱╲╲╱╲╱╱╱╲╱╲╲╲╱╲╱╲╲╱╲╲╲╲╲╲╲╲╱╲╲╲╱╱╲╲╲╱╲╲╲╱╲╱╲╲╲╲╲╱╲╱╱╲╱╱╱╱╱╱╱╲╱╲╲╱╱╱╲╱╲╲╱╲╱╲╲╱╲╱╲╱╱╱╲╲╱╲╱╱╱╱╲╲╱╲╱╲╱╲╲╱╱╱╱╱╲╲╲╲╱╲╱╱╲╱╲╲╲╱╱╲╱╱╲╲╲╲╱╱╱╲╲╲╲╱╱╱╲╲╱╱╲╱╲╱╲╲╱╱╲╱╲╱╲╱╲╲╱╱╲╱╱╲╱╱╲╲╲╲╲╱╲╱╲╱╱╲╱╱╲╱╲╱╲╱╲╲╱╲╲╱╱╱╲╱╲╲╱╱╱╲╲╲╲╲╲╱╱╲╱╱╱╱╱╱╲╱╱╲╲╲╲╱╱╲╱╲╱╱╱╲╱╲╱╲╱╲╲╱╲╱╲╲╱╲╱╱╲╲╱╲╲╲╱╲╱╲╲╱╲╲╱╱╲╲╲╱╱╱╲╲╲╱╱╱╲╱╲╱╱╱╱╲╱╲╲╲╲╲╲╱╲╲╱╲╱╱╱╱╲╲╲╱╱╲╲╲╲╲╱╱╲╲╱╲╲╲╲╱╲╲╱╲╲╱╱╲╱╲╲╱╱╱╲╱╱╱╱╱╲╲╲╱╱╱╱╱╲╲╱╲╱╲╱╲╱╲╲╱╲╱╲╲╱╱╲╲╱╱╱╲╲╱╲╱╲╲╱╲╱╱╱╱╱╲╱╱╲╲╱╱╱╱╲╱╱╲╲╱╱╱╱╱╱╲╱╱╱╲╱╱╲╲╲╱╲╲╱╱╱╱╱╱╲╱╲╱╲╲╲╲╱╲╲╲╲╲╱╱╲╱╱╲╲╱╲╱╱╱╱╱╱╱╲╱╲╲╲╱╱╲╱╲╲╱╲╱╱╲╱╱╲╱╱╲╱╱╱╱╱╲╱╲╱╱╱╱╱╲╱╲╲╲╱╲╱╱╲╲╲╱╲╱╲╱╱╲╱╱╲╲╲╱╲╲╱╱╱╱╲╱╱╱╲╱╱╱╲╱╲╲╲╱╱╱╲╱╲╱╱╱╲╱╱╲╱╱╱╲╲╱╲╱╱╲╱╲╱╲╱╱╱╱╲╲╲╱╱╲╱╱╲╱╱╲╲╱╲╲╱╲╲╲╱╱╲╲╲╱╱╲╱╱╲╲╲╱╲╲╲╱╲╱╲╲╲╱╱╱╱╲╱╲╱╲╲╱╱╱╲╱╲╲╱╱╱╱╱╱╱╱╱╱╲╱╲╲╱╱╲╱╲╲╲╱╲╲╱╲╲╲╱╱╲╱╱╲╲╲╱╱╱╱╲╱╱╲╲╱╱╲╲╱╲╱╲╱╲╲╲╱╱╲╲╱╲╱╱╱╱╱╱╱╲╱╲╲╱╱╱╱╲╲╲╲╲╱╱╲╱╱╲╱╲╲╱╱╲╱╲╱╱╲╱╱╱╱╲╲╲╲╲╲╱╲╱╲╱╱╲╱╱╲╱╱╱╲╱╲╲╱╲╱╱╱╱╱╱╱╱╲╲╱╲╲╲╲╲╱╲╱╱╱╲╱╲╱╲╲╲╱╱╲╱╱╱╲╱╱╱╱╱╱╲╱╲╲╲╱╲╲╲╱╲╱╲╲╲╱╲╱╱╲╱╲╱╱╲╲╲╲╱╲╱╲╲╲╱╲╱╲╱╲╲╱╲╱╲╱╲╲╱╱╲╲╱╲╱╲╲╲╲╱╲╱╱╱╱╱╱╲╱╲╱╱╱╲╲╱╲╲╱╱╱╱╱╱╲╲╲╱╲╱╲╱╲╱╱╲╱╱╲╱╲╲╲╱╱╲╱╲╲╲╲╲╱╱╱╱╲╱╱╱╱╲╱╱╱╲╱╲╲╲╲╱╲╱╱╲╲╱╱╲╲╱╲╲╲╱╱╱╱╲╲╲╱╱╲╲╱╲╲╱╱╲╲╱╲╲╲╱╲╱╲╱╲╱╱╱╲╲╱╲╲╱╲╲╱╱╲╲╱╲╲╲╱╲╲╱╲╱╱╱╲╱╲╱╱╱╲╲╱╱╱╲╲╱╲╲╲╱╲╱╲╲╱╲╱╲╱╲╲╲╲╱╱╲╲╱╲╱╲╱╱╱╱╲╱╲╱╲╱╱╱╱╱╱╲╱╲╱╲╱╱╱╱╲╲╱╲╲╲╲╲╱╲╲╲╱╲╲╲╲╱╲╲╱╲╲╲╱╲╲╲╱╱╱╱╱╲╲╲╲╱╱╱╱╲╱╱╲╱╲╱╱╱╱╱╲╱╱╲╱╱╲╱╲╱╲╲╱╲╲╱╱╱╲╲╱╱╲╲╲╱╲╱╲╱╱╲╱╱╲╱╱╲╱╲╲╱╱╲╱╱╱╲╱╲╲╲╲╱╱╱╲╲╲╲╲╱╲╱╱╲╱╱╱╲╱╱╲╱╲╲╲╱╱╲╲╱╲╲╲╱╲╱╱╲╲╲╲╲╲╲╱╲╲╱╱╱╲╱╲╱╱╱╱╱╲╱╲╱╱╱╱╱╲╱╲╱╱╲╱╲╱╲╱╱╱╱╱╲╱╲╲╲╱╲╱╱╱╱╲╲╲╲╲╱╲╲╲╱╲╲╲╲╱╱╱╲╲╱╲╲╲╱╲╲╱╱╱╱╲╲╱╲╱╲╱╱╲╱╲╱╲╲╲╱╱╲╱╲╱╲╲╱╲╱╱╱╲╲╲╲╱╲╲╱╲╲╲╱╱╲╲╲╱╲╲╲╲╱╲╲╲╱╱╲╲╲╲╱╲╱╱╱╱╱╱╱╲╱╲╱╱╱╱╲╲╱╲╲╱╲╲╲╱╲╲╱╱╱╱╱╱╲╱╱╲╱╲╱╱╱╲╱╲╲╱╲╱╲╱╲╱╱╱╲╱╱╱╱╱╲╱╲╲╱╲╲╱╲╱╲╲╲╲╱╱╱╱╱╱╱╲╲╱╱╲╲╱╲╲╲╲╱╲╱╱╲╲╱╱╱╲╱╱╲╲╲╱╲╲╱╲╲╱╲╱╲╱╲╲╱╱╲╲╱╲╲╲╱╱╱╱╲╲╱╲╲╲╱╱╱╲╱╲╱╱╲╱╱╱╱╲╲╲╲╲╱╱╲╲╲╲╲╲╱╲╱╱╱╱╲╲╱╲╱╱╱╱╱╲╱╱╲╲╱╱╱╱╲╱╱╱╲╲╱╱╲╲╲╲╲╲╲╲╲╱╱╱╲╲╲╱╱╲╱╲╲╲╱╲╱╲╱╲╱╱╱╱╲╱╲╱╱╱╲╱╱╲╲╲╱╲╲╲╲╲╲╱╱╱╲╱╱╲╲╱╲╱╲╲╱╱╲╲╱╱╱╲╱╱╱╱╲╱╲╱╱╱╱╱╲╲╲╲╲╲╱╲╲╱╱╲╱╲╱╲╱╲╱╲╲╱╲╲╱╲╲╲╱╲╱╲╲╲╱╱╱╱╲╲╱╲╱╱╲╲╲╲╲╱╱╲╲╲╲╱╲╱╱╱╲╱╱╲╱╲╱╲╱╲╱╲╲╱╱╲╱╲╲╱╲╱╲╲╲╱╱╱╱╱╲╲╱╲╱╲╲╱╲╱╲╱╲╲╱╲╱╲╲╱╱╲╱╲╱╲╱╲╱╱╲╱╲╱╱╱╲╱╱╲╱╲╲╱╱╲╱╲╲╱╱╱╱╱╱╲╱╲╱╲╲╱╱╱╲╱╲╲╱╱╲╱╱╲╲╲╱╲╱╱╲╲╲╱╲╱╲╱╱╱╱╱╲╲╱╲╱╱╲╱╲╲╱╱╱╱╱╲╱╲╲╲╲╲╱╲╲╱╲╲╱╲╲╲╱╱╱╱╲╱╲╱╱╲╱╱╱╲╱╱╲╲╲╱╱╱╱╱╲╱╱╱╲╱╱╱╱╱╱╲╲╱╱╱╲╱╲╲╱╲╱╲╱╲╲╲╲╲╱╱╲╲╲╱╲╲╲╱╱╲╱╱╲╱╱╱╱╲╲╱╲╱╲╱╲╲╲╲╲╲╲╲╱╱╱╱╲╲╲╲╲╱╱╱╱╱╱╲╱╱╱╲╲╲╱╱╱╲╱╲╱╲╲╱╱╲╲╲╱╱╱╲╱╲╱╲╱╲╱╱╲╲╲╲╲╱╱╱╲╲╲╱╲╱╱╲╱╲╱╱╲╱╱╱╱╱╱╲╱╲╱╱╱╲╱╱╱╲╱╱╲╲╱╲╲╲╲╱╱╲╲╲╲╱╲╱╱╱╲╲╲╲╲╲╱╲╲╱╱╲╲╱╱╱╲╲╲╲╱╲╲╲╲╱╲╲╱╱╲╲╱╱╲╱╱╱╲╱╱╱╱╱╲╲╲╲╱╱╱╲╲╲╱╲╲╲╱╱╲╲╱╱╲╲╲╱╲╲╲╱╲╱╲╱╱╲╱╱╲╲╲╲╱╱╲╲╲╱╲╲╲╱╱╲╲╱╲╲╲╱╲╱╲╲╲╱╲╱╱╱╱╱╱╲╱╲╱╱╱╱╲╲╱╲╲╱╱╲╲╲╲╲╱╱╲╱╱╱╲╱╲╱╲╲╲╲╲╲╲╲╱╱╲╲╱╲╲╱╲╱╲╱╱╲╱╲╲╱╱╱╱╲╱╱╱╲╱╱╱╲╲╲╲╱╱╲╱╲╱╱╲╱╱╲╱╲╲╱╲╱╲╱╲╱╲╲╲╱╲╲╱╱╲╲╲╲╲╱╱╲╱╲╱╲╱╱╱╲╲╱╲╱╲╲╱╲╲╲╱╲╱╱╱╱╲╱╲╱╱╲╲╱╲╲╱╲╲╱╲╲╲╲╱╲╲╱╱╱╲╲╱╲╲╱╱╱╲╲╲╱╲╱╲╱╱╲╱╲╲╲╱╲╲╲╲╱╲╲╱╱╱╱╲╱╱╱╱╲╲╱╲╲╲╲╲╱╲╱╲╱╲╱╲╱╲╱╱╲╲╲╲╱╱╲╱╲╱╲╱╱╱╱╱╲╲╲╱╱╲╱╱╲╱╲╲╱╱╱╱╲╲╱╱╱╱╱╱╲╲╲╲╲╲╲╱╲╲╲╱╲╱╲╲╲╱╲╲╲╲╲╱╱╱╱╱╲╱╱╲╲╲╱╱╱╲╱╱╲╲╲╱╱╲╲╱╱╲╲╱╲╱╲╱╲╲╱╲╲╲╲╱╲╱╲╲╱╱╲╲╲╱╱╲╲╲╲╲╱╱╱╲╲╱╱╲╱╱╱╱╱╱╲╱╱╱╱╱╱╱╲╱╲╲╱╲╱╲╱╲╲╱╱╲╲╱╱╲╱╱╱╲╱╱╱╱╱╲╱╱╲╱╲╲╲╱╲╲╲╱╲╲╱╱╱╱╲╲╱╱╱╱╲╲╲╲╲╲╲╱╲╲╱╱╲╲╲\n"
     ]
    }
   ],
   "source": [
    "print(\"\".join(__import__('random').choice('\\u2571\\u2572') for i in range(60*48)))"
   ]
  },
  {
   "cell_type": "code",
   "execution_count": null,
   "metadata": {},
   "outputs": [],
   "source": []
  },
  {
   "cell_type": "code",
   "execution_count": null,
   "metadata": {},
   "outputs": [],
   "source": []
  },
  {
   "cell_type": "code",
   "execution_count": null,
   "metadata": {},
   "outputs": [],
   "source": []
  }
 ],
 "metadata": {
  "kernelspec": {
   "display_name": "Python 3",
   "language": "python",
   "name": "python3"
  },
  "language_info": {
   "codemirror_mode": {
    "name": "ipython",
    "version": 3
   },
   "file_extension": ".py",
   "mimetype": "text/x-python",
   "name": "python",
   "nbconvert_exporter": "python",
   "pygments_lexer": "ipython3",
   "version": "3.7.3"
  }
 },
 "nbformat": 4,
 "nbformat_minor": 2
}
