{
 "cells": [
  {
   "cell_type": "code",
   "execution_count": 5,
   "metadata": {},
   "outputs": [],
   "source": [
    "%matplotlib inline\n",
    "import numpy as np\n",
    "import matplotlib.pyplot as plt\n",
    "import pandas as pd\n",
    "import time\n",
    "import random"
   ]
  },
  {
   "cell_type": "code",
   "execution_count": 24,
   "metadata": {},
   "outputs": [
    {
     "name": "stdout",
     "output_type": "stream",
     "text": [
      "請輸入您要查詢的科目:數學\n",
      "成績查詢中......\n",
      "您的數學成績為: [99] 分\n",
      "恭喜您及格辣\n"
     ]
    }
   ],
   "source": [
    "x = input(\"請輸入您要查詢的科目:\")\n",
    "math = [30, 48, 68, 100, 99]\n",
    "chinese = [50, 19, 80, 73, 93]\n",
    "english = [13, 60, 57, 92, 86]\n",
    "mathgrade = random.sample(math, 1)\n",
    "chinesegrade = random.sample(chinese,1)\n",
    "englishgrade = random.sample(english,1)\n",
    "if x == \"數學\":\n",
    "    print(\"成績查詢中......\")\n",
    "    time.sleep(3)\n",
    "    print(\"您的數學成績為:\", mathgrade, \"分\")\n",
    "    if mathgrade == [68]:\n",
    "        print(\"恭喜您及格辣\")\n",
    "    elif mathgrade == [99]:\n",
    "        print(\"恭喜您及格辣\")\n",
    "    elif mathgrade == [100]:\n",
    "        print(\"恭喜您及格辣\")\n",
    "    else:\n",
    "        print(\"不及格,請再多加努力\")\n",
    "if x == \"國文\":\n",
    "    print(\"成績查詢中......\")\n",
    "    time.sleep(3)\n",
    "    print(\"您的國文成績為:\", chinesegrade, \"分\")\n",
    "    if chinesegrade == [73]:\n",
    "        print(\"恭喜您及格辣\")\n",
    "    elif chinesegrade == [80]:\n",
    "        print(\"恭喜您及格辣\")\n",
    "    elif chinesegrade == [93]:\n",
    "        print(\"恭喜您及格辣\")\n",
    "    else:\n",
    "        print(\"不及格,請再多加努力\")\n",
    "if x == \"英文\":\n",
    "    print(\"成績查詢中......\")\n",
    "    time.sleep(3)\n",
    "    print(\"您的英文成績為:\", englishgrade, \"分\")\n",
    "    if englishgrade == [60]:\n",
    "        print(\"恭喜您及格辣\")\n",
    "    elif englishgrade == [86]:\n",
    "        print(\"恭喜您及格辣\")\n",
    "    elif englishgrade == [92]:\n",
    "        print(\"恭喜您及格辣\")\n",
    "    else:\n",
    "        print(\"不及格,請再多加努力\")"
   ]
  },
  {
   "cell_type": "code",
   "execution_count": null,
   "metadata": {},
   "outputs": [],
   "source": []
  },
  {
   "cell_type": "code",
   "execution_count": null,
   "metadata": {},
   "outputs": [],
   "source": []
  }
 ],
 "metadata": {
  "kernelspec": {
   "display_name": "Python 3",
   "language": "python",
   "name": "python3"
  },
  "language_info": {
   "codemirror_mode": {
    "name": "ipython",
    "version": 3
   },
   "file_extension": ".py",
   "mimetype": "text/x-python",
   "name": "python",
   "nbconvert_exporter": "python",
   "pygments_lexer": "ipython3",
   "version": "3.7.3"
  }
 },
 "nbformat": 4,
 "nbformat_minor": 2
}
