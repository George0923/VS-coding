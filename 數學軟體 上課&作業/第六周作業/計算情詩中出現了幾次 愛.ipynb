{
 "cells": [
  {
   "cell_type": "markdown",
   "metadata": {},
   "source": [
    "# 作業二"
   ]
  },
  {
   "cell_type": "code",
   "execution_count": 1,
   "metadata": {},
   "outputs": [],
   "source": [
    "%matplotlib inline\n",
    "import numpy as np\n",
    "import matplotlib.pyplot as plt\n",
    "import pandas as pd"
   ]
  },
  {
   "cell_type": "code",
   "execution_count": 11,
   "metadata": {},
   "outputs": [
    {
     "name": "stdout",
     "output_type": "stream",
     "text": [
      "請輸入您的情詩:如果不曾相逢  也許 心緒永遠不會沉重  如果真的失之交臂  恐怕一生也不得輕鬆　  一個眼神  便足以讓心海 掠過颶風  在貧瘠的土地上  更深地懂得風景  一次遠行  便足以憔悴了一顆羸弱的心  每望一眼秋水微瀾  便恨不得 淚水盈盈　  死怎能不 從容不迫  愛又怎能 無動於衷  只要彼此愛過一次  就是無憾的人生\n",
      "愛字出現在這首情詩的次數為:\n",
      "2 次\n"
     ]
    }
   ],
   "source": [
    "word = input(\"請輸入您的情詩:\")\n",
    "a = word.count(\"愛\")\n",
    "print(\"愛字出現在這首情詩的次數為:\")\n",
    "print(a, \"次\")"
   ]
  },
  {
   "cell_type": "code",
   "execution_count": null,
   "metadata": {},
   "outputs": [],
   "source": []
  }
 ],
 "metadata": {
  "kernelspec": {
   "display_name": "Python 3",
   "language": "python",
   "name": "python3"
  },
  "language_info": {
   "codemirror_mode": {
    "name": "ipython",
    "version": 3
   },
   "file_extension": ".py",
   "mimetype": "text/x-python",
   "name": "python",
   "nbconvert_exporter": "python",
   "pygments_lexer": "ipython3",
   "version": "3.7.3"
  }
 },
 "nbformat": 4,
 "nbformat_minor": 2
}
