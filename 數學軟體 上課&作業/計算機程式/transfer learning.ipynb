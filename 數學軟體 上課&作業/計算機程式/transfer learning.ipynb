{
 "cells": [
  {
   "cell_type": "markdown",
   "metadata": {},
   "source": [
    "# 讀入套件和資料集"
   ]
  },
  {
   "cell_type": "code",
   "execution_count": 1,
   "metadata": {},
   "outputs": [],
   "source": [
    "%matplotlib inline\n",
    "import matplotlib.pyplot as plt\n",
    "import numpy as np\n",
    "\n",
    "# Layers for FNN\n",
    "from tensorflow.keras.models import Sequential\n",
    "from tensorflow.keras.layers import Dense\n",
    "from tensorflow.keras.layers import Flatten\n",
    "\n",
    "# Layers for CNN\n",
    "from tensorflow.keras.layers import Conv2D, MaxPool2D, GlobalAveragePooling2D\n",
    "\n",
    "from tensorflow.keras.optimizers import SGD, Adam\n",
    "\n",
    "# For data preprocessing\n",
    "from tensorflow.keras import datasets\n",
    "from tensorflow.keras.utils import to_categorical"
   ]
  },
  {
   "cell_type": "markdown",
   "metadata": {},
   "source": [
    "# 讀取資料集A並整理 (MNIST)"
   ]
  },
  {
   "cell_type": "code",
   "execution_count": 2,
   "metadata": {},
   "outputs": [],
   "source": [
    "# Load MNIST\n",
    "(x_train, y_train0), (x_test, y_test0) = datasets.mnist.load_data()\n",
    "\n",
    "# Reshape size\n",
    "x_train=x_train.reshape(-1, 28,28,1)\n",
    "x_test=x_test.reshape(-1, 28,28,1)\n",
    "# Normalize\n",
    "x_train = x_train / x_train.max()\n",
    "x_test = x_test / x_test.max()\n",
    "\n",
    "# One-hot encoding\n",
    "y_train = to_categorical(y_train0, 10)\n",
    "y_test = to_categorical(y_test0, 10)"
   ]
  },
  {
   "cell_type": "markdown",
   "metadata": {},
   "source": [
    "# 建立model_A資料集"
   ]
  },
  {
   "cell_type": "markdown",
   "metadata": {},
   "source": [
    "### 修改部分=> 卷積層的filter數量下修為32, 64, 128，全連接層的神經元數量修至128。"
   ]
  },
  {
   "cell_type": "code",
   "execution_count": 17,
   "metadata": {},
   "outputs": [],
   "source": [
    "CNN_layers = [Conv2D(32,(3,3), input_shape = (28, 28, 1), padding = 'same', activation = 'relu', name = 'Conv_1'),\n",
    "              MaxPool2D(),\n",
    "              Conv2D(64,(3,3), padding = 'same', activation='relu', name = 'Conv_2'),\n",
    "              MaxPool2D(),\n",
    "              Conv2D(128,(3,3), padding = 'same', activation = 'relu', name = 'Conv_3'),\n",
    "              GlobalAveragePooling2D()]\n",
    "\n",
    "FC_layers = [Dense(units = 128, activation = 'relu'),        \n",
    "             Dense(units = 10, activation = 'softmax')]"
   ]
  },
  {
   "cell_type": "code",
   "execution_count": 18,
   "metadata": {},
   "outputs": [],
   "source": [
    "model_A = Sequential(CNN_layers + FC_layers)"
   ]
  },
  {
   "cell_type": "code",
   "execution_count": 19,
   "metadata": {},
   "outputs": [
    {
     "name": "stdout",
     "output_type": "stream",
     "text": [
      "Model: \"sequential_2\"\n",
      "_________________________________________________________________\n",
      "Layer (type)                 Output Shape              Param #   \n",
      "=================================================================\n",
      "Conv_1 (Conv2D)              (None, 28, 28, 32)        320       \n",
      "_________________________________________________________________\n",
      "max_pooling2d_4 (MaxPooling2 (None, 14, 14, 32)        0         \n",
      "_________________________________________________________________\n",
      "Conv_2 (Conv2D)              (None, 14, 14, 64)        18496     \n",
      "_________________________________________________________________\n",
      "max_pooling2d_5 (MaxPooling2 (None, 7, 7, 64)          0         \n",
      "_________________________________________________________________\n",
      "Conv_3 (Conv2D)              (None, 7, 7, 128)         73856     \n",
      "_________________________________________________________________\n",
      "global_average_pooling2d_2 ( (None, 128)               0         \n",
      "_________________________________________________________________\n",
      "dense_4 (Dense)              (None, 128)               16512     \n",
      "_________________________________________________________________\n",
      "dense_5 (Dense)              (None, 10)                1290      \n",
      "=================================================================\n",
      "Total params: 110,474\n",
      "Trainable params: 110,474\n",
      "Non-trainable params: 0\n",
      "_________________________________________________________________\n"
     ]
    }
   ],
   "source": [
    "model_A.summary()"
   ]
  },
  {
   "cell_type": "markdown",
   "metadata": {},
   "source": [
    "# 訓練model_A"
   ]
  },
  {
   "cell_type": "markdown",
   "metadata": {},
   "source": [
    "### 修改部分=> optimizer改為SGD, learning rate 改為0.02"
   ]
  },
  {
   "cell_type": "code",
   "execution_count": 20,
   "metadata": {},
   "outputs": [],
   "source": [
    "model_A.compile(loss='categorical_crossentropy',\n",
    "              optimizer = SGD(lr = 0.02),\n",
    "              metrics = ['categorical_accuracy'])"
   ]
  },
  {
   "cell_type": "code",
   "execution_count": 21,
   "metadata": {},
   "outputs": [
    {
     "name": "stdout",
     "output_type": "stream",
     "text": [
      "Train on 60000 samples, validate on 10000 samples\n",
      "Epoch 1/5\n",
      "60000/60000 [==============================] - 92s 2ms/sample - loss: 2.2906 - categorical_accuracy: 0.1873 - val_loss: 2.2733 - val_categorical_accuracy: 0.1760\n",
      "Epoch 2/5\n",
      "60000/60000 [==============================] - 102s 2ms/sample - loss: 2.2362 - categorical_accuracy: 0.2050 - val_loss: 2.1846 - val_categorical_accuracy: 0.2395\n",
      "Epoch 3/5\n",
      "60000/60000 [==============================] - 100s 2ms/sample - loss: 2.0586 - categorical_accuracy: 0.2798 - val_loss: 1.8556 - val_categorical_accuracy: 0.3585\n",
      "Epoch 4/5\n",
      "60000/60000 [==============================] - 133s 2ms/sample - loss: 1.6757 - categorical_accuracy: 0.4070 - val_loss: 1.3776 - val_categorical_accuracy: 0.5323\n",
      "Epoch 5/5\n",
      "60000/60000 [==============================] - 132s 2ms/sample - loss: 1.1791 - categorical_accuracy: 0.6054 - val_loss: 0.9900 - val_categorical_accuracy: 0.6524\n"
     ]
    },
    {
     "data": {
      "text/plain": [
       "<tensorflow.python.keras.callbacks.History at 0xbddb7dbe0>"
      ]
     },
     "execution_count": 21,
     "metadata": {},
     "output_type": "execute_result"
    }
   ],
   "source": [
    "model_A.fit(x_train, y_train, batch_size = 128, epochs = 5, validation_data = (x_test, y_test))"
   ]
  },
  {
   "cell_type": "markdown",
   "metadata": {},
   "source": [
    "# 查看model權重"
   ]
  },
  {
   "cell_type": "code",
   "execution_count": 22,
   "metadata": {},
   "outputs": [
    {
     "name": "stdout",
     "output_type": "stream",
     "text": [
      "60000/60000 [==============================] - 55s 923us/sample - loss: 0.9957 - categorical_accuracy: 0.6507\n",
      "10000/10000 [==============================] - 9s 864us/sample - loss: 0.9900 - categorical_accuracy: 0.6524\n",
      "Train Accuracy: 65.07499814033508\n",
      "Test Accuracy: 65.2400016784668\n"
     ]
    }
   ],
   "source": [
    "train_score = model_A.evaluate(x_train, y_train)\n",
    "test_score = model_A.evaluate(x_test, y_test)\n",
    "print(f'Train Accuracy: {train_score[1]*100}')\n",
    "print(f'Test Accuracy: {test_score[1]*100}')"
   ]
  },
  {
   "cell_type": "markdown",
   "metadata": {},
   "source": [
    "# 讀入B資料集並整理 (fashion_mnist)"
   ]
  },
  {
   "cell_type": "code",
   "execution_count": 24,
   "metadata": {},
   "outputs": [],
   "source": [
    "\n",
    "(a_train, b_train), (a_test, b_test) = datasets.fashion_mnist.load_data()\n",
    "\n",
    "a_train = a_train.reshape(60000, 28, 28, 1) / 255\n",
    "a_test = a_test.reshape(10000, 28, 28, 1) / 255\n",
    "\n",
    "b_train = to_categorical(b_train, 10)\n",
    "b_test = to_categorical(b_test, 10)"
   ]
  },
  {
   "cell_type": "code",
   "execution_count": 32,
   "metadata": {},
   "outputs": [],
   "source": [
    "FC_layers_CF = [Dense(units=256, activation='relu'),\n",
    "                Dense(units=128, activation='relu'),\n",
    "                Dense(units=10, activation='softmax')]"
   ]
  },
  {
   "cell_type": "code",
   "execution_count": 33,
   "metadata": {},
   "outputs": [
    {
     "data": {
      "text/plain": [
       "<bound method Network.summary of <tensorflow.python.keras.engine.sequential.Sequential object at 0x0000000BDD8A7F60>>"
      ]
     },
     "execution_count": 33,
     "metadata": {},
     "output_type": "execute_result"
    }
   ],
   "source": [
    "model_new = Sequential(CNN_layers + FC_layers_CF)\n",
    "model_new.summary"
   ]
  },
  {
   "cell_type": "markdown",
   "metadata": {},
   "source": [
    "# Transfer learning (使用Frozen)"
   ]
  },
  {
   "cell_type": "code",
   "execution_count": 34,
   "metadata": {},
   "outputs": [],
   "source": [
    "for layer in CNN_layers:\n",
    "    layer.trainable = False"
   ]
  },
  {
   "cell_type": "code",
   "execution_count": 35,
   "metadata": {},
   "outputs": [
    {
     "name": "stdout",
     "output_type": "stream",
     "text": [
      "Model: \"sequential_4\"\n",
      "_________________________________________________________________\n",
      "Layer (type)                 Output Shape              Param #   \n",
      "=================================================================\n",
      "Conv_1 (Conv2D)              (None, 28, 28, 32)        320       \n",
      "_________________________________________________________________\n",
      "max_pooling2d_4 (MaxPooling2 (None, 14, 14, 32)        0         \n",
      "_________________________________________________________________\n",
      "Conv_2 (Conv2D)              (None, 14, 14, 64)        18496     \n",
      "_________________________________________________________________\n",
      "max_pooling2d_5 (MaxPooling2 (None, 7, 7, 64)          0         \n",
      "_________________________________________________________________\n",
      "Conv_3 (Conv2D)              (None, 7, 7, 128)         73856     \n",
      "_________________________________________________________________\n",
      "global_average_pooling2d_2 ( (None, 128)               0         \n",
      "_________________________________________________________________\n",
      "dense_9 (Dense)              (None, 256)               33024     \n",
      "_________________________________________________________________\n",
      "dense_10 (Dense)             (None, 128)               32896     \n",
      "_________________________________________________________________\n",
      "dense_11 (Dense)             (None, 10)                1290      \n",
      "=================================================================\n",
      "Total params: 159,882\n",
      "Trainable params: 67,210\n",
      "Non-trainable params: 92,672\n",
      "_________________________________________________________________\n"
     ]
    }
   ],
   "source": [
    "model_new.summary()"
   ]
  },
  {
   "cell_type": "markdown",
   "metadata": {},
   "source": [
    "### 修改部分=> optimizer使用SGD learning = 0.02"
   ]
  },
  {
   "cell_type": "code",
   "execution_count": 36,
   "metadata": {},
   "outputs": [
    {
     "name": "stdout",
     "output_type": "stream",
     "text": [
      "Train on 60000 samples, validate on 10000 samples\n",
      "Epoch 1/5\n",
      "60000/60000 [==============================] - 42s 705us/sample - loss: 1.3203 - categorical_accuracy: 0.5377 - val_loss: 1.0746 - val_categorical_accuracy: 0.5943\n",
      "Epoch 2/5\n",
      "60000/60000 [==============================] - 45s 747us/sample - loss: 0.9791 - categorical_accuracy: 0.6417 - val_loss: 0.9254 - val_categorical_accuracy: 0.6667\n",
      "Epoch 3/5\n",
      "60000/60000 [==============================] - 43s 718us/sample - loss: 0.8895 - categorical_accuracy: 0.6737 - val_loss: 0.8641 - val_categorical_accuracy: 0.6691\n",
      "Epoch 4/5\n",
      "60000/60000 [==============================] - 42s 700us/sample - loss: 0.8349 - categorical_accuracy: 0.6924 - val_loss: 0.8770 - val_categorical_accuracy: 0.6639\n",
      "Epoch 5/5\n",
      "60000/60000 [==============================] - 43s 709us/sample - loss: 0.8022 - categorical_accuracy: 0.7022 - val_loss: 0.8001 - val_categorical_accuracy: 0.6961\n"
     ]
    },
    {
     "data": {
      "text/plain": [
       "<tensorflow.python.keras.callbacks.History at 0xb86705c88>"
      ]
     },
     "execution_count": 36,
     "metadata": {},
     "output_type": "execute_result"
    }
   ],
   "source": [
    "model_new.compile(loss='categorical_crossentropy', \n",
    "                    optimizer = SGD(lr=0.02),\n",
    "                    metrics=['categorical_accuracy'])\n",
    "\n",
    "model_new.fit(a_train, b_train,batch_size=128, epochs=5,validation_data=(a_test, b_test))"
   ]
  },
  {
   "cell_type": "markdown",
   "metadata": {},
   "source": [
    "# 查看借來的神經網路權重是否有變化"
   ]
  },
  {
   "cell_type": "code",
   "execution_count": 38,
   "metadata": {},
   "outputs": [
    {
     "name": "stdout",
     "output_type": "stream",
     "text": [
      "60000/60000 [==============================] - 31s 518us/sample - loss: 0.9957 - categorical_accuracy: 0.6507\n",
      "10000/10000 [==============================] - 5s 532us/sample - loss: 0.9900 - categorical_accuracy: 0.6524\n",
      "Train Accuracy: 65.07499814033508\n",
      "Test Accuracy: 65.2400016784668\n"
     ]
    }
   ],
   "source": [
    "train_score = model_A.evaluate(x_train, y_train)\n",
    "test_score = model_A.evaluate(x_test, y_test)\n",
    "print(f'Train Accuracy: {train_score[1]*100}')\n",
    "print(f'Test Accuracy: {test_score[1]*100}')"
   ]
  },
  {
   "cell_type": "code",
   "execution_count": 39,
   "metadata": {},
   "outputs": [],
   "source": [
    "# 觀察: 因使用Frozen，故權重並無改變，不過用此進行遷移學習後的神經網路訓練成果微佳，正確率由原先60.54%上升到了70.22%"
   ]
  }
 ],
 "metadata": {
  "kernelspec": {
   "display_name": "Python 3",
   "language": "python",
   "name": "python3"
  },
  "language_info": {
   "codemirror_mode": {
    "name": "ipython",
    "version": 3
   },
   "file_extension": ".py",
   "mimetype": "text/x-python",
   "name": "python",
   "nbconvert_exporter": "python",
   "pygments_lexer": "ipython3",
   "version": "3.7.3"
  }
 },
 "nbformat": 4,
 "nbformat_minor": 2
}
