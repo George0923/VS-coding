{
 "cells": [
  {
   "cell_type": "code",
   "execution_count": 2,
   "metadata": {},
   "outputs": [],
   "source": [
    "%matplotlib inline\n",
    "import numpy as np\n",
    "import pandas as pd\n",
    "import matplotlib.pyplot as plt\n",
    "import random"
   ]
  },
  {
   "cell_type": "code",
   "execution_count": 10,
   "metadata": {},
   "outputs": [
    {
     "name": "stdout",
     "output_type": "stream",
     "text": [
      "請輸入欲查詢年份:2019\n",
      "西元年 2019 若換算為農曆年則為 己亥 年\n"
     ]
    }
   ],
   "source": [
    "y = int(input(\"請輸入欲查詢年份:\"))\n",
    "sky = ['癸', '甲', '乙', '丙', '丁', '戊', '己', '庚', '辛', '壬']\n",
    "land = ['亥', '子', '丑', '寅', '卯', '辰', '巳', '午', '未', '申', '酉', '戌']\n",
    "       \n",
    "a = (y-1913) % 10\n",
    "skystr = sky[a]\n",
    "b = (y-1911) % 12\n",
    "landstr = land[b]\n",
    "print('西元年', y, '若換算為農曆年則為', skystr + landstr, \"年\")"
   ]
  },
  {
   "cell_type": "code",
   "execution_count": null,
   "metadata": {},
   "outputs": [],
   "source": []
  }
 ],
 "metadata": {
  "kernelspec": {
   "display_name": "Python 3",
   "language": "python",
   "name": "python3"
  },
  "language_info": {
   "codemirror_mode": {
    "name": "ipython",
    "version": 3
   },
   "file_extension": ".py",
   "mimetype": "text/x-python",
   "name": "python",
   "nbconvert_exporter": "python",
   "pygments_lexer": "ipython3",
   "version": "3.7.3"
  }
 },
 "nbformat": 4,
 "nbformat_minor": 2
}
