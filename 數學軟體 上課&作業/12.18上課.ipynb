{
 "cells": [
  {
   "cell_type": "markdown",
   "metadata": {},
   "source": [
    "# 找一個好的編輯器"
   ]
  },
  {
   "cell_type": "markdown",
   "metadata": {},
   "source": [
    "* Visual Studio Code\n",
    "* VIM (可在終端機使用) (可隨時進行程式修改 幾乎每台電腦都會有終端機)"
   ]
  },
  {
   "cell_type": "code",
   "execution_count": 2,
   "metadata": {},
   "outputs": [],
   "source": [
    "! mkdir eggs #新設資料夾"
   ]
  },
  {
   "cell_type": "code",
   "execution_count": 5,
   "metadata": {},
   "outputs": [
    {
     "name": "stdout",
     "output_type": "stream",
     "text": [
      "[WinError 2] 系統找不到指定的檔案。: 'eggs #查詢路徑'\n",
      "C:\\Users\\USER\\eggs\n"
     ]
    }
   ],
   "source": [
    "%cd eggs #查詢路徑"
   ]
  },
  {
   "cell_type": "code",
   "execution_count": 10,
   "metadata": {},
   "outputs": [
    {
     "name": "stdout",
     "output_type": "stream",
     "text": [
      "7\n"
     ]
    }
   ],
   "source": [
    "import random\n",
    "x = random.randint(1,100)\n",
    "print(x)"
   ]
  },
  {
   "cell_type": "code",
   "execution_count": 11,
   "metadata": {},
   "outputs": [],
   "source": [
    "from random import randint"
   ]
  },
  {
   "cell_type": "code",
   "execution_count": 12,
   "metadata": {},
   "outputs": [
    {
     "name": "stdout",
     "output_type": "stream",
     "text": [
      "62, 84, 54, 91, 84, 59, 46, 72, 97, 3, 32, 22, 8, 51, 51, 44, 81, 65, 77, 78, 72, 29, 66, 55, 2, 72, 15, 95, 40, 60, 43, 59, 21, 13, 76, 27, 54, 96, 80, 66, 34, 3, 85, 89, 65, 11, 98, 93, 91, 32, 58, 49, 21, 11, 13, 89, 67, 21, 93, 63, 2, 75, 51, 33, 61, 61, 4, 83, 8, 61, 37, 48, 85, 85, 4, 22, 20, 80, 4, 42, 43, 97, 81, 17, 30, 78, 63, 51, 52, 91, 15, 67, 69, 54, 14, 59, 76, 45, 41, 63, "
     ]
    }
   ],
   "source": [
    "for i in range(100):\n",
    "    print(randint(1,100), end=', ') #僅出現1~100"
   ]
  },
  {
   "cell_type": "code",
   "execution_count": 13,
   "metadata": {},
   "outputs": [],
   "source": [
    "import numpy as np"
   ]
  },
  {
   "cell_type": "code",
   "execution_count": 14,
   "metadata": {},
   "outputs": [
    {
     "name": "stdout",
     "output_type": "stream",
     "text": [
      "48, 19, 26, 98, 98, 76, 51, 96, 93, 77, 46, 30, 95, 94, 33, 43, 26, 72, 74, 27, 97, 1, 1, 44, 41, 25, 83, 78, 62, 28, 77, 2, 85, 82, 11, 84, 59, 90, 75, 20, 60, 83, 7, 21, 41, 3, 62, 33, 57, 93, 46, 18, 36, 52, 52, 2, 39, 5, 26, 34, 50, 87, 85, 28, 8, 10, 89, 95, 81, 51, 19, 88, 40, 22, 60, 33, 66, 19, 96, 44, 24, 28, 94, 16, 45, 21, 98, 74, 12, 3, 11, 29, 31, 56, 90, 97, 20, 81, 86, 75, "
     ]
    }
   ],
   "source": [
    "for i in range(100):\n",
    "    print(np.random.randint(1,100), end=', ') #僅出現1~99"
   ]
  },
  {
   "cell_type": "code",
   "execution_count": 16,
   "metadata": {},
   "outputs": [
    {
     "name": "stdout",
     "output_type": "stream",
     "text": [
      "你今天的幸運數字是 71 !\n"
     ]
    }
   ],
   "source": [
    "n = randint(1,100)\n",
    "print(\"你今天的幸運數字是\", n,\"!\")"
   ]
  },
  {
   "cell_type": "code",
   "execution_count": 21,
   "metadata": {},
   "outputs": [
    {
     "name": "stdout",
     "output_type": "stream",
     "text": [
      "File `spam.py` exists. Overwrite (y/[N])?  y\n",
      "The following commands were written to file `spam.py`:\n",
      "x = random.randint(1,101)\n",
      "print(x)\n"
     ]
    }
   ],
   "source": [
    "%save spam.py 6 10 #存取 檔名為spam的python檔"
   ]
  },
  {
   "cell_type": "markdown",
   "metadata": {},
   "source": [
    "# Python 網頁框架\n",
    "\n",
    "* Django(大型專案)\n",
    "* Flask(小巧)"
   ]
  },
  {
   "cell_type": "markdown",
   "metadata": {},
   "source": [
    "## Streamlit\n",
    "\n",
    "! pip install streamlit (在終端機時)"
   ]
  },
  {
   "cell_type": "code",
   "execution_count": 22,
   "metadata": {},
   "outputs": [
    {
     "name": "stdout",
     "output_type": "stream",
     "text": [
      "Collecting streamlit\n",
      "  Downloading https://files.pythonhosted.org/packages/4d/29/d487f39ffb8d4f2a7dee198e7c616b08246dad111055894ef6a481297ba3/streamlit-0.52.0-py2.py3-none-any.whl (6.2MB)\n",
      "Collecting tzlocal\n",
      "  Downloading https://files.pythonhosted.org/packages/ef/99/53bd1ac9349262f59c1c421d8fcc2559ae8a5eeffed9202684756b648d33/tzlocal-2.0.0-py2.py3-none-any.whl\n",
      "Collecting altair>=3.2.0\n",
      "  Downloading https://files.pythonhosted.org/packages/67/fe/2584ab143719f073abb4884049a1ef2e5daf277d9c5a3a47df03cd7ad4ab/altair-4.0.0-py2.py3-none-any.whl (709kB)\n",
      "Requirement already satisfied: future in c:\\users\\user\\anaconda3\\lib\\site-packages (from streamlit) (0.17.1)\n",
      "Collecting validators\n",
      "  Downloading https://files.pythonhosted.org/packages/72/8a/f99287daae8cfef938e6eec785f6e259bf6bad93269d5398bb546d5b1563/validators-0.14.1.tar.gz\n",
      "Collecting watchdog\n",
      "  Downloading https://files.pythonhosted.org/packages/bb/e3/5a55d48a29300160779f0a0d2776d17c1b762a2039b36de528b093b87d5b/watchdog-0.9.0.tar.gz (85kB)\n",
      "Collecting protobuf>=3.6.0\n",
      "  Downloading https://files.pythonhosted.org/packages/30/c6/286db43e2d0d4b89d328a222365c7a253a99a24067812253f0d4f8eb0f1c/protobuf-3.11.2-cp37-cp37m-win_amd64.whl (1.0MB)\n",
      "Requirement already satisfied: numpy in c:\\users\\user\\anaconda3\\lib\\site-packages (from streamlit) (1.16.4)\n",
      "Collecting pillow>=6.2.0\n",
      "  Downloading https://files.pythonhosted.org/packages/70/f4/9dd0b7b0fea09cf4e7a2822031f2157f40d41f0252a89558bdb583e24ef1/Pillow-6.2.1-cp37-cp37m-win_amd64.whl (2.0MB)\n",
      "Collecting botocore\n",
      "  Downloading https://files.pythonhosted.org/packages/6f/7c/d39d8dd612cd1631a86f2901538621482e8fd97f1dc1c73b1260f535d976/botocore-1.13.44-py2.py3-none-any.whl (5.8MB)\n",
      "Requirement already satisfied: python-dateutil<=2.8.0 in c:\\users\\user\\anaconda3\\lib\\site-packages (from streamlit) (2.8.0)\n",
      "Requirement already satisfied: requests in c:\\users\\user\\anaconda3\\lib\\site-packages (from streamlit) (2.22.0)\n",
      "Collecting enum-compat\n",
      "  Downloading https://files.pythonhosted.org/packages/55/ae/467bc4509246283bb59746e21a1a2f5a8aecbef56b1fa6eaca78cd438c8b/enum_compat-0.0.3-py3-none-any.whl\n",
      "Collecting tornado<6.0,>=5.0\n",
      "  Downloading https://files.pythonhosted.org/packages/d7/d5/99aff77c15da335e3dbf30254b304a526494dca8e51b4b47419772e35a4e/tornado-5.1.1-cp37-cp37m-win_amd64.whl (455kB)\n",
      "Collecting astor\n",
      "  Downloading https://files.pythonhosted.org/packages/c3/88/97eef84f48fa04fbd6750e62dcceafba6c63c81b7ac1420856c8dcc0a3f9/astor-0.8.1-py2.py3-none-any.whl\n",
      "Collecting boto3\n",
      "  Downloading https://files.pythonhosted.org/packages/b5/27/d2fce3e49c992b180e7340dd41ed1f098f2b0370f4a0e17d36a76b32a23a/boto3-1.10.44-py2.py3-none-any.whl (128kB)\n",
      "Collecting base58\n",
      "  Downloading https://files.pythonhosted.org/packages/09/b2/21ac9591f055acc145afead895edeb73bbd69d95cf366fc5c2233f2434cb/base58-1.0.3-py3-none-any.whl\n",
      "Requirement already satisfied: pandas>=0.21.0 in c:\\users\\user\\anaconda3\\lib\\site-packages (from streamlit) (0.24.2)\n",
      "Collecting toml\n",
      "  Downloading https://files.pythonhosted.org/packages/a2/12/ced7105d2de62fa7c8fb5fce92cc4ce66b57c95fb875e9318dba7f8c5db0/toml-0.10.0-py2.py3-none-any.whl\n",
      "Collecting blinker\n",
      "  Downloading https://files.pythonhosted.org/packages/1b/51/e2a9f3b757eb802f61dc1f2b09c8c99f6eb01cf06416c0671253536517b6/blinker-1.4.tar.gz (111kB)\n",
      "Requirement already satisfied: click>=7.0 in c:\\users\\user\\anaconda3\\lib\\site-packages (from streamlit) (7.0)\n",
      "Requirement already satisfied: pytz in c:\\users\\user\\anaconda3\\lib\\site-packages (from tzlocal->streamlit) (2019.1)\n",
      "Requirement already satisfied: jinja2 in c:\\users\\user\\anaconda3\\lib\\site-packages (from altair>=3.2.0->streamlit) (2.10.1)\n",
      "Requirement already satisfied: entrypoints in c:\\users\\user\\anaconda3\\lib\\site-packages (from altair>=3.2.0->streamlit) (0.3)\n",
      "Requirement already satisfied: toolz in c:\\users\\user\\anaconda3\\lib\\site-packages (from altair>=3.2.0->streamlit) (0.10.0)\n",
      "Requirement already satisfied: jsonschema in c:\\users\\user\\anaconda3\\lib\\site-packages (from altair>=3.2.0->streamlit) (3.0.1)\n",
      "Requirement already satisfied: six>=1.4.0 in c:\\users\\user\\anaconda3\\lib\\site-packages (from validators->streamlit) (1.12.0)\n",
      "Requirement already satisfied: decorator>=3.4.0 in c:\\users\\user\\anaconda3\\lib\\site-packages (from validators->streamlit) (4.4.0)\n",
      "Requirement already satisfied: PyYAML>=3.10 in c:\\users\\user\\anaconda3\\lib\\site-packages (from watchdog->streamlit) (5.1.1)\n",
      "Collecting argh>=0.24.1\n",
      "  Downloading https://files.pythonhosted.org/packages/06/1c/e667a7126f0b84aaa1c56844337bf0ac12445d1beb9c8a6199a7314944bf/argh-0.26.2-py2.py3-none-any.whl\n",
      "Collecting pathtools>=0.1.1\n",
      "  Downloading https://files.pythonhosted.org/packages/e7/7f/470d6fcdf23f9f3518f6b0b76be9df16dcc8630ad409947f8be2eb0ed13a/pathtools-0.1.2.tar.gz\n",
      "Requirement already satisfied: setuptools in c:\\users\\user\\anaconda3\\lib\\site-packages (from protobuf>=3.6.0->streamlit) (41.0.1)\n",
      "Requirement already satisfied: urllib3<1.26,>=1.20; python_version >= \"3.4\" in c:\\users\\user\\anaconda3\\lib\\site-packages (from botocore->streamlit) (1.24.2)\n",
      "Requirement already satisfied: docutils<0.16,>=0.10 in c:\\users\\user\\anaconda3\\lib\\site-packages (from botocore->streamlit) (0.14)\n",
      "Collecting jmespath<1.0.0,>=0.7.1\n",
      "  Downloading https://files.pythonhosted.org/packages/83/94/7179c3832a6d45b266ddb2aac329e101367fbdb11f425f13771d27f225bb/jmespath-0.9.4-py2.py3-none-any.whl\n",
      "Requirement already satisfied: idna<2.9,>=2.5 in c:\\users\\user\\anaconda3\\lib\\site-packages (from requests->streamlit) (2.8)\n",
      "Requirement already satisfied: chardet<3.1.0,>=3.0.2 in c:\\users\\user\\anaconda3\\lib\\site-packages (from requests->streamlit) (3.0.4)\n",
      "Requirement already satisfied: certifi>=2017.4.17 in c:\\users\\user\\anaconda3\\lib\\site-packages (from requests->streamlit) (2019.6.16)\n",
      "Collecting s3transfer<0.3.0,>=0.2.0\n",
      "  Downloading https://files.pythonhosted.org/packages/16/8a/1fc3dba0c4923c2a76e1ff0d52b305c44606da63f718d14d3231e21c51b0/s3transfer-0.2.1-py2.py3-none-any.whl (70kB)\n",
      "Requirement already satisfied: MarkupSafe>=0.23 in c:\\users\\user\\anaconda3\\lib\\site-packages (from jinja2->altair>=3.2.0->streamlit) (1.1.1)\n",
      "Requirement already satisfied: attrs>=17.4.0 in c:\\users\\user\\anaconda3\\lib\\site-packages (from jsonschema->altair>=3.2.0->streamlit) (19.1.0)\n",
      "Requirement already satisfied: pyrsistent>=0.14.0 in c:\\users\\user\\anaconda3\\lib\\site-packages (from jsonschema->altair>=3.2.0->streamlit) (0.14.11)\n",
      "Building wheels for collected packages: validators, watchdog, blinker, pathtools\n",
      "  Building wheel for validators (setup.py): started\n",
      "  Building wheel for validators (setup.py): finished with status 'done'\n",
      "  Created wheel for validators: filename=validators-0.14.1-cp37-none-any.whl size=17245 sha256=d18f4accfce4bd31e7d644f475991b78d922f2aa75a79a5ce0b63b6b3923fd6d\n",
      "  Stored in directory: C:\\Users\\USER\\AppData\\Local\\pip\\Cache\\wheels\\a1\\fb\\78\\272466691f4117974f8d5811e4060fc61e1179a1c00db6f9bb\n",
      "  Building wheel for watchdog (setup.py): started\n",
      "  Building wheel for watchdog (setup.py): finished with status 'done'\n",
      "  Created wheel for watchdog: filename=watchdog-0.9.0-cp37-none-any.whl size=73657 sha256=e075730390b3f09fec6b610eeb61a82d53a42ca4c67aaefde7f17698b01aa55d\n",
      "  Stored in directory: C:\\Users\\USER\\AppData\\Local\\pip\\Cache\\wheels\\61\\1d\\d0\\04cfe495619be2095eb8d89a31c42adb4e42b76495bc8f784c\n",
      "  Building wheel for blinker (setup.py): started\n",
      "  Building wheel for blinker (setup.py): finished with status 'done'\n",
      "  Created wheel for blinker: filename=blinker-1.4-cp37-none-any.whl size=13454 sha256=702ee063218758b8590872efc3ed12d3d9095104978839c9c6a46242d506459e\n",
      "  Stored in directory: C:\\Users\\USER\\AppData\\Local\\pip\\Cache\\wheels\\92\\a0\\00\\8690a57883956a301d91cf4ec999cc0b258b01e3f548f86e89\n",
      "  Building wheel for pathtools (setup.py): started\n",
      "  Building wheel for pathtools (setup.py): finished with status 'done'\n",
      "  Created wheel for pathtools: filename=pathtools-0.1.2-cp37-none-any.whl size=8793 sha256=1cb97f362d616f83ad9d4399af00ffa4b728e1cd37e835950d3e0fbefa13f69f\n",
      "  Stored in directory: C:\\Users\\USER\\AppData\\Local\\pip\\Cache\\wheels\\0b\\04\\79\\c3b0c3a0266a3cb4376da31e5bfe8bba0c489246968a68e843\n",
      "Successfully built validators watchdog blinker pathtools\n",
      "Installing collected packages: tzlocal, altair, validators, argh, pathtools, watchdog, protobuf, pillow, jmespath, botocore, enum-compat, tornado, astor, s3transfer, boto3, base58, toml, blinker, streamlit\n",
      "  Found existing installation: Pillow 6.1.0\n",
      "    Uninstalling Pillow-6.1.0:\n",
      "      Successfully uninstalled Pillow-6.1.0\n",
      "  Found existing installation: tornado 6.0.3\n",
      "    Uninstalling tornado-6.0.3:\n",
      "      Successfully uninstalled tornado-6.0.3\n",
      "Note: you may need to restart the kernel to use updated packages.\n"
     ]
    },
    {
     "name": "stderr",
     "output_type": "stream",
     "text": [
      "ERROR: Could not install packages due to an EnvironmentError: [WinError 5] 存取被拒。: 'c:\\\\users\\\\user\\\\anaconda3\\\\lib\\\\site-packages\\\\~ornado\\\\speedups.cp37-win_amd64.pyd'\n",
      "Consider using the `--user` option or check the permissions.\n",
      "\n"
     ]
    }
   ],
   "source": [
    "pip install streamlit"
   ]
  },
  {
   "cell_type": "code",
   "execution_count": 25,
   "metadata": {},
   "outputs": [
    {
     "name": "stdout",
     "output_type": "stream",
     "text": [
      "Writing web01.py\n"
     ]
    }
   ],
   "source": [
    "%%writefile web01.py  \n",
    "#存入檔名為web01的python檔案中\n",
    "import pandas as pd\n",
    "\n",
    "df = pd.DataFrame({\"A\": [33, 99, 88], \"B\": [94, 87, 1000]})\n",
    "\n",
    "df"
   ]
  },
  {
   "cell_type": "code",
   "execution_count": 26,
   "metadata": {},
   "outputs": [
    {
     "name": "stdout",
     "output_type": "stream",
     "text": [
      " 磁碟區 C 中的磁碟是 OS\n",
      " 磁碟區序號:  9016-84BD\n",
      "\n",
      " C:\\Users\\USER\\eggs 的目錄\n",
      "\n",
      "2019/12/22  上午 11:35    <DIR>          .\n",
      "2019/12/22  上午 11:35    <DIR>          ..\n",
      "2019/12/22  上午 11:28                18 ham.py.code-workspace\n",
      "2019/12/22  上午 11:12                54 spam.py\n",
      "2019/12/22  上午 11:35               131 web01.py\n",
      "               3 個檔案             203 位元組\n",
      "               2 個目錄  64,705,769,472 位元組可用\n"
     ]
    }
   ],
   "source": [
    "%ls"
   ]
  },
  {
   "cell_type": "code",
   "execution_count": 29,
   "metadata": {},
   "outputs": [
    {
     "name": "stderr",
     "output_type": "stream",
     "text": [
      "'streamlit' 不是內部或外部命令、可執行的程式或批次檔。\n"
     ]
    }
   ],
   "source": [
    "!streamlit run web01.py"
   ]
  },
  {
   "cell_type": "code",
   "execution_count": 35,
   "metadata": {},
   "outputs": [
    {
     "name": "stdout",
     "output_type": "stream",
     "text": [
      "Overwriting web03.py\n"
     ]
    }
   ],
   "source": [
    "%%writefile web03.py\n",
    "import streamlit as st\n",
    "import numpy as np\n",
    "import matplotlib.pyplot as plt\n",
    "import pandas as pd\n",
    "\n",
    "st.title(\"matplotlib 畫圖\")\n",
    "st.markdown(r\"畫一個 $\\dfrac{\\sin(x)}{x})\n",
    "\n",
    "X = np.linspace(-10,10,200)\n",
    "Y = np.sinc(X)\n",
    "plt.plot(X,Y);\n",
    "st.pyplot()"
   ]
  },
  {
   "cell_type": "code",
   "execution_count": 36,
   "metadata": {},
   "outputs": [
    {
     "name": "stderr",
     "output_type": "stream",
     "text": [
      "'streamlit' 不是內部或外部命令、可執行的程式或批次檔。\n"
     ]
    }
   ],
   "source": [
    "!streamlit run web03.py"
   ]
  },
  {
   "cell_type": "code",
   "execution_count": 37,
   "metadata": {},
   "outputs": [
    {
     "name": "stdout",
     "output_type": "stream",
     "text": [
      "Writing web04.py\n"
     ]
    }
   ],
   "source": [
    "%%writefile web04.py\n",
    "import streamlit as st\n",
    "import matplotlib.pyplot as plt\n",
    "import numpy as np\n",
    "import pandas as pd\n",
    "\n",
    "city = st.selectbox('居住地',[\"台北市\",\"台中市\",\"高雄市\"])\n",
    "\n",
    "st.write(f\"你選擇了\", city, \"!\")"
   ]
  },
  {
   "cell_type": "code",
   "execution_count": 39,
   "metadata": {},
   "outputs": [
    {
     "name": "stderr",
     "output_type": "stream",
     "text": [
      "'streamlit' 不是內部或外部命令、可執行的程式或批次檔。\n"
     ]
    }
   ],
   "source": [
    "!streamlit run web04.py"
   ]
  },
  {
   "cell_type": "code",
   "execution_count": 40,
   "metadata": {},
   "outputs": [
    {
     "name": "stdout",
     "output_type": "stream",
     "text": [
      "Writing web05.py\n"
     ]
    }
   ],
   "source": [
    "%%writefile web05.py\n",
    "import pandas as pd\n",
    "\n",
    "coffee = st.slider(\"咖啡粉量\", 10.0,45.0,\n",
    "                  20.0,0.5)\n",
    "water = 15*coffee\n",
    "\n",
    "st.write(f\"咖啡粉\", coffee,\"克,請使用\",water,\"克的水)"
   ]
  },
  {
   "cell_type": "code",
   "execution_count": 41,
   "metadata": {},
   "outputs": [
    {
     "name": "stderr",
     "output_type": "stream",
     "text": [
      "'streamlit' 不是內部或外部命令、可執行的程式或批次檔。\n"
     ]
    }
   ],
   "source": [
    "!streamlit run web06.py"
   ]
  },
  {
   "cell_type": "code",
   "execution_count": null,
   "metadata": {},
   "outputs": [],
   "source": [
    "%%writefile web06.py\n",
    "import streamlit as st\n",
    "import matplotlib.pyplot as plt\n",
    "import numpy as np\n",
    "import pandas as pd\n",
    "\n",
    "map_data = pd.DataFrame(np.random.randn(150,2)/[100,100])"
   ]
  }
 ],
 "metadata": {
  "kernelspec": {
   "display_name": "Python 3",
   "language": "python",
   "name": "python3"
  },
  "language_info": {
   "codemirror_mode": {
    "name": "ipython",
    "version": 3
   },
   "file_extension": ".py",
   "mimetype": "text/x-python",
   "name": "python",
   "nbconvert_exporter": "python",
   "pygments_lexer": "ipython3",
   "version": "3.7.3"
  }
 },
 "nbformat": 4,
 "nbformat_minor": 2
}
