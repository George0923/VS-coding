{
 "cells": [
  {
   "cell_type": "markdown",
   "metadata": {},
   "source": [
    "# 匯入所需套件"
   ]
  },
  {
   "cell_type": "code",
   "execution_count": 1,
   "metadata": {},
   "outputs": [],
   "source": [
    "import matplotlib.pyplot as plt\n",
    "import numpy as np\n",
    "\n",
    "# Layers for FNN\n",
    "from tensorflow.keras.models import Sequential\n",
    "from tensorflow.keras.layers import Dense\n",
    "from tensorflow.keras.layers import Flatten\n",
    "\n",
    "# Layers for CNN\n",
    "from tensorflow.keras.layers import Conv2D, MaxPool2D, GlobalAveragePooling2D\n",
    "\n",
    "from tensorflow.keras.optimizers import SGD, Adam\n",
    "\n",
    "# For data preprocessing\n",
    "from tensorflow.keras import datasets\n",
    "from tensorflow.keras.utils import to_categorical\n",
    "\n",
    "from tensorflow.keras.models import Model\n",
    "from tensorflow.keras.layers import Input\n",
    "from tensorflow.keras.layers import concatenate, add\n",
    "from IPython.display import Image"
   ]
  },
  {
   "cell_type": "markdown",
   "metadata": {},
   "source": [
    "# 下載並整理Fashion_minst 資料集"
   ]
  },
  {
   "cell_type": "code",
   "execution_count": 2,
   "metadata": {},
   "outputs": [],
   "source": [
    "(X_train, y_train0), (X_test, y_test0) = datasets.fashion_mnist.load_data()\n",
    "\n",
    "#Reshape\n",
    "X_train = X_train.reshape(-1, 28*28)\n",
    "X_test = X_test.reshape(-1, 28*28)\n",
    "\n",
    "# Normalize the range\n",
    "X_train = X_train / X_train.max()\n",
    "X_test = X_test / X_test.max()\n",
    "\n",
    "# One-hot encoding\n",
    "y_train = to_categorical(y_train0, 10)\n",
    "y_test = to_categorical(y_test0, 10)"
   ]
  },
  {
   "cell_type": "markdown",
   "metadata": {},
   "source": [
    "# 定義各層的函數"
   ]
  },
  {
   "cell_type": "code",
   "execution_count": 34,
   "metadata": {},
   "outputs": [],
   "source": [
    "x = Input(shape=(784,))\n",
    "f_1 = Dense(500,activation='sigmoid')\n",
    "f_2 = Dense(400,activation='sigmoid')\n",
    "f_3 = Dense(300,activation='sigmoid')\n",
    "f_4 = Dense(10,activation='softmax')"
   ]
  },
  {
   "cell_type": "code",
   "execution_count": 35,
   "metadata": {},
   "outputs": [],
   "source": [
    "h_1 = f_1(x)\n",
    "h_2 = f_2(h_1)\n",
    "a = f_3(h_1)\n",
    "b = concatenate([h_2,a])\n",
    "y = f_4(b)"
   ]
  },
  {
   "cell_type": "markdown",
   "metadata": {},
   "source": [
    "# 搭建模型"
   ]
  },
  {
   "cell_type": "code",
   "execution_count": 36,
   "metadata": {},
   "outputs": [],
   "source": [
    "model = Model(x,y)"
   ]
  },
  {
   "cell_type": "code",
   "execution_count": 37,
   "metadata": {},
   "outputs": [
    {
     "name": "stdout",
     "output_type": "stream",
     "text": [
      "Model: \"model_3\"\n",
      "__________________________________________________________________________________________________\n",
      "Layer (type)                    Output Shape         Param #     Connected to                     \n",
      "==================================================================================================\n",
      "input_3 (InputLayer)            [(None, 784)]        0                                            \n",
      "__________________________________________________________________________________________________\n",
      "dense_8 (Dense)                 (None, 500)          392500      input_3[0][0]                    \n",
      "__________________________________________________________________________________________________\n",
      "dense_9 (Dense)                 (None, 400)          200400      dense_8[0][0]                    \n",
      "__________________________________________________________________________________________________\n",
      "dense_10 (Dense)                (None, 300)          150300      dense_8[0][0]                    \n",
      "__________________________________________________________________________________________________\n",
      "concatenate_3 (Concatenate)     (None, 700)          0           dense_9[0][0]                    \n",
      "                                                                 dense_10[0][0]                   \n",
      "__________________________________________________________________________________________________\n",
      "dense_11 (Dense)                (None, 10)           7010        concatenate_3[0][0]              \n",
      "==================================================================================================\n",
      "Total params: 750,210\n",
      "Trainable params: 750,210\n",
      "Non-trainable params: 0\n",
      "__________________________________________________________________________________________________\n"
     ]
    }
   ],
   "source": [
    "model.summary()"
   ]
  },
  {
   "cell_type": "code",
   "execution_count": 38,
   "metadata": {},
   "outputs": [
    {
     "name": "stdout",
     "output_type": "stream",
     "text": [
      "Input shape: (None, 784)\n",
      "Output shape: (None, 10)\n"
     ]
    }
   ],
   "source": [
    "print(f'Input shape: {model.input_shape}')\n",
    "print(f'Output shape: {model.output_shape}')"
   ]
  },
  {
   "cell_type": "markdown",
   "metadata": {},
   "source": [
    "# 訓練"
   ]
  },
  {
   "cell_type": "code",
   "execution_count": 39,
   "metadata": {},
   "outputs": [],
   "source": [
    "model.compile(loss='categorical_crossentropy', optimizer = 'sgd', metrics=['categorical_accuracy'])"
   ]
  },
  {
   "cell_type": "code",
   "execution_count": 40,
   "metadata": {},
   "outputs": [
    {
     "name": "stdout",
     "output_type": "stream",
     "text": [
      "Train on 60000 samples, validate on 10000 samples\n",
      "Epoch 1/25\n",
      "60000/60000 [==============================] - 8s 133us/sample - loss: 2.2052 - categorical_accuracy: 0.3064 - val_loss: 2.0939 - val_categorical_accuracy: 0.5792\n",
      "Epoch 2/25\n",
      "60000/60000 [==============================] - 6s 100us/sample - loss: 1.9529 - categorical_accuracy: 0.5225 - val_loss: 1.7955 - val_categorical_accuracy: 0.5699\n",
      "Epoch 3/25\n",
      "60000/60000 [==============================] - 6s 107us/sample - loss: 1.6298 - categorical_accuracy: 0.6005 - val_loss: 1.4828 - val_categorical_accuracy: 0.5972\n",
      "Epoch 4/25\n",
      "60000/60000 [==============================] - 6s 105us/sample - loss: 1.3646 - categorical_accuracy: 0.6493 - val_loss: 1.2688 - val_categorical_accuracy: 0.6521\n",
      "Epoch 5/25\n",
      "60000/60000 [==============================] - 7s 109us/sample - loss: 1.1890 - categorical_accuracy: 0.6737 - val_loss: 1.1288 - val_categorical_accuracy: 0.6535\n",
      "Epoch 6/25\n",
      "60000/60000 [==============================] - 6s 104us/sample - loss: 1.0683 - categorical_accuracy: 0.6936 - val_loss: 1.0310 - val_categorical_accuracy: 0.6830\n",
      "Epoch 7/25\n",
      "60000/60000 [==============================] - 6s 101us/sample - loss: 0.9803 - categorical_accuracy: 0.7055 - val_loss: 0.9502 - val_categorical_accuracy: 0.7093\n",
      "Epoch 8/25\n",
      "60000/60000 [==============================] - 6s 104us/sample - loss: 0.9127 - categorical_accuracy: 0.7165 - val_loss: 0.8926 - val_categorical_accuracy: 0.7159\n",
      "Epoch 9/25\n",
      "60000/60000 [==============================] - 6s 106us/sample - loss: 0.8589 - categorical_accuracy: 0.7230 - val_loss: 0.8485 - val_categorical_accuracy: 0.7189\n",
      "Epoch 10/25\n",
      "60000/60000 [==============================] - 7s 112us/sample - loss: 0.8159 - categorical_accuracy: 0.7303 - val_loss: 0.8085 - val_categorical_accuracy: 0.7214\n",
      "Epoch 11/25\n",
      "60000/60000 [==============================] - 6s 107us/sample - loss: 0.7812 - categorical_accuracy: 0.7353 - val_loss: 0.7788 - val_categorical_accuracy: 0.7249\n",
      "Epoch 12/25\n",
      "60000/60000 [==============================] - 6s 106us/sample - loss: 0.7526 - categorical_accuracy: 0.7395 - val_loss: 0.7528 - val_categorical_accuracy: 0.7342\n",
      "Epoch 13/25\n",
      "60000/60000 [==============================] - 6s 103us/sample - loss: 0.7292 - categorical_accuracy: 0.7435 - val_loss: 0.7301 - val_categorical_accuracy: 0.7406\n",
      "Epoch 14/25\n",
      "60000/60000 [==============================] - 6s 107us/sample - loss: 0.7094 - categorical_accuracy: 0.7477 - val_loss: 0.7139 - val_categorical_accuracy: 0.7397\n",
      "Epoch 15/25\n",
      "60000/60000 [==============================] - 8s 127us/sample - loss: 0.6928 - categorical_accuracy: 0.7509 - val_loss: 0.6994 - val_categorical_accuracy: 0.7440\n",
      "Epoch 16/25\n",
      "60000/60000 [==============================] - 6s 108us/sample - loss: 0.6785 - categorical_accuracy: 0.7541 - val_loss: 0.6870 - val_categorical_accuracy: 0.7435\n",
      "Epoch 17/25\n",
      "60000/60000 [==============================] - 7s 118us/sample - loss: 0.6657 - categorical_accuracy: 0.7581 - val_loss: 0.6737 - val_categorical_accuracy: 0.7534\n",
      "Epoch 18/25\n",
      "60000/60000 [==============================] - 6s 98us/sample - loss: 0.6543 - categorical_accuracy: 0.7618 - val_loss: 0.6641 - val_categorical_accuracy: 0.7544\n",
      "Epoch 19/25\n",
      "60000/60000 [==============================] - 8s 135us/sample - loss: 0.6440 - categorical_accuracy: 0.7634 - val_loss: 0.6534 - val_categorical_accuracy: 0.7586\n",
      "Epoch 20/25\n",
      "60000/60000 [==============================] - 7s 114us/sample - loss: 0.6344 - categorical_accuracy: 0.7683 - val_loss: 0.6439 - val_categorical_accuracy: 0.7629\n",
      "Epoch 21/25\n",
      "60000/60000 [==============================] - 6s 106us/sample - loss: 0.6260 - categorical_accuracy: 0.7701 - val_loss: 0.6382 - val_categorical_accuracy: 0.7666\n",
      "Epoch 22/25\n",
      "60000/60000 [==============================] - 6s 107us/sample - loss: 0.6175 - categorical_accuracy: 0.7735 - val_loss: 0.6292 - val_categorical_accuracy: 0.7668\n",
      "Epoch 23/25\n",
      "60000/60000 [==============================] - 6s 102us/sample - loss: 0.6098 - categorical_accuracy: 0.7764 - val_loss: 0.6226 - val_categorical_accuracy: 0.7738\n",
      "Epoch 24/25\n",
      "60000/60000 [==============================] - 6s 105us/sample - loss: 0.6026 - categorical_accuracy: 0.7802 - val_loss: 0.6146 - val_categorical_accuracy: 0.7739\n",
      "Epoch 25/25\n",
      "60000/60000 [==============================] - 6s 101us/sample - loss: 0.5958 - categorical_accuracy: 0.7839 - val_loss: 0.6085 - val_categorical_accuracy: 0.7787\n"
     ]
    }
   ],
   "source": [
    "history = model.fit(X_train, y_train, batch_size = 128, epochs=25, validation_data=(X_test,y_test))"
   ]
  },
  {
   "cell_type": "code",
   "execution_count": 41,
   "metadata": {},
   "outputs": [],
   "source": [
    "model.save_weights('MNIST_Model.h5')"
   ]
  },
  {
   "cell_type": "code",
   "execution_count": 42,
   "metadata": {},
   "outputs": [
    {
     "name": "stdout",
     "output_type": "stream",
     "text": [
      "60000/60000 [==============================] - 2s 36us/sample - loss: 0.5915 - categorical_accuracy: 0.7847\n",
      "Loss: 0.5915375749270121\n",
      "準確率: 78.46500277519226\n"
     ]
    }
   ],
   "source": [
    "score = model.evaluate(X_train, y_train, batch_size = 5000)\n",
    "print(f'Loss: {score[0]}')\n",
    "print(f'準確率: {score[1]*100}')"
   ]
  },
  {
   "cell_type": "code",
   "execution_count": null,
   "metadata": {},
   "outputs": [],
   "source": []
  }
 ],
 "metadata": {
  "kernelspec": {
   "display_name": "Python 3",
   "language": "python",
   "name": "python3"
  },
  "language_info": {
   "codemirror_mode": {
    "name": "ipython",
    "version": 3
   },
   "file_extension": ".py",
   "mimetype": "text/x-python",
   "name": "python",
   "nbconvert_exporter": "python",
   "pygments_lexer": "ipython3",
   "version": "3.7.3"
  }
 },
 "nbformat": 4,
 "nbformat_minor": 2
}
