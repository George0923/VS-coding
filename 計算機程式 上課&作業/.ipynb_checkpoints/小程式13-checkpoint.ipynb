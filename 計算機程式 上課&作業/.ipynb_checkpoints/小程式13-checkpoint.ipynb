{
 "cells": [
  {
   "cell_type": "markdown",
   "metadata": {},
   "source": [
    "# 十進位轉換"
   ]
  },
  {
   "cell_type": "code",
   "execution_count": 16,
   "metadata": {},
   "outputs": [
    {
     "name": "stdout",
     "output_type": "stream",
     "text": [
      "請輸入您想要轉換的值:50000\n",
      "請輸入您想要轉換的進位法(二進位/八進位/十六進位):二進位\n",
      "0b1100001101010000\n"
     ]
    }
   ],
   "source": [
    "a = input('請輸入您想要轉換的值:')\n",
    "b = input('請輸入您想要轉換的進位法(二進位/八進位/十六進位):')\n",
    "c = int(a)\n",
    "if b == '二進位':\n",
    "    bin(c)\n",
    "    print(bin(c))\n",
    "elif b == '八進位':\n",
    "    oct(c)\n",
    "    print(oct(c))\n",
    "elif b == '十六進位':\n",
    "    hex(c)\n",
    "    print(hex(c))\n",
    "else:\n",
    "    print('查無此進位法，請重新輸入。')"
   ]
  },
  {
   "cell_type": "code",
   "execution_count": null,
   "metadata": {},
   "outputs": [],
   "source": []
  }
 ],
 "metadata": {
  "kernelspec": {
   "display_name": "Python 3",
   "language": "python",
   "name": "python3"
  },
  "language_info": {
   "codemirror_mode": {
    "name": "ipython",
    "version": 3
   },
   "file_extension": ".py",
   "mimetype": "text/x-python",
   "name": "python",
   "nbconvert_exporter": "python",
   "pygments_lexer": "ipython3",
   "version": "3.7.3"
  }
 },
 "nbformat": 4,
 "nbformat_minor": 2
}
