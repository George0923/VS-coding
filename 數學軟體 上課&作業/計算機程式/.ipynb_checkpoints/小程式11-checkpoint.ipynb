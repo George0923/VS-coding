{
 "cells": [
  {
   "cell_type": "markdown",
   "metadata": {},
   "source": [
    "# 上樓梯方法(一路可走1、2或3步)"
   ]
  },
  {
   "cell_type": "code",
   "execution_count": 10,
   "metadata": {},
   "outputs": [],
   "source": [
    "%matplotlib inline"
   ]
  },
  {
   "cell_type": "code",
   "execution_count": 23,
   "metadata": {},
   "outputs": [
    {
     "name": "stdout",
     "output_type": "stream",
     "text": [
      "請輸入臺階數量：20\n",
      "總共有 121415 種方法\n"
     ]
    }
   ],
   "source": [
    "def go_upstairs(number):\n",
    "    if number == 1:\n",
    "        return 1\n",
    "    elif number == 2:\n",
    "        return 2\n",
    "    elif number == 3:\n",
    "        return 4\n",
    "    else:\n",
    "        return go_upstairs(number-1)+go_upstairs(number-2)+go_upstairs(number-3)\n",
    "number = input(\"請輸入臺階數量：\")\n",
    "try:\n",
    "    number = int(number)\n",
    "    steps = go_upstairs(number)\n",
    "    print('總共有',steps,'種方法')\n",
    "except Exception as e:\n",
    "    print(\"不是數字\")"
   ]
  },
  {
   "cell_type": "code",
   "execution_count": null,
   "metadata": {},
   "outputs": [],
   "source": []
  }
 ],
 "metadata": {
  "kernelspec": {
   "display_name": "Python 3",
   "language": "python",
   "name": "python3"
  },
  "language_info": {
   "codemirror_mode": {
    "name": "ipython",
    "version": 3
   },
   "file_extension": ".py",
   "mimetype": "text/x-python",
   "name": "python",
   "nbconvert_exporter": "python",
   "pygments_lexer": "ipython3",
   "version": "3.7.3"
  }
 },
 "nbformat": 4,
 "nbformat_minor": 2
}
