{
 "cells": [
  {
   "cell_type": "code",
   "execution_count": 1,
   "metadata": {},
   "outputs": [],
   "source": [
    "%matplotlib inline\n",
    "import numpy as np\n",
    "import matplotlib.pyplot as plt\n",
    "import pandas as pd\n",
    "from ipywidgets import interact\n",
    "import random\n",
    "import webbrowser\n",
    "from IPython.display import display, HTML, Markdown, Image, YouTubeVideo"
   ]
  },
  {
   "cell_type": "code",
   "execution_count": 19,
   "metadata": {},
   "outputs": [],
   "source": [
    "def f(choice):\n",
    "    print(choice)\n",
    "    uropygid = YouTubeVideo('1WefLViMKfE') \n",
    "    sasori = YouTubeVideo('kjyDX0SlZxM')\n",
    "    chicken = YouTubeVideo('7aQxTlSbSRw')\n",
    "    tonglong = YouTubeVideo('FSKvm6VE2ns')\n",
    "    mouse = YouTubeVideo('gDbSeHR5Txg')\n",
    "    space = YouTubeVideo('ZivEkqVCItE')\n",
    "    Centipede = YouTubeVideo('RvlLssHdNkk')\n",
    "    if choice == \"鞭蝎\":\n",
    "        print(\"當小強遇到鞭蝎\")\n",
    "        display(uropygid)\n",
    "    elif choice == \"蠍子\":\n",
    "        print(\"當小強遇到蠍子\")\n",
    "        display(sasori)\n",
    "    elif choice == \"竹雞\":\n",
    "        print(\"當小強遇到竹雞\")\n",
    "        display(chicken)\n",
    "    elif choice == \"螳螂\":\n",
    "        print(\"當小強遇到螳螂\")\n",
    "        display(tonglong)\n",
    "    elif choice == \"老鼠\":\n",
    "        print(\"當小強遇到老鼠\")\n",
    "        display(mouse)\n",
    "    elif choice == \"外太空\":\n",
    "        print(\"當小強遇到外太空\")\n",
    "        display(space)\n",
    "    else:\n",
    "        print(\"當小強遇到蜈蚣\")\n",
    "        display(Centipede)"
   ]
  },
  {
   "cell_type": "code",
   "execution_count": 20,
   "metadata": {},
   "outputs": [
    {
     "data": {
      "application/vnd.jupyter.widget-view+json": {
       "model_id": "dd6b7dc9f9a947b79292e10018112ba3",
       "version_major": 2,
       "version_minor": 0
      },
      "text/plain": [
       "interactive(children=(Dropdown(description='choice', options=('外太空', '蜈蚣', '鞭蝎', '蝎子', '老鼠', '螳螂', '竹雞'), valu…"
      ]
     },
     "metadata": {},
     "output_type": "display_data"
    }
   ],
   "source": [
    "interact(f, choice = {\"鞭蝎\", \"蝎子\", \"竹雞\", \"螳螂\", \"老鼠\", \"外太空\", \"蜈蚣\"});"
   ]
  },
  {
   "cell_type": "code",
   "execution_count": null,
   "metadata": {},
   "outputs": [],
   "source": []
  }
 ],
 "metadata": {
  "kernelspec": {
   "display_name": "Python 3",
   "language": "python",
   "name": "python3"
  },
  "language_info": {
   "codemirror_mode": {
    "name": "ipython",
    "version": 3
   },
   "file_extension": ".py",
   "mimetype": "text/x-python",
   "name": "python",
   "nbconvert_exporter": "python",
   "pygments_lexer": "ipython3",
   "version": "3.7.3"
  }
 },
 "nbformat": 4,
 "nbformat_minor": 2
}
