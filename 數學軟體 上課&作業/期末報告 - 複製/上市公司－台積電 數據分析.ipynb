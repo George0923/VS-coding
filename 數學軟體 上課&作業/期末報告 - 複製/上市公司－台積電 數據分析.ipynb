{
 "cells": [
  {
   "cell_type": "code",
   "execution_count": 1,
   "metadata": {},
   "outputs": [],
   "source": [
    "%matplotlib inline\n",
    "import numpy as np\n",
    "import pandas as pd\n",
    "import matplotlib.pyplot as plt"
   ]
  },
  {
   "cell_type": "markdown",
   "metadata": {},
   "source": [
    "## 讀入上市公司每月營收彙整表數據"
   ]
  },
  {
   "cell_type": "code",
   "execution_count": 2,
   "metadata": {},
   "outputs": [],
   "source": [
    "data1 = pd.read_csv('http://mopsfin.twse.com.tw/opendata/t187ap05_L.csv')"
   ]
  },
  {
   "cell_type": "markdown",
   "metadata": {},
   "source": [
    "### 抽取出台積電數據"
   ]
  },
  {
   "cell_type": "code",
   "execution_count": 3,
   "metadata": {},
   "outputs": [
    {
     "data": {
      "text/html": [
       "<div>\n",
       "<style scoped>\n",
       "    .dataframe tbody tr th:only-of-type {\n",
       "        vertical-align: middle;\n",
       "    }\n",
       "\n",
       "    .dataframe tbody tr th {\n",
       "        vertical-align: top;\n",
       "    }\n",
       "\n",
       "    .dataframe thead th {\n",
       "        text-align: right;\n",
       "    }\n",
       "</style>\n",
       "<table border=\"1\" class=\"dataframe\">\n",
       "  <thead>\n",
       "    <tr style=\"text-align: right;\">\n",
       "      <th></th>\n",
       "      <th>出表日期</th>\n",
       "      <th>資料年月</th>\n",
       "      <th>公司代號</th>\n",
       "      <th>公司名稱</th>\n",
       "      <th>產業別</th>\n",
       "      <th>營業收入-當月營收</th>\n",
       "      <th>營業收入-上月營收</th>\n",
       "      <th>營業收入-去年當月營收</th>\n",
       "      <th>營業收入-上月比較增減(%)</th>\n",
       "      <th>營業收入-去年同月增減(%)</th>\n",
       "      <th>累計營業收入-當月累計營收</th>\n",
       "      <th>累計營業收入-去年累計營收</th>\n",
       "      <th>累計營業收入-前期比較增減(%)</th>\n",
       "      <th>備註</th>\n",
       "    </tr>\n",
       "  </thead>\n",
       "  <tbody>\n",
       "    <tr>\n",
       "      <th>270</th>\n",
       "      <td>108/12/15</td>\n",
       "      <td>108/11</td>\n",
       "      <td>2330</td>\n",
       "      <td>台積電</td>\n",
       "      <td>半導體業</td>\n",
       "      <td>107884396</td>\n",
       "      <td>106039531</td>\n",
       "      <td>98389414</td>\n",
       "      <td>1.73979</td>\n",
       "      <td>9.65041</td>\n",
       "      <td>966672310</td>\n",
       "      <td>941642959</td>\n",
       "      <td>2.658051</td>\n",
       "      <td>-</td>\n",
       "    </tr>\n",
       "  </tbody>\n",
       "</table>\n",
       "</div>"
      ],
      "text/plain": [
       "          出表日期    資料年月  公司代號 公司名稱   產業別  營業收入-當月營收  營業收入-上月營收  營業收入-去年當月營收  \\\n",
       "270  108/12/15  108/11  2330  台積電  半導體業  107884396  106039531     98389414   \n",
       "\n",
       "     營業收入-上月比較增減(%)  營業收入-去年同月增減(%)  累計營業收入-當月累計營收  累計營業收入-去年累計營收  \\\n",
       "270         1.73979         9.65041      966672310      941642959   \n",
       "\n",
       "     累計營業收入-前期比較增減(%) 備註  \n",
       "270          2.658051  -  "
      ]
     },
     "execution_count": 3,
     "metadata": {},
     "output_type": "execute_result"
    }
   ],
   "source": [
    "data1[data1.公司名稱 == \"台積電\"]"
   ]
  },
  {
   "cell_type": "code",
   "execution_count": 4,
   "metadata": {},
   "outputs": [],
   "source": [
    "data_1 = data1[data1.公司名稱 == \"台積電\"]"
   ]
  },
  {
   "cell_type": "code",
   "execution_count": 5,
   "metadata": {},
   "outputs": [
    {
     "name": "stderr",
     "output_type": "stream",
     "text": [
      "C:\\Users\\USER\\Anaconda3\\lib\\site-packages\\pandas\\core\\frame.py:4025: SettingWithCopyWarning: \n",
      "A value is trying to be set on a copy of a slice from a DataFrame\n",
      "\n",
      "See the caveats in the documentation: http://pandas.pydata.org/pandas-docs/stable/indexing.html#indexing-view-versus-copy\n",
      "  return super(DataFrame, self).rename(**kwargs)\n"
     ]
    }
   ],
   "source": [
    "data_1.rename(columns={\"營業收入-上月比較增減(%)\":\"營收月增率(MoM)\"},inplace=True)\n",
    "data_1.rename(columns={\"營業收入-去年同月增減(%)\": \"營收年增率(YoY)\"},inplace=True)"
   ]
  },
  {
   "cell_type": "markdown",
   "metadata": {},
   "source": [
    "## 讀入上市公司金管會證券期貨局裁罰案件資料"
   ]
  },
  {
   "cell_type": "code",
   "execution_count": 6,
   "metadata": {},
   "outputs": [],
   "source": [
    "data2 = pd.read_csv('https://quality.data.gov.tw/dq_download_csv.php?nid=22817&md5_url=4d6928f7cc2f2c48e2d4ca2ad5d02fd7')"
   ]
  },
  {
   "cell_type": "markdown",
   "metadata": {},
   "source": [
    "### 查看台積電是否有遭裁罰紀錄"
   ]
  },
  {
   "cell_type": "code",
   "execution_count": 7,
   "metadata": {},
   "outputs": [
    {
     "data": {
      "text/html": [
       "<div>\n",
       "<style scoped>\n",
       "    .dataframe tbody tr th:only-of-type {\n",
       "        vertical-align: middle;\n",
       "    }\n",
       "\n",
       "    .dataframe tbody tr th {\n",
       "        vertical-align: top;\n",
       "    }\n",
       "\n",
       "    .dataframe thead th {\n",
       "        text-align: right;\n",
       "    }\n",
       "</style>\n",
       "<table border=\"1\" class=\"dataframe\">\n",
       "  <thead>\n",
       "    <tr style=\"text-align: right;\">\n",
       "      <th></th>\n",
       "      <th>出表日期</th>\n",
       "      <th>發函日期</th>\n",
       "      <th>股票代號</th>\n",
       "      <th>公司名稱</th>\n",
       "      <th>違規事由</th>\n",
       "      <th>違反法規</th>\n",
       "      <th>裁處情形</th>\n",
       "    </tr>\n",
       "  </thead>\n",
       "  <tbody>\n",
       "  </tbody>\n",
       "</table>\n",
       "</div>"
      ],
      "text/plain": [
       "Empty DataFrame\n",
       "Columns: [出表日期, 發函日期, 股票代號, 公司名稱, 違規事由, 違反法規, 裁處情形]\n",
       "Index: []"
      ]
     },
     "execution_count": 7,
     "metadata": {},
     "output_type": "execute_result"
    }
   ],
   "source": [
    "data2[data2.公司名稱 == \"台積電\"] # 由此可知台積電至今尚無遭證券期貨局裁罰案例"
   ]
  },
  {
   "cell_type": "code",
   "execution_count": 8,
   "metadata": {},
   "outputs": [],
   "source": [
    "data_2 = data2[data2.公司名稱 == \"台積電\"]"
   ]
  },
  {
   "cell_type": "markdown",
   "metadata": {},
   "source": [
    "## 讀入上市櫃公司資產負債表資料"
   ]
  },
  {
   "cell_type": "code",
   "execution_count": 9,
   "metadata": {},
   "outputs": [],
   "source": [
    "data3 = pd.read_csv('http://mopsfin.twse.com.tw/opendata/t187ap07_L_ci.csv')"
   ]
  },
  {
   "cell_type": "code",
   "execution_count": 10,
   "metadata": {},
   "outputs": [
    {
     "data": {
      "text/html": [
       "<div>\n",
       "<style scoped>\n",
       "    .dataframe tbody tr th:only-of-type {\n",
       "        vertical-align: middle;\n",
       "    }\n",
       "\n",
       "    .dataframe tbody tr th {\n",
       "        vertical-align: top;\n",
       "    }\n",
       "\n",
       "    .dataframe thead th {\n",
       "        text-align: right;\n",
       "    }\n",
       "</style>\n",
       "<table border=\"1\" class=\"dataframe\">\n",
       "  <thead>\n",
       "    <tr style=\"text-align: right;\">\n",
       "      <th></th>\n",
       "      <th>出表日期</th>\n",
       "      <th>年度</th>\n",
       "      <th>季別</th>\n",
       "      <th>公司代號</th>\n",
       "      <th>公司名稱</th>\n",
       "      <th>流動資產</th>\n",
       "      <th>非流動資產</th>\n",
       "      <th>資產總計</th>\n",
       "      <th>流動負債</th>\n",
       "      <th>非流動負債</th>\n",
       "      <th>...</th>\n",
       "      <th>庫藏股票</th>\n",
       "      <th>歸屬於母公司業主之權益合計</th>\n",
       "      <th>共同控制下前手權益</th>\n",
       "      <th>合併前非屬共同控制股權</th>\n",
       "      <th>非控制權益</th>\n",
       "      <th>權益總計</th>\n",
       "      <th>待註銷股本股數（單位：股）</th>\n",
       "      <th>預收股款（權益項下）之約當發行股數（單位：股）</th>\n",
       "      <th>母公司暨子公司所持有之母公司庫藏股股數（單位：股）</th>\n",
       "      <th>每股參考淨值</th>\n",
       "    </tr>\n",
       "  </thead>\n",
       "  <tbody>\n",
       "    <tr>\n",
       "      <th>268</th>\n",
       "      <td>108/09/25</td>\n",
       "      <td>108</td>\n",
       "      <td>2</td>\n",
       "      <td>2330</td>\n",
       "      <td>台積電</td>\n",
       "      <td>1.010179e+09</td>\n",
       "      <td>1.229164e+09</td>\n",
       "      <td>2.239344e+09</td>\n",
       "      <td>622256378.0</td>\n",
       "      <td>62665766.0</td>\n",
       "      <td>...</td>\n",
       "      <td>--</td>\n",
       "      <td>1553814579.00</td>\n",
       "      <td>--</td>\n",
       "      <td>--</td>\n",
       "      <td>606948.00</td>\n",
       "      <td>1.554422e+09</td>\n",
       "      <td>--</td>\n",
       "      <td>0.00</td>\n",
       "      <td>0.0</td>\n",
       "      <td>59.92</td>\n",
       "    </tr>\n",
       "  </tbody>\n",
       "</table>\n",
       "<p>1 rows × 25 columns</p>\n",
       "</div>"
      ],
      "text/plain": [
       "          出表日期   年度  季別  公司代號 公司名稱          流動資產         非流動資產          資產總計  \\\n",
       "268  108/09/25  108   2  2330  台積電  1.010179e+09  1.229164e+09  2.239344e+09   \n",
       "\n",
       "            流動負債       非流動負債  ...  庫藏股票  歸屬於母公司業主之權益合計 共同控制下前手權益  合併前非屬共同控制股權  \\\n",
       "268  622256378.0  62665766.0  ...    --  1553814579.00        --           --   \n",
       "\n",
       "         非控制權益          權益總計 待註銷股本股數（單位：股） 預收股款（權益項下）之約當發行股數（單位：股）  \\\n",
       "268  606948.00  1.554422e+09            --                    0.00   \n",
       "\n",
       "    母公司暨子公司所持有之母公司庫藏股股數（單位：股） 每股參考淨值  \n",
       "268                       0.0  59.92  \n",
       "\n",
       "[1 rows x 25 columns]"
      ]
     },
     "execution_count": 10,
     "metadata": {},
     "output_type": "execute_result"
    }
   ],
   "source": [
    "data3[data3.公司名稱 == \"台積電\"]"
   ]
  },
  {
   "cell_type": "markdown",
   "metadata": {},
   "source": [
    "### 抽取出台積電數據"
   ]
  },
  {
   "cell_type": "code",
   "execution_count": 11,
   "metadata": {},
   "outputs": [],
   "source": [
    "data_3 = data3[data3.公司名稱 == \"台積電\"]"
   ]
  },
  {
   "cell_type": "code",
   "execution_count": 12,
   "metadata": {},
   "outputs": [
    {
     "data": {
      "text/html": [
       "<div>\n",
       "<style scoped>\n",
       "    .dataframe tbody tr th:only-of-type {\n",
       "        vertical-align: middle;\n",
       "    }\n",
       "\n",
       "    .dataframe tbody tr th {\n",
       "        vertical-align: top;\n",
       "    }\n",
       "\n",
       "    .dataframe thead th {\n",
       "        text-align: right;\n",
       "    }\n",
       "</style>\n",
       "<table border=\"1\" class=\"dataframe\">\n",
       "  <thead>\n",
       "    <tr style=\"text-align: right;\">\n",
       "      <th></th>\n",
       "      <th>出表日期</th>\n",
       "      <th>年度</th>\n",
       "      <th>季別</th>\n",
       "      <th>公司代號</th>\n",
       "      <th>公司名稱</th>\n",
       "      <th>流動資產</th>\n",
       "      <th>非流動資產</th>\n",
       "      <th>資產總計</th>\n",
       "      <th>流動負債</th>\n",
       "      <th>非流動負債</th>\n",
       "      <th>...</th>\n",
       "      <th>庫藏股票</th>\n",
       "      <th>歸屬於母公司業主之權益合計</th>\n",
       "      <th>共同控制下前手權益</th>\n",
       "      <th>合併前非屬共同控制股權</th>\n",
       "      <th>非控制權益</th>\n",
       "      <th>權益總計</th>\n",
       "      <th>待註銷股本股數（單位：股）</th>\n",
       "      <th>預收股款（權益項下）之約當發行股數（單位：股）</th>\n",
       "      <th>母公司暨子公司所持有之母公司庫藏股股數（單位：股）</th>\n",
       "      <th>每股參考淨值</th>\n",
       "    </tr>\n",
       "  </thead>\n",
       "  <tbody>\n",
       "    <tr>\n",
       "      <th>268</th>\n",
       "      <td>108/09/25</td>\n",
       "      <td>108</td>\n",
       "      <td>2</td>\n",
       "      <td>2330</td>\n",
       "      <td>台積電</td>\n",
       "      <td>1.010179e+09</td>\n",
       "      <td>1.229164e+09</td>\n",
       "      <td>2.239344e+09</td>\n",
       "      <td>622256378.0</td>\n",
       "      <td>62665766.0</td>\n",
       "      <td>...</td>\n",
       "      <td>--</td>\n",
       "      <td>1553814579.00</td>\n",
       "      <td>--</td>\n",
       "      <td>--</td>\n",
       "      <td>606948.00</td>\n",
       "      <td>1.554422e+09</td>\n",
       "      <td>--</td>\n",
       "      <td>0.00</td>\n",
       "      <td>0.0</td>\n",
       "      <td>59.92</td>\n",
       "    </tr>\n",
       "  </tbody>\n",
       "</table>\n",
       "<p>1 rows × 25 columns</p>\n",
       "</div>"
      ],
      "text/plain": [
       "          出表日期   年度  季別  公司代號 公司名稱          流動資產         非流動資產          資產總計  \\\n",
       "268  108/09/25  108   2  2330  台積電  1.010179e+09  1.229164e+09  2.239344e+09   \n",
       "\n",
       "            流動負債       非流動負債  ...  庫藏股票  歸屬於母公司業主之權益合計 共同控制下前手權益  合併前非屬共同控制股權  \\\n",
       "268  622256378.0  62665766.0  ...    --  1553814579.00        --           --   \n",
       "\n",
       "         非控制權益          權益總計 待註銷股本股數（單位：股） 預收股款（權益項下）之約當發行股數（單位：股）  \\\n",
       "268  606948.00  1.554422e+09            --                    0.00   \n",
       "\n",
       "    母公司暨子公司所持有之母公司庫藏股股數（單位：股） 每股參考淨值  \n",
       "268                       0.0  59.92  \n",
       "\n",
       "[1 rows x 25 columns]"
      ]
     },
     "execution_count": 12,
     "metadata": {},
     "output_type": "execute_result"
    }
   ],
   "source": [
    "data_3"
   ]
  },
  {
   "cell_type": "markdown",
   "metadata": {},
   "source": [
    "# 消除多餘數據"
   ]
  },
  {
   "cell_type": "code",
   "execution_count": 13,
   "metadata": {},
   "outputs": [
    {
     "name": "stderr",
     "output_type": "stream",
     "text": [
      "C:\\Users\\USER\\Anaconda3\\lib\\site-packages\\pandas\\core\\frame.py:3940: SettingWithCopyWarning: \n",
      "A value is trying to be set on a copy of a slice from a DataFrame\n",
      "\n",
      "See the caveats in the documentation: http://pandas.pydata.org/pandas-docs/stable/indexing.html#indexing-view-versus-copy\n",
      "  errors=errors)\n"
     ]
    }
   ],
   "source": [
    "data_3.drop([\"共同控制下前手權益\", \"合併前非屬共同控制股權\", \"待註銷股本股數（單位：股）\", \"預收股款（權益項下）之約當發行股數（單位：股）\", \"母公司暨子公司所持有之母公司庫藏股股數（單位：股）\", \"庫藏股票\" ], axis=1, inplace=True)"
   ]
  },
  {
   "cell_type": "markdown",
   "metadata": {},
   "source": [
    "## 計算並插入各項償債能力分析"
   ]
  },
  {
   "cell_type": "code",
   "execution_count": 14,
   "metadata": {},
   "outputs": [
    {
     "data": {
      "text/html": [
       "<div>\n",
       "<style scoped>\n",
       "    .dataframe tbody tr th:only-of-type {\n",
       "        vertical-align: middle;\n",
       "    }\n",
       "\n",
       "    .dataframe tbody tr th {\n",
       "        vertical-align: top;\n",
       "    }\n",
       "\n",
       "    .dataframe thead th {\n",
       "        text-align: right;\n",
       "    }\n",
       "</style>\n",
       "<table border=\"1\" class=\"dataframe\">\n",
       "  <thead>\n",
       "    <tr style=\"text-align: right;\">\n",
       "      <th></th>\n",
       "      <th>出表日期</th>\n",
       "      <th>年度</th>\n",
       "      <th>季別</th>\n",
       "      <th>公司代號</th>\n",
       "      <th>公司名稱</th>\n",
       "      <th>流動資產</th>\n",
       "      <th>非流動資產</th>\n",
       "      <th>資產總計</th>\n",
       "      <th>流動負債</th>\n",
       "      <th>非流動負債</th>\n",
       "      <th>負債總計</th>\n",
       "      <th>股本</th>\n",
       "      <th>資本公積</th>\n",
       "      <th>保留盈餘</th>\n",
       "      <th>其他權益</th>\n",
       "      <th>歸屬於母公司業主之權益合計</th>\n",
       "      <th>非控制權益</th>\n",
       "      <th>權益總計</th>\n",
       "      <th>每股參考淨值</th>\n",
       "    </tr>\n",
       "  </thead>\n",
       "  <tbody>\n",
       "    <tr>\n",
       "      <th>268</th>\n",
       "      <td>108/09/25</td>\n",
       "      <td>108</td>\n",
       "      <td>2</td>\n",
       "      <td>2330</td>\n",
       "      <td>台積電</td>\n",
       "      <td>1.010179e+09</td>\n",
       "      <td>1.229164e+09</td>\n",
       "      <td>2.239344e+09</td>\n",
       "      <td>622256378.0</td>\n",
       "      <td>62665766.0</td>\n",
       "      <td>684922144.0</td>\n",
       "      <td>259303805.0</td>\n",
       "      <td>56320929.00</td>\n",
       "      <td>1.245576e+09</td>\n",
       "      <td>-7385940.00</td>\n",
       "      <td>1553814579.00</td>\n",
       "      <td>606948.00</td>\n",
       "      <td>1.554422e+09</td>\n",
       "      <td>59.92</td>\n",
       "    </tr>\n",
       "  </tbody>\n",
       "</table>\n",
       "</div>"
      ],
      "text/plain": [
       "          出表日期   年度  季別  公司代號 公司名稱          流動資產         非流動資產          資產總計  \\\n",
       "268  108/09/25  108   2  2330  台積電  1.010179e+09  1.229164e+09  2.239344e+09   \n",
       "\n",
       "            流動負債       非流動負債         負債總計           股本         資本公積  \\\n",
       "268  622256378.0  62665766.0  684922144.0  259303805.0  56320929.00   \n",
       "\n",
       "             保留盈餘         其他權益  歸屬於母公司業主之權益合計      非控制權益          權益總計  每股參考淨值  \n",
       "268  1.245576e+09  -7385940.00  1553814579.00  606948.00  1.554422e+09   59.92  "
      ]
     },
     "execution_count": 14,
     "metadata": {},
     "output_type": "execute_result"
    }
   ],
   "source": [
    "data_3"
   ]
  },
  {
   "cell_type": "code",
   "execution_count": 15,
   "metadata": {},
   "outputs": [],
   "source": [
    "data_3.insert(19, \"資產負債率\", 3.05858375 ) #資產負債率 = 負債總額/資產總額 => 684922144/223934409\n",
    "data_3.insert(20, \"股東權益比率\", 0.694141689) #股東權益比率 = 股東權益總額/資產總額 => 155442209/223934409\n",
    "data_3.insert(21, \"負債與股東權益比率\", 4.40628159) #負債與股東權益比率 = 負債總額／股東權益總額 => 684922144/155442209"
   ]
  },
  {
   "cell_type": "code",
   "execution_count": 16,
   "metadata": {},
   "outputs": [
    {
     "data": {
      "text/html": [
       "<div>\n",
       "<style scoped>\n",
       "    .dataframe tbody tr th:only-of-type {\n",
       "        vertical-align: middle;\n",
       "    }\n",
       "\n",
       "    .dataframe tbody tr th {\n",
       "        vertical-align: top;\n",
       "    }\n",
       "\n",
       "    .dataframe thead th {\n",
       "        text-align: right;\n",
       "    }\n",
       "</style>\n",
       "<table border=\"1\" class=\"dataframe\">\n",
       "  <thead>\n",
       "    <tr style=\"text-align: right;\">\n",
       "      <th></th>\n",
       "      <th>出表日期</th>\n",
       "      <th>年度</th>\n",
       "      <th>季別</th>\n",
       "      <th>公司代號</th>\n",
       "      <th>公司名稱</th>\n",
       "      <th>流動資產</th>\n",
       "      <th>非流動資產</th>\n",
       "      <th>資產總計</th>\n",
       "      <th>流動負債</th>\n",
       "      <th>非流動負債</th>\n",
       "      <th>...</th>\n",
       "      <th>資本公積</th>\n",
       "      <th>保留盈餘</th>\n",
       "      <th>其他權益</th>\n",
       "      <th>歸屬於母公司業主之權益合計</th>\n",
       "      <th>非控制權益</th>\n",
       "      <th>權益總計</th>\n",
       "      <th>每股參考淨值</th>\n",
       "      <th>資產負債率</th>\n",
       "      <th>股東權益比率</th>\n",
       "      <th>負債與股東權益比率</th>\n",
       "    </tr>\n",
       "  </thead>\n",
       "  <tbody>\n",
       "    <tr>\n",
       "      <th>268</th>\n",
       "      <td>108/09/25</td>\n",
       "      <td>108</td>\n",
       "      <td>2</td>\n",
       "      <td>2330</td>\n",
       "      <td>台積電</td>\n",
       "      <td>1.010179e+09</td>\n",
       "      <td>1.229164e+09</td>\n",
       "      <td>2.239344e+09</td>\n",
       "      <td>622256378.0</td>\n",
       "      <td>62665766.0</td>\n",
       "      <td>...</td>\n",
       "      <td>56320929.00</td>\n",
       "      <td>1.245576e+09</td>\n",
       "      <td>-7385940.00</td>\n",
       "      <td>1553814579.00</td>\n",
       "      <td>606948.00</td>\n",
       "      <td>1.554422e+09</td>\n",
       "      <td>59.92</td>\n",
       "      <td>3.058584</td>\n",
       "      <td>0.694142</td>\n",
       "      <td>4.406282</td>\n",
       "    </tr>\n",
       "  </tbody>\n",
       "</table>\n",
       "<p>1 rows × 22 columns</p>\n",
       "</div>"
      ],
      "text/plain": [
       "          出表日期   年度  季別  公司代號 公司名稱          流動資產         非流動資產          資產總計  \\\n",
       "268  108/09/25  108   2  2330  台積電  1.010179e+09  1.229164e+09  2.239344e+09   \n",
       "\n",
       "            流動負債       非流動負債  ...         資本公積          保留盈餘         其他權益  \\\n",
       "268  622256378.0  62665766.0  ...  56320929.00  1.245576e+09  -7385940.00   \n",
       "\n",
       "     歸屬於母公司業主之權益合計      非控制權益          權益總計 每股參考淨值     資產負債率    股東權益比率  \\\n",
       "268  1553814579.00  606948.00  1.554422e+09  59.92  3.058584  0.694142   \n",
       "\n",
       "     負債與股東權益比率  \n",
       "268   4.406282  \n",
       "\n",
       "[1 rows x 22 columns]"
      ]
     },
     "execution_count": 16,
     "metadata": {},
     "output_type": "execute_result"
    }
   ],
   "source": [
    "data_3"
   ]
  },
  {
   "cell_type": "markdown",
   "metadata": {},
   "source": [
    "## 列出上述分析資料"
   ]
  },
  {
   "cell_type": "code",
   "execution_count": 17,
   "metadata": {},
   "outputs": [
    {
     "data": {
      "text/html": [
       "<div>\n",
       "<style scoped>\n",
       "    .dataframe tbody tr th:only-of-type {\n",
       "        vertical-align: middle;\n",
       "    }\n",
       "\n",
       "    .dataframe tbody tr th {\n",
       "        vertical-align: top;\n",
       "    }\n",
       "\n",
       "    .dataframe thead th {\n",
       "        text-align: right;\n",
       "    }\n",
       "</style>\n",
       "<table border=\"1\" class=\"dataframe\">\n",
       "  <thead>\n",
       "    <tr style=\"text-align: right;\">\n",
       "      <th></th>\n",
       "      <th>出表日期</th>\n",
       "      <th>資料年月</th>\n",
       "      <th>公司代號</th>\n",
       "      <th>公司名稱</th>\n",
       "      <th>產業別</th>\n",
       "      <th>營業收入-當月營收</th>\n",
       "      <th>營業收入-上月營收</th>\n",
       "      <th>營業收入-去年當月營收</th>\n",
       "      <th>營收月增率(MoM)</th>\n",
       "      <th>營收年增率(YoY)</th>\n",
       "      <th>累計營業收入-當月累計營收</th>\n",
       "      <th>累計營業收入-去年累計營收</th>\n",
       "      <th>累計營業收入-前期比較增減(%)</th>\n",
       "      <th>備註</th>\n",
       "    </tr>\n",
       "  </thead>\n",
       "  <tbody>\n",
       "    <tr>\n",
       "      <th>270</th>\n",
       "      <td>108/12/15</td>\n",
       "      <td>108/11</td>\n",
       "      <td>2330</td>\n",
       "      <td>台積電</td>\n",
       "      <td>半導體業</td>\n",
       "      <td>107884396</td>\n",
       "      <td>106039531</td>\n",
       "      <td>98389414</td>\n",
       "      <td>1.73979</td>\n",
       "      <td>9.65041</td>\n",
       "      <td>966672310</td>\n",
       "      <td>941642959</td>\n",
       "      <td>2.658051</td>\n",
       "      <td>-</td>\n",
       "    </tr>\n",
       "  </tbody>\n",
       "</table>\n",
       "</div>"
      ],
      "text/plain": [
       "          出表日期    資料年月  公司代號 公司名稱   產業別  營業收入-當月營收  營業收入-上月營收  營業收入-去年當月營收  \\\n",
       "270  108/12/15  108/11  2330  台積電  半導體業  107884396  106039531     98389414   \n",
       "\n",
       "     營收月增率(MoM)  營收年增率(YoY)  累計營業收入-當月累計營收  累計營業收入-去年累計營收  累計營業收入-前期比較增減(%) 備註  \n",
       "270     1.73979     9.65041      966672310      941642959          2.658051  -  "
      ]
     },
     "execution_count": 17,
     "metadata": {},
     "output_type": "execute_result"
    }
   ],
   "source": [
    "data_1"
   ]
  },
  {
   "cell_type": "code",
   "execution_count": 18,
   "metadata": {},
   "outputs": [
    {
     "data": {
      "text/html": [
       "<div>\n",
       "<style scoped>\n",
       "    .dataframe tbody tr th:only-of-type {\n",
       "        vertical-align: middle;\n",
       "    }\n",
       "\n",
       "    .dataframe tbody tr th {\n",
       "        vertical-align: top;\n",
       "    }\n",
       "\n",
       "    .dataframe thead th {\n",
       "        text-align: right;\n",
       "    }\n",
       "</style>\n",
       "<table border=\"1\" class=\"dataframe\">\n",
       "  <thead>\n",
       "    <tr style=\"text-align: right;\">\n",
       "      <th></th>\n",
       "      <th>出表日期</th>\n",
       "      <th>發函日期</th>\n",
       "      <th>股票代號</th>\n",
       "      <th>公司名稱</th>\n",
       "      <th>違規事由</th>\n",
       "      <th>違反法規</th>\n",
       "      <th>裁處情形</th>\n",
       "    </tr>\n",
       "  </thead>\n",
       "  <tbody>\n",
       "  </tbody>\n",
       "</table>\n",
       "</div>"
      ],
      "text/plain": [
       "Empty DataFrame\n",
       "Columns: [出表日期, 發函日期, 股票代號, 公司名稱, 違規事由, 違反法規, 裁處情形]\n",
       "Index: []"
      ]
     },
     "execution_count": 18,
     "metadata": {},
     "output_type": "execute_result"
    }
   ],
   "source": [
    "data_2"
   ]
  },
  {
   "cell_type": "code",
   "execution_count": 19,
   "metadata": {},
   "outputs": [
    {
     "data": {
      "text/html": [
       "<div>\n",
       "<style scoped>\n",
       "    .dataframe tbody tr th:only-of-type {\n",
       "        vertical-align: middle;\n",
       "    }\n",
       "\n",
       "    .dataframe tbody tr th {\n",
       "        vertical-align: top;\n",
       "    }\n",
       "\n",
       "    .dataframe thead th {\n",
       "        text-align: right;\n",
       "    }\n",
       "</style>\n",
       "<table border=\"1\" class=\"dataframe\">\n",
       "  <thead>\n",
       "    <tr style=\"text-align: right;\">\n",
       "      <th></th>\n",
       "      <th>出表日期</th>\n",
       "      <th>年度</th>\n",
       "      <th>季別</th>\n",
       "      <th>公司代號</th>\n",
       "      <th>公司名稱</th>\n",
       "      <th>流動資產</th>\n",
       "      <th>非流動資產</th>\n",
       "      <th>資產總計</th>\n",
       "      <th>流動負債</th>\n",
       "      <th>非流動負債</th>\n",
       "      <th>...</th>\n",
       "      <th>資本公積</th>\n",
       "      <th>保留盈餘</th>\n",
       "      <th>其他權益</th>\n",
       "      <th>歸屬於母公司業主之權益合計</th>\n",
       "      <th>非控制權益</th>\n",
       "      <th>權益總計</th>\n",
       "      <th>每股參考淨值</th>\n",
       "      <th>資產負債率</th>\n",
       "      <th>股東權益比率</th>\n",
       "      <th>負債與股東權益比率</th>\n",
       "    </tr>\n",
       "  </thead>\n",
       "  <tbody>\n",
       "    <tr>\n",
       "      <th>268</th>\n",
       "      <td>108/09/25</td>\n",
       "      <td>108</td>\n",
       "      <td>2</td>\n",
       "      <td>2330</td>\n",
       "      <td>台積電</td>\n",
       "      <td>1.010179e+09</td>\n",
       "      <td>1.229164e+09</td>\n",
       "      <td>2.239344e+09</td>\n",
       "      <td>622256378.0</td>\n",
       "      <td>62665766.0</td>\n",
       "      <td>...</td>\n",
       "      <td>56320929.00</td>\n",
       "      <td>1.245576e+09</td>\n",
       "      <td>-7385940.00</td>\n",
       "      <td>1553814579.00</td>\n",
       "      <td>606948.00</td>\n",
       "      <td>1.554422e+09</td>\n",
       "      <td>59.92</td>\n",
       "      <td>3.058584</td>\n",
       "      <td>0.694142</td>\n",
       "      <td>4.406282</td>\n",
       "    </tr>\n",
       "  </tbody>\n",
       "</table>\n",
       "<p>1 rows × 22 columns</p>\n",
       "</div>"
      ],
      "text/plain": [
       "          出表日期   年度  季別  公司代號 公司名稱          流動資產         非流動資產          資產總計  \\\n",
       "268  108/09/25  108   2  2330  台積電  1.010179e+09  1.229164e+09  2.239344e+09   \n",
       "\n",
       "            流動負債       非流動負債  ...         資本公積          保留盈餘         其他權益  \\\n",
       "268  622256378.0  62665766.0  ...  56320929.00  1.245576e+09  -7385940.00   \n",
       "\n",
       "     歸屬於母公司業主之權益合計      非控制權益          權益總計 每股參考淨值     資產負債率    股東權益比率  \\\n",
       "268  1553814579.00  606948.00  1.554422e+09  59.92  3.058584  0.694142   \n",
       "\n",
       "     負債與股東權益比率  \n",
       "268   4.406282  \n",
       "\n",
       "[1 rows x 22 columns]"
      ]
     },
     "execution_count": 19,
     "metadata": {},
     "output_type": "execute_result"
    }
   ],
   "source": [
    "data_3"
   ]
  },
  {
   "cell_type": "markdown",
   "metadata": {},
   "source": [
    "# 由上述分析數據，如營收月增率、資產負債率、股東權益比率等可知，目前台積電發展尚處佳境"
   ]
  },
  {
   "cell_type": "code",
   "execution_count": null,
   "metadata": {},
   "outputs": [],
   "source": []
  },
  {
   "cell_type": "code",
   "execution_count": null,
   "metadata": {},
   "outputs": [],
   "source": []
  }
 ],
 "metadata": {
  "kernelspec": {
   "display_name": "Python 3",
   "language": "python",
   "name": "python3"
  },
  "language_info": {
   "codemirror_mode": {
    "name": "ipython",
    "version": 3
   },
   "file_extension": ".py",
   "mimetype": "text/x-python",
   "name": "python",
   "nbconvert_exporter": "python",
   "pygments_lexer": "ipython3",
   "version": "3.7.3"
  }
 },
 "nbformat": 4,
 "nbformat_minor": 2
}
