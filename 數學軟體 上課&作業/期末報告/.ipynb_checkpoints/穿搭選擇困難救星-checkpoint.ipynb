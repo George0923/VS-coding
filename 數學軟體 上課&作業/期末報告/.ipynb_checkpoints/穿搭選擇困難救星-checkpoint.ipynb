{
 "cells": [
  {
   "cell_type": "code",
   "execution_count": 1,
   "metadata": {},
   "outputs": [],
   "source": [
    "%matplotlib inline\n",
    "import pandas as pd\n",
    "import numpy as np\n",
    "import matplotlib.pyplot as plt\n",
    "import matplotlib.image as mpimg\n",
    "import random\n",
    "from ipywidgets import interact"
   ]
  },
  {
   "cell_type": "markdown",
   "metadata": {},
   "source": [
    "# 輸入圖片檔"
   ]
  },
  {
   "cell_type": "code",
   "execution_count": 2,
   "metadata": {},
   "outputs": [
    {
     "data": {
      "text/plain": [
       "<Figure size 432x288 with 0 Axes>"
      ]
     },
     "metadata": {},
     "output_type": "display_data"
    }
   ],
   "source": [
    "shirt1 = mpimg.imread('shirt1.jpg')\n",
    "plt.savefig('fig_Tshirt1.jpg');\n",
    "shirt2 = mpimg.imread('shirt2.jpg')\n",
    "plt.savefig('fig_shirt2.jpg');\n",
    "shirt3 = mpimg.imread('shirt3.jpg')\n",
    "plt.savefig('fig_shirt3.jpg');\n",
    "shirt4 = mpimg.imread('shirt4.jpg')\n",
    "plt.savefig('fig_shirt4.jpg');\n",
    "shirt5 = mpimg.imread('shirt5.jpg')\n",
    "plt.savefig('fig_shirt5.jpg');\n",
    "pant1 = mpimg.imread('pant1.jpg')\n",
    "plt.savefig('fig_pant1.jpg');\n",
    "pant2 = mpimg.imread('pant2.jpg')\n",
    "plt.savefig('fig_pant2.jpg');\n",
    "pant3 = mpimg.imread('pant3.jpg')\n",
    "plt.savefig('fig_pant3.jpg');\n",
    "pant4 = mpimg.imread('pant4.jpg')\n",
    "plt.savefig('fig_pant4.jpg');\n",
    "pant5 = mpimg.imread('pant5.jpg')\n",
    "plt.savefig('fig_pant5.jpg');\n",
    "coat1 = mpimg.imread('coat1.jpg')\n",
    "plt.savefig('fig_coat1.jpg');\n",
    "coat2 = mpimg.imread('coat2.jpg')\n",
    "plt.savefig('fig_coat2.jpg');\n",
    "coat3 = mpimg.imread('coat3.jpg')\n",
    "plt.savefig('fig_coat3.jpg');\n",
    "shoes1 = mpimg.imread('shoes1.jpg')\n",
    "plt.savefig('fig_shoes1.jpg');\n",
    "shoes2 = mpimg.imread('shoes2.png')\n",
    "plt.savefig('fig_shoes2.png');\n",
    "shoes3 = mpimg.imread('shoes3.jpg')\n",
    "plt.savefig('fig_shoes3.jpg');\n",
    "shoes4 = mpimg.imread('shoes4.jpg')\n",
    "plt.savefig('fig_shoes4.jpg');"
   ]
  },
  {
   "cell_type": "code",
   "execution_count": 8,
   "metadata": {},
   "outputs": [
    {
     "data": {
      "application/vnd.jupyter.widget-view+json": {
       "model_id": "06a22173e91749a2b54a33ce3ac9e6f8",
       "version_major": 2,
       "version_minor": 0
      },
      "text/plain": [
       "interactive(children=(Dropdown(description='choice', options=('上衣', '鞋子', '褲子', '外套'), value='上衣'), Output()),…"
      ]
     },
     "metadata": {},
     "output_type": "display_data"
    }
   ],
   "source": [
    "x = random.randint(1,5)\n",
    "y = random.randint(1,5)\n",
    "z = random.randint(1,4)\n",
    "X = random.randint(1,3)\n",
    "def f(choice):\n",
    "    print(choice)\n",
    "    if choice == \"上衣\":\n",
    "        if x == 1:\n",
    "            plt.imshow(shirt1);\n",
    "            plt.axis('off');\n",
    "        if x == 2:\n",
    "            plt.imshow(shirt2);\n",
    "            plt.axis('off');\n",
    "        if x == 3:\n",
    "            plt.imshow(shirt3);\n",
    "            plt.axis('off');\n",
    "        if x == 4:\n",
    "            plt.imshow(shirt4);\n",
    "            plt.axis('off');\n",
    "        if x == 5:\n",
    "            plt.imshow(shirt5);\n",
    "            plt.axis('off');\n",
    "    if choice == \"褲子\":\n",
    "        if y == 1:\n",
    "            plt.imshow(pant1);\n",
    "            plt.axis('off');\n",
    "        if y == 2:\n",
    "            plt.imshow(pant2);\n",
    "            plt.axis('off');\n",
    "        if y == 3:\n",
    "            plt.imshow(pant3);\n",
    "            plt.axis('off');\n",
    "        if y == 4:\n",
    "            plt.imshow(pant4);\n",
    "            plt.axis('off');\n",
    "        if y == 5:\n",
    "            plt.imshow(pant5);\n",
    "            plt.axis('off');\n",
    "    if choice == \"鞋子\":\n",
    "        if z == 1:\n",
    "            plt.imshow(shoes1);\n",
    "            plt.axis('off');\n",
    "        if z == 2:\n",
    "            plt.imshow(shoes2);\n",
    "            plt.axis('off');\n",
    "        if z == 3:\n",
    "            plt.imshow(shoes3);\n",
    "            plt.axis('off');\n",
    "        if z == 4:\n",
    "            plt.imshow(shoes4);\n",
    "            plt.axis('off');\n",
    "    if choice == \"外套\":\n",
    "        if X == 1:\n",
    "            plt.imshow(coat1);\n",
    "            plt.axis('off');\n",
    "        if X == 2:\n",
    "            plt.imshow(coat2);\n",
    "            plt.axis('off');\n",
    "        if X == 3:\n",
    "            plt.imshow(coat3);\n",
    "            plt.axis('off');\n",
    "interact(f, choice = {\"上衣\", \"褲子\", \"鞋子\", \"外套\"});"
   ]
  },
  {
   "cell_type": "code",
   "execution_count": null,
   "metadata": {},
   "outputs": [],
   "source": []
  }
 ],
 "metadata": {
  "kernelspec": {
   "display_name": "Python 3",
   "language": "python",
   "name": "python3"
  },
  "language_info": {
   "codemirror_mode": {
    "name": "ipython",
    "version": 3
   },
   "file_extension": ".py",
   "mimetype": "text/x-python",
   "name": "python",
   "nbconvert_exporter": "python",
   "pygments_lexer": "ipython3",
   "version": "3.7.3"
  }
 },
 "nbformat": 4,
 "nbformat_minor": 2
}
