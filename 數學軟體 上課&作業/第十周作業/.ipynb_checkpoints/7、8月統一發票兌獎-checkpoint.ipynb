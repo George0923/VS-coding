{
 "cells": [
  {
   "cell_type": "code",
   "execution_count": 1,
   "metadata": {},
   "outputs": [],
   "source": [
    "%matplotlib inline\n",
    "import numpy as np\n",
    "import pandas as np\n",
    "import matplotlib.pyplot as plt\n",
    "import time"
   ]
  },
  {
   "cell_type": "code",
   "execution_count": 18,
   "metadata": {},
   "outputs": [
    {
     "name": "stdout",
     "output_type": "stream",
     "text": [
      "請輸入您的發票後三碼:436\n",
      "查詢中...\n",
      "和特獎的後三碼一樣喔,記得去對對看,說不定兩百萬得主就是你!\n"
     ]
    }
   ],
   "source": [
    "x = input(\"請輸入您的發票後三碼:\")\n",
    "if x == '420':\n",
    "    print(\"查詢中...\")\n",
    "    time.sleep(1)\n",
    "    print(\"恭喜您,至少一定有200塊喔,記得去對對看完整號碼說不定更多喔\")\n",
    "elif x == '012':\n",
    "    print(\"查詢中...\")\n",
    "    time.sleep(1)\n",
    "    print(\"恭喜您,至少一定有200塊喔,記得去對對看完整號碼說不定更多喔\")\n",
    "elif x == '818':\n",
    "    print(\"查詢中...\")\n",
    "    time.sleep(1)\n",
    "    print(\"恭喜您,至少一定有200塊喔,記得去對對看完整號碼說不定更多喔\")\n",
    "elif x == '928':\n",
    "    print(\"查詢中...\")\n",
    "    time.sleep(1)\n",
    "    print(\"恭喜您,中了200塊喔\")\n",
    "elif x == '899':\n",
    "    print(\"查詢中...\")\n",
    "    time.sleep(1)\n",
    "    print(\"恭喜您,中了200塊喔\")\n",
    "elif x == '621':\n",
    "    print(\"查詢中...\")\n",
    "    time.sleep(1)\n",
    "    print(\"和特別獎的後三碼一樣喔,記得去對對看,說不定一千萬得主就是你!\")\n",
    "elif x == '436':\n",
    "    print(\"查詢中...\")\n",
    "    time.sleep(1)\n",
    "    print(\"和特獎的後三碼一樣喔,記得去對對看,說不定兩百萬得主就是你!\")\n",
    "else:\n",
    "    print(\"查詢中...\")\n",
    "    time.sleep(1)\n",
    "    print(\"很可惜沒中獎QQ，再接再厲，下一張可能就中一千萬瞜\")"
   ]
  },
  {
   "cell_type": "code",
   "execution_count": null,
   "metadata": {},
   "outputs": [],
   "source": []
  }
 ],
 "metadata": {
  "kernelspec": {
   "display_name": "Python 3",
   "language": "python",
   "name": "python3"
  },
  "language_info": {
   "codemirror_mode": {
    "name": "ipython",
    "version": 3
   },
   "file_extension": ".py",
   "mimetype": "text/x-python",
   "name": "python",
   "nbconvert_exporter": "python",
   "pygments_lexer": "ipython3",
   "version": "3.7.3"
  }
 },
 "nbformat": 4,
 "nbformat_minor": 2
}
