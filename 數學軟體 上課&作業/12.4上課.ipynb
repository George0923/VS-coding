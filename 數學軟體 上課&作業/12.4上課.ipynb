{
 "cells": [
  {
   "cell_type": "code",
   "execution_count": 3,
   "metadata": {},
   "outputs": [],
   "source": [
    "import tkinter as tk\n",
    "\n",
    "window = tk.Tk()\n",
    "window.title('標題')\n",
    "window.mainloop()"
   ]
  },
  {
   "cell_type": "code",
   "execution_count": 16,
   "metadata": {},
   "outputs": [
    {
     "name": "stdout",
     "output_type": "stream",
     "text": [
      "{'bd': ('bd', '-borderwidth'), 'borderwidth': ('borderwidth', 'borderWidth', 'BorderWidth', <pixel object: '0'>, 0), 'class': ('class', 'class', 'Class', 'Toplevel', 'Tk'), 'menu': ('menu', 'menu', 'Menu', '', ''), 'relief': ('relief', 'relief', 'Relief', <index object: 'flat'>, 'flat'), 'screen': ('screen', 'screen', 'Screen', '', ''), 'use': ('use', 'use', 'Use', '', ''), 'background': ('background', 'background', 'Background', <border object: 'SystemButtonFace'>, 'green'), 'bg': ('bg', '-background'), 'colormap': ('colormap', 'colormap', 'Colormap', '', ''), 'container': ('container', 'container', 'Container', 0, 0), 'cursor': ('cursor', 'cursor', 'Cursor', '', ''), 'height': ('height', 'height', 'Height', <pixel object: '0'>, 600), 'highlightbackground': ('highlightbackground', 'highlightBackground', 'HighlightBackground', <color object: 'SystemButtonFace'>, 'SystemButtonFace'), 'highlightcolor': ('highlightcolor', 'highlightColor', 'HighlightColor', <color object: 'SystemWindowFrame'>, 'SystemWindowFrame'), 'highlightthickness': ('highlightthickness', 'highlightThickness', 'HighlightThickness', <pixel object: '0'>, 0), 'padx': ('padx', 'padX', 'Pad', <pixel object: '0'>, <pixel object: '0'>), 'pady': ('pady', 'padY', 'Pad', <pixel object: '0'>, <pixel object: '0'>), 'takefocus': ('takefocus', 'takeFocus', 'TakeFocus', '0', '0'), 'visual': ('visual', 'visual', 'Visual', '', ''), 'width': ('width', 'width', 'Width', <pixel object: '0'>, 800)}\n"
     ]
    }
   ],
   "source": [
    "import tkinter as tk\n",
    "def window_quit():\n",
    "    window.destroy()\n",
    "    #lbl.config(text=\"please don't go~~\")\n",
    "\n",
    "window = tk.Tk()\n",
    "lbl = tk.Label(window, text='Hello', font=('Times',100))\n",
    "lbl.pack() # .pack =>排版控制\n",
    "entry = tk.Entry(window, text='Weight', width='50') #加入輸入區\n",
    "entry.pack()\n",
    "window.title('標題')\n",
    "window.config(background = 'green', width ='800', height='600') #.config=>改變設定值\n",
    "print(window.config()) #可用指令列\n",
    "btn = tk.Button(window,text='Close',command=window_quit, width='50')\n",
    "btn.pack()\n",
    "window.mainloop()"
   ]
  },
  {
   "cell_type": "code",
   "execution_count": 19,
   "metadata": {},
   "outputs": [
    {
     "name": "stdout",
     "output_type": "stream",
     "text": [
      "{'bd': ('bd', '-borderwidth'), 'borderwidth': ('borderwidth', 'borderWidth', 'BorderWidth', <pixel object: '0'>, 0), 'class': ('class', 'class', 'Class', 'Toplevel', 'Tk'), 'menu': ('menu', 'menu', 'Menu', '', ''), 'relief': ('relief', 'relief', 'Relief', <index object: 'flat'>, 'flat'), 'screen': ('screen', 'screen', 'Screen', '', ''), 'use': ('use', 'use', 'Use', '', ''), 'background': ('background', 'background', 'Background', <border object: 'SystemButtonFace'>, 'green'), 'bg': ('bg', '-background'), 'colormap': ('colormap', 'colormap', 'Colormap', '', ''), 'container': ('container', 'container', 'Container', 0, 0), 'cursor': ('cursor', 'cursor', 'Cursor', '', ''), 'height': ('height', 'height', 'Height', <pixel object: '0'>, 600), 'highlightbackground': ('highlightbackground', 'highlightBackground', 'HighlightBackground', <color object: 'SystemButtonFace'>, 'SystemButtonFace'), 'highlightcolor': ('highlightcolor', 'highlightColor', 'HighlightColor', <color object: 'SystemWindowFrame'>, 'SystemWindowFrame'), 'highlightthickness': ('highlightthickness', 'highlightThickness', 'HighlightThickness', <pixel object: '0'>, 0), 'padx': ('padx', 'padX', 'Pad', <pixel object: '0'>, <pixel object: '0'>), 'pady': ('pady', 'padY', 'Pad', <pixel object: '0'>, <pixel object: '0'>), 'takefocus': ('takefocus', 'takeFocus', 'TakeFocus', '0', '0'), 'visual': ('visual', 'visual', 'Visual', '', ''), 'width': ('width', 'width', 'Width', <pixel object: '0'>, 800)}\n"
     ]
    }
   ],
   "source": [
    "def window_quit():\n",
    "    window.destroy()\n",
    "    #lbl.config(text=\"please don't go~~\")\n",
    "\n",
    "window = tk.Tk()\n",
    "frame = tk.Frame(window)\n",
    "frame.pack()\n",
    "lbl = tk.Label(frame, text='Hello', font=('Times',100))\n",
    "lbl.pack(side='left') # .pack =>排版控制\n",
    "entry = tk.Entry(frame, text='Weight', width='50') #加入輸入區\n",
    "entry.pack(side='top')\n",
    "window.title('標題')\n",
    "window.config(background = 'green', width ='800', height='600') #.config=>改變設定值\n",
    "print(window.config()) #可用指令列\n",
    "btn = tk.Button(window,text='Close',command=window_quit, width='50')\n",
    "btn.pack(side='bottom')\n",
    "window.mainloop()"
   ]
  },
  {
   "cell_type": "code",
   "execution_count": 29,
   "metadata": {},
   "outputs": [],
   "source": [
    "def window_quit():\n",
    "    #window.destroy()\n",
    "    result.config(text=weightVar.get())  #.get()=>取出數字or文字 設定用.get('??')\n",
    "    \n",
    "window = tk.Tk()\n",
    "\n",
    "result = tk.Label(window,text='Weight')\n",
    "result.pack()\n",
    "\n",
    "frame = tk.Frame(window)\n",
    "frame.pack()\n",
    "\n",
    "weightVar = tk.StringVar() \n",
    "\n",
    "lbl = tk.Label(frame, text='Weight')\n",
    "lbl.pack(side='left') # .pack =>排版控制\n",
    "\n",
    "entry = tk.Entry(frame, textvariable=weightVar) #加入輸入區\n",
    "entry.pack(side='top')\n",
    "\n",
    "frame2 = tk.Frame(window)\n",
    "frame2.pack()\n",
    "\n",
    "HeightVar = tk.StringVar()\n",
    "\n",
    "lbl2 = tk.Label(frame2, text='Height')\n",
    "lbl2.pack(side='left') # .pack =>排版控制\n",
    "\n",
    "entry2 = tk.Entry(frame2, textvariable=HeightVar) #加入輸入區\n",
    "entry2.pack(side='top')\n",
    "\n",
    "btn = tk.Button(window,text='Close',command=window_quit)\n",
    "btn.pack(side='bottom')\n",
    "window.mainloop()"
   ]
  },
  {
   "cell_type": "code",
   "execution_count": 41,
   "metadata": {},
   "outputs": [],
   "source": [
    "def window_quit():\n",
    "    #window.destroy()\n",
    "    r = float(WeightVar.get())/(float(HeightVar.get())/100)**2\n",
    "    result.config(text=r)  #.get()=>取出數字or文字 設定用.get('??')\n",
    "    \n",
    "window = tk.Tk()\n",
    "\n",
    "result = tk.Label(window,text='Weight')\n",
    "result.pack()\n",
    "\n",
    "frame = tk.Frame(window)\n",
    "frame.pack()\n",
    "\n",
    "WeightVar = tk.StringVar()\n",
    "WeightVar.set('60')\n",
    "\n",
    "lbl = tk.Label(frame, text='Weight')\n",
    "lbl.pack(side='left') # .pack =>排版控制\n",
    "\n",
    "entry = tk.Entry(frame, textvariable=weightVar) #加入輸入區\n",
    "entry.pack(side='top')\n",
    "\n",
    "frame2 = tk.Frame(window)\n",
    "frame2.pack()\n",
    "\n",
    "HeightVar = tk.StringVar()\n",
    "\n",
    "lbl2 = tk.Label(frame2, text='Height')\n",
    "lbl2.pack(side='left') # .pack =>排版控制\n",
    "\n",
    "entry2 = tk.Entry(frame2, textvariable=HeightVar) #加入輸入區\n",
    "entry2.pack(side='top')\n",
    "\n",
    "btn = tk.Button(window,text='Close',command=window_quit)\n",
    "btn.pack(side='bottom')\n",
    "window.mainloop()"
   ]
  },
  {
   "cell_type": "code",
   "execution_count": null,
   "metadata": {},
   "outputs": [],
   "source": []
  }
 ],
 "metadata": {
  "kernelspec": {
   "display_name": "Python 3",
   "language": "python",
   "name": "python3"
  },
  "language_info": {
   "codemirror_mode": {
    "name": "ipython",
    "version": 3
   },
   "file_extension": ".py",
   "mimetype": "text/x-python",
   "name": "python",
   "nbconvert_exporter": "python",
   "pygments_lexer": "ipython3",
   "version": "3.7.3"
  }
 },
 "nbformat": 4,
 "nbformat_minor": 2
}
