{
 "cells": [
  {
   "cell_type": "code",
   "execution_count": 1,
   "metadata": {},
   "outputs": [],
   "source": [
    "%matplotlib inline\n",
    "import pandas as pd\n",
    "import numpy as np\n",
    "import matplotlib.pyplot as plt\n",
    "import csv as csv\n",
    "import xlrd\n",
    "from datetime import datetime\n",
    "from pandas import DataFrame"
   ]
  },
  {
   "cell_type": "code",
   "execution_count": 11,
   "metadata": {},
   "outputs": [],
   "source": [
    "lion = pd.read_excel(r'C:\\Users\\USER\\Desktop\\大學\\大三\\三下\\計算機程式\\lion_test - 複製 (2).xlsx', encoding='gbk')"
   ]
  },
  {
   "cell_type": "code",
   "execution_count": 13,
   "metadata": {},
   "outputs": [
    {
     "data": {
      "text/html": [
       "<div>\n",
       "<style scoped>\n",
       "    .dataframe tbody tr th:only-of-type {\n",
       "        vertical-align: middle;\n",
       "    }\n",
       "\n",
       "    .dataframe tbody tr th {\n",
       "        vertical-align: top;\n",
       "    }\n",
       "\n",
       "    .dataframe thead th {\n",
       "        text-align: right;\n",
       "    }\n",
       "</style>\n",
       "<table border=\"1\" class=\"dataframe\">\n",
       "  <thead>\n",
       "    <tr style=\"text-align: right;\">\n",
       "      <th></th>\n",
       "      <th>日期</th>\n",
       "      <th>code</th>\n",
       "      <th>證券名稱</th>\n",
       "      <th>國際證券編碼</th>\n",
       "      <th>發行股數</th>\n",
       "      <th>外資及陸資尚可投資股數</th>\n",
       "      <th>全體外資及陸資持有股數</th>\n",
       "      <th>外資及陸資尚可投資比率</th>\n",
       "      <th>全體外資及陸資持股比率</th>\n",
       "      <th>外資及陸資共用法令投資上限比率</th>\n",
       "      <th>陸資法令投資上限比率</th>\n",
       "    </tr>\n",
       "  </thead>\n",
       "  <tbody>\n",
       "    <tr>\n",
       "      <th>0</th>\n",
       "      <td>2015-01-05</td>\n",
       "      <td>3130</td>\n",
       "      <td>一零四</td>\n",
       "      <td>TW0003130001</td>\n",
       "      <td>32,989,700</td>\n",
       "      <td>20,381,431</td>\n",
       "      <td>12,608,269</td>\n",
       "      <td>61.78</td>\n",
       "      <td>38.21</td>\n",
       "      <td>100.0</td>\n",
       "      <td>100.0</td>\n",
       "    </tr>\n",
       "    <tr>\n",
       "      <th>1</th>\n",
       "      <td>2015-01-06</td>\n",
       "      <td>3130</td>\n",
       "      <td>一零四</td>\n",
       "      <td>TW0003130001</td>\n",
       "      <td>32,989,700</td>\n",
       "      <td>20,378,431</td>\n",
       "      <td>12,611,269</td>\n",
       "      <td>61.77</td>\n",
       "      <td>38.22</td>\n",
       "      <td>100.0</td>\n",
       "      <td>100.0</td>\n",
       "    </tr>\n",
       "    <tr>\n",
       "      <th>2</th>\n",
       "      <td>2015-01-07</td>\n",
       "      <td>3130</td>\n",
       "      <td>一零四</td>\n",
       "      <td>TW0003130001</td>\n",
       "      <td>32,989,700</td>\n",
       "      <td>20,377,431</td>\n",
       "      <td>12,612,269</td>\n",
       "      <td>61.76</td>\n",
       "      <td>38.23</td>\n",
       "      <td>100.0</td>\n",
       "      <td>100.0</td>\n",
       "    </tr>\n",
       "    <tr>\n",
       "      <th>3</th>\n",
       "      <td>2015-01-08</td>\n",
       "      <td>3130</td>\n",
       "      <td>一零四</td>\n",
       "      <td>TW0003130001</td>\n",
       "      <td>32,989,700</td>\n",
       "      <td>20,375,431</td>\n",
       "      <td>12,614,269</td>\n",
       "      <td>61.76</td>\n",
       "      <td>38.23</td>\n",
       "      <td>100.0</td>\n",
       "      <td>100.0</td>\n",
       "    </tr>\n",
       "    <tr>\n",
       "      <th>4</th>\n",
       "      <td>2015-01-09</td>\n",
       "      <td>3130</td>\n",
       "      <td>一零四</td>\n",
       "      <td>TW0003130001</td>\n",
       "      <td>32,989,700</td>\n",
       "      <td>20,379,431</td>\n",
       "      <td>12,610,269</td>\n",
       "      <td>61.77</td>\n",
       "      <td>38.22</td>\n",
       "      <td>100.0</td>\n",
       "      <td>100.0</td>\n",
       "    </tr>\n",
       "  </tbody>\n",
       "</table>\n",
       "</div>"
      ],
      "text/plain": [
       "          日期  code 證券名稱        國際證券編碼        發行股數 外資及陸資尚可投資股數 全體外資及陸資持有股數  \\\n",
       "0 2015-01-05  3130  一零四  TW0003130001  32,989,700  20,381,431  12,608,269   \n",
       "1 2015-01-06  3130  一零四  TW0003130001  32,989,700  20,378,431  12,611,269   \n",
       "2 2015-01-07  3130  一零四  TW0003130001  32,989,700  20,377,431  12,612,269   \n",
       "3 2015-01-08  3130  一零四  TW0003130001  32,989,700  20,375,431  12,614,269   \n",
       "4 2015-01-09  3130  一零四  TW0003130001  32,989,700  20,379,431  12,610,269   \n",
       "\n",
       "   外資及陸資尚可投資比率  全體外資及陸資持股比率  外資及陸資共用法令投資上限比率  陸資法令投資上限比率  \n",
       "0        61.78        38.21            100.0       100.0  \n",
       "1        61.77        38.22            100.0       100.0  \n",
       "2        61.76        38.23            100.0       100.0  \n",
       "3        61.76        38.23            100.0       100.0  \n",
       "4        61.77        38.22            100.0       100.0  "
      ]
     },
     "execution_count": 13,
     "metadata": {},
     "output_type": "execute_result"
    }
   ],
   "source": [
    "lion.head()"
   ]
  },
  {
   "cell_type": "code",
   "execution_count": 16,
   "metadata": {},
   "outputs": [],
   "source": [
    "元大MSCI = lion.loc[lion['證券名稱']=='元大MSCI台灣']"
   ]
  },
  {
   "cell_type": "code",
   "execution_count": 18,
   "metadata": {},
   "outputs": [],
   "source": [
    "df1 = pd.read_excel(r'C:\\Users\\USER\\Desktop\\大學\\大三\\三下\\計算機程式\\最終檔\\1. 6203 元大MSCI台灣.xlsx',encoding='gbk')\n",
    "df1a = pd.read_excel(r'C:\\Users\\USER\\Desktop\\大學\\大三\\三下\\計算機程式\\綜合數據 - 複製.xlsx',encoding='gbk')\n",
    "left = pd.DataFrame(df1)\n",
    "right = pd.DataFrame(df1a)\n",
    "b = pd.merge(left,right, on='日期')"
   ]
  },
  {
   "cell_type": "code",
   "execution_count": 19,
   "metadata": {},
   "outputs": [],
   "source": [
    "b.to_csv(r'C:\\Users\\USER\\Desktop\\大學\\大三\\三下\\計算機程式\\final\\1. 元大MSCI台灣.csv',index=False,columns=None,encoding='utf-8-sig')"
   ]
  },
  {
   "cell_type": "code",
   "execution_count": 20,
   "metadata": {},
   "outputs": [],
   "source": [
    "center = pd.DataFrame(元大MSCI)\n",
    "c = pd.merge(b,center,on='日期')"
   ]
  },
  {
   "cell_type": "code",
   "execution_count": 24,
   "metadata": {},
   "outputs": [],
   "source": [
    "c.drop(['code','證券名稱','國際證券編碼'],axis=1,inplace=True)"
   ]
  },
  {
   "cell_type": "code",
   "execution_count": 26,
   "metadata": {},
   "outputs": [],
   "source": [
    "c.to_csv(r'C:\\Users\\USER\\Desktop\\大學\\大三\\三下\\計算機程式\\final\\1. 元大MSCI台灣.csv',index=False,columns=None,encoding='utf-8-sig')"
   ]
  },
  {
   "cell_type": "code",
   "execution_count": null,
   "metadata": {},
   "outputs": [],
   "source": []
  },
  {
   "cell_type": "code",
   "execution_count": null,
   "metadata": {},
   "outputs": [],
   "source": []
  }
 ],
 "metadata": {
  "kernelspec": {
   "display_name": "Python 3",
   "language": "python",
   "name": "python3"
  },
  "language_info": {
   "codemirror_mode": {
    "name": "ipython",
    "version": 3
   },
   "file_extension": ".py",
   "mimetype": "text/x-python",
   "name": "python",
   "nbconvert_exporter": "python",
   "pygments_lexer": "ipython3",
   "version": "3.7.3"
  }
 },
 "nbformat": 4,
 "nbformat_minor": 2
}
