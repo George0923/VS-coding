{
 "cells": [
  {
   "cell_type": "code",
   "execution_count": 1,
   "metadata": {},
   "outputs": [],
   "source": [
    "%matplotlib inline\n",
    "import numpy as np\n",
    "import matplotlib.pyplot as plt\n",
    "import pandas as pd\n",
    "from ipywidgets import interact\n",
    "import random"
   ]
  },
  {
   "cell_type": "code",
   "execution_count": 2,
   "metadata": {},
   "outputs": [],
   "source": [
    "def f(choice):\n",
    "    print(choice)\n",
    "    mac = [\"大麥克\", \"雙層牛肉吉士堡\", \"安格斯黑牛堡\", \"嫩煎雞腿堡\", \"麥香雞\", \"麥克雞塊(6塊)\", \"麥克雞塊(10塊)\", \"勁辣雞腿堡\", \"麥脆雞腿\", \"麥脆雞翅\", \"黃金起司豬排堡\", \"麥香魚\", \"千島黃金蝦堡\"]\n",
    "    kfc = [\"泡菜起司脆雞捲重量級XL套餐\", \"吮指雙雞重量級XL套餐\", \"卡拉雞腿堡重量級XL套餐\", \"原味蛋塔一盒\"]\n",
    "    mos = [\"海老天丼珍珠堡\", \"炙燒烤雞珍珠堡\", \"黎麥燒肉珍珠堡\", \"燒肉珍珠堡\", \"摩斯吉士漢堡\", \"蜜汁烤雞起司堡\", \"摩斯鱈魚堡\", \"黃金炸蝦堡\", \"厚切培根和牛堡\", \"青檸雙牛堡\", \"摩斯熱狗堡\"]\n",
    "    gf = [\"美國起司牛丼\", \"元氣豬排飯\", \"無敵天丼\", \"親子丼\", \"政男蓋飯\", \"政妹蓋飯\", \"和風唐揚炸雞\"]\n",
    "    hm = [\"照燒牛小排\", \"和風炸雞\", \"和風豬排\", \"咖哩豬排\", \"和風魚排\", \"泰式魚排\", \"厚切大豬排\", \"炸雞腿\"]\n",
    "    bf = [\"他已經倒了 抱歉QQQ, 政大唯一神店 嗚嗚嗚\"]\n",
    "    milkshop = [\"大正紅茶\",\" 決明大麥\",\"珍珠紅茶拿鐵\",\"伯爵紅茶拿鐵\",\"麥茶拿鐵\",\"布丁紅茶拿鐵\",\"冬瓜鮮奶\",\"大甲芋頭鮮奶\",\"原鄉冬瓜茶\",\" 蜂農花蜜茶\"]\n",
    "    cowbanana = [\"英式咖啡\", \"焦糖瑪奇朵\", \"香蕉巧克力鮮奶\", \"Oreo香蕉鮮奶\", \"大甲芋頭鮮奶\", \"黃金烏龍茶\", \"鮮水果茶\"]\n",
    "    fresh = [\"錫蘭紅茶\",\"黃金地瓜奶茶\",\"布丁奶茶\",\"鮮奶茶\",\"鮮奶冬瓜\",\"蜜茶\",\"冬瓜檸檬\",\"蘆薈蜂蜜檸檬\",\"冰淇淋紅茶\"]\n",
    "    if choice == \"麥當勞\":\n",
    "        print(random.sample(mac, 1))\n",
    "    elif choice == \"肯德基\":\n",
    "        print(random.sample(kfc, 1))\n",
    "    elif choice == \"摩斯\":\n",
    "        print(random.sample(mos, 1))\n",
    "    elif choice == \"金鰭\":\n",
    "        print(random.sample(gf, 1))\n",
    "    elif choice == \"樂山\":\n",
    "        print(random.sample(hm, 1))\n",
    "    elif choice == \"澤食堂\":\n",
    "        print(random.sample(bf, 1))\n",
    "    elif choice == \"迷克夏\":\n",
    "        print(random.sample(milkshop, 1))\n",
    "    elif choice == \"cowbanana\":\n",
    "        print(random.sample(cowbanana, 1))\n",
    "    else:\n",
    "        print(random.sample(fresh, 1))"
   ]
  },
  {
   "cell_type": "code",
   "execution_count": 3,
   "metadata": {},
   "outputs": [
    {
     "data": {
      "application/vnd.jupyter.widget-view+json": {
       "model_id": "11544cef5d544bb5943ed6d45b28bab4",
       "version_major": 2,
       "version_minor": 0
      },
      "text/plain": [
       "interactive(children=(Dropdown(description='choice', options=('肯德基', '摩斯', '樂山', '麥當勞', '金鰭', 'cowbanana', '清新…"
      ]
     },
     "metadata": {},
     "output_type": "display_data"
    }
   ],
   "source": [
    "interact(f, choice = {\"麥當勞\", \"肯德基\", \"摩斯\", \"金鰭\", \"樂山\", \"澤食堂\", \"迷克夏\", \"cowbanana\", \"清新\"});"
   ]
  },
  {
   "cell_type": "code",
   "execution_count": null,
   "metadata": {},
   "outputs": [],
   "source": []
  }
 ],
 "metadata": {
  "kernelspec": {
   "display_name": "Python 3",
   "language": "python",
   "name": "python3"
  },
  "language_info": {
   "codemirror_mode": {
    "name": "ipython",
    "version": 3
   },
   "file_extension": ".py",
   "mimetype": "text/x-python",
   "name": "python",
   "nbconvert_exporter": "python",
   "pygments_lexer": "ipython3",
   "version": "3.7.3"
  }
 },
 "nbformat": 4,
 "nbformat_minor": 2
}
