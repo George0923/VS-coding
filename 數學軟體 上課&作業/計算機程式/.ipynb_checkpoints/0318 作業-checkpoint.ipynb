{
 "cells": [
  {
   "cell_type": "code",
   "execution_count": 1,
   "metadata": {},
   "outputs": [],
   "source": [
    "%matplotlib inline\n",
    "\n",
    "import numpy as np\n",
    "import matplotlib.pyplot as plt"
   ]
  },
  {
   "cell_type": "markdown",
   "metadata": {},
   "source": [
    "# 讀入Fashion MNIST 數據"
   ]
  },
  {
   "cell_type": "code",
   "execution_count": 2,
   "metadata": {},
   "outputs": [],
   "source": [
    "from tensorflow.keras.datasets import fashion_mnist"
   ]
  },
  {
   "cell_type": "code",
   "execution_count": 3,
   "metadata": {},
   "outputs": [
    {
     "name": "stdout",
     "output_type": "stream",
     "text": [
      "Downloading data from https://storage.googleapis.com/tensorflow/tf-keras-datasets/train-labels-idx1-ubyte.gz\n",
      "32768/29515 [=================================] - 0s 2us/step\n",
      "Downloading data from https://storage.googleapis.com/tensorflow/tf-keras-datasets/train-images-idx3-ubyte.gz\n",
      "26427392/26421880 [==============================] - 34s 1us/step\n",
      "Downloading data from https://storage.googleapis.com/tensorflow/tf-keras-datasets/t10k-labels-idx1-ubyte.gz\n",
      "8192/5148 [===============================================] - 0s 2us/step\n",
      "Downloading data from https://storage.googleapis.com/tensorflow/tf-keras-datasets/t10k-images-idx3-ubyte.gz\n",
      "4423680/4422102 [==============================] - 4s 1us/step\n"
     ]
    }
   ],
   "source": [
    "(x_train, y_train), (x_test, y_test) = fashion_mnist.load_data()"
   ]
  },
  {
   "cell_type": "markdown",
   "metadata": {},
   "source": [
    "# 欣賞數據集內容"
   ]
  },
  {
   "cell_type": "code",
   "execution_count": 4,
   "metadata": {},
   "outputs": [],
   "source": [
    "class_names = ['T-shirt/top', 'Trouser', 'Pullover', 'Dress', 'Coat',\n",
    "               'Sandal', 'Shirt', 'Sneaker', 'Bag', 'Ankle boot']"
   ]
  },
  {
   "cell_type": "code",
   "execution_count": 5,
   "metadata": {},
   "outputs": [
    {
     "data": {
      "text/plain": [
       "60000"
      ]
     },
     "execution_count": 5,
     "metadata": {},
     "output_type": "execute_result"
    }
   ],
   "source": [
    "len(x_train)"
   ]
  },
  {
   "cell_type": "code",
   "execution_count": 6,
   "metadata": {},
   "outputs": [
    {
     "data": {
      "text/plain": [
       "10000"
      ]
     },
     "execution_count": 6,
     "metadata": {},
     "output_type": "execute_result"
    }
   ],
   "source": [
    "len(x_test)"
   ]
  },
  {
   "cell_type": "code",
   "execution_count": 8,
   "metadata": {},
   "outputs": [
    {
     "name": "stdout",
     "output_type": "stream",
     "text": [
      "這是 Shirt\n"
     ]
    },
    {
     "data": {
      "image/png": "[encoded data removed]",
      "text/plain": [
       "<Figure size 432x288 with 1 Axes>"
      ]
     },
     "metadata": {
      "needs_background": "light"
     },
     "output_type": "display_data"
    }
   ],
   "source": [
    "n=1200\n",
    "print('這是',class_names[y_train[n]])\n",
    "plt.imshow(x_train[n],cmap='Greys');"
   ]
  },
  {
   "cell_type": "code",
   "execution_count": 9,
   "metadata": {},
   "outputs": [
    {
     "data": {
      "image/png": "[encoded data removed]",
      "text/plain": [
       "<Figure size 432x288 with 5 Axes>"
      ]
     },
     "metadata": {},
     "output_type": "display_data"
    }
   ],
   "source": [
    "pick = np.random.choice(60000,5,replace=False)\n",
    "\n",
    "for i in range(5):\n",
    "    n = pick[i]\n",
    "    ax = plt.subplot(151+i)\n",
    "    ax.set_xticks([])\n",
    "    ax.set_yticks([])\n",
    "    ax.set_title(class_names[y_train[n]], fontsize=10)\n",
    "    plt.imshow(x_train[n], cmap='Greys') "
   ]
  },
  {
   "cell_type": "code",
   "execution_count": 10,
   "metadata": {},
   "outputs": [],
   "source": [
    "x_train = x_train/255\n",
    "x_test = x_test/255"
   ]
  },
  {
   "cell_type": "code",
   "execution_count": 11,
   "metadata": {},
   "outputs": [
    {
     "data": {
      "text/plain": [
       "(60000, 28, 28)"
      ]
     },
     "execution_count": 11,
     "metadata": {},
     "output_type": "execute_result"
    }
   ],
   "source": [
    "x_train.shape"
   ]
  },
  {
   "cell_type": "code",
   "execution_count": 12,
   "metadata": {},
   "outputs": [],
   "source": [
    "x_train = x_train.reshape(60000,784)\n",
    "x_test = x_test.reshape(10000,784)"
   ]
  },
  {
   "cell_type": "code",
   "execution_count": 13,
   "metadata": {},
   "outputs": [
    {
     "data": {
      "text/plain": [
       "array([0., 0., 0., 0., 0., 0., 1., 0., 0., 0.], dtype=float32)"
      ]
     },
     "execution_count": 13,
     "metadata": {},
     "output_type": "execute_result"
    }
   ],
   "source": [
    "from tensorflow.keras.utils import to_categorical\n",
    "y_train = to_categorical(y_train,10)\n",
    "y_test = to_categorical(y_test,10)\n",
    "y_train[9488]"
   ]
  },
  {
   "cell_type": "markdown",
   "metadata": {},
   "source": [
    "# 打造神經網路"
   ]
  },
  {
   "cell_type": "code",
   "execution_count": 14,
   "metadata": {},
   "outputs": [],
   "source": [
    "from tensorflow.keras.models import Sequential\n",
    "from tensorflow.keras.layers import Dense\n",
    "from tensorflow.keras.optimizers import SGD\n",
    "model = Sequential()"
   ]
  },
  {
   "cell_type": "code",
   "execution_count": 15,
   "metadata": {},
   "outputs": [],
   "source": [
    "model.add(Dense(150,input_dim=784,activation='relu'))\n",
    "model.add(Dense(150,activation='relu'))\n",
    "model.add(Dense(75,activation='relu'))\n",
    "model.add(Dense(10,activation='softmax'))"
   ]
  },
  {
   "cell_type": "markdown",
   "metadata": {},
   "source": [
    "# 組裝神經網路"
   ]
  },
  {
   "cell_type": "code",
   "execution_count": 16,
   "metadata": {},
   "outputs": [
    {
     "name": "stdout",
     "output_type": "stream",
     "text": [
      "Model: \"sequential\"\n",
      "_________________________________________________________________\n",
      "Layer (type)                 Output Shape              Param #   \n",
      "=================================================================\n",
      "dense (Dense)                (None, 150)               117750    \n",
      "_________________________________________________________________\n",
      "dense_1 (Dense)              (None, 150)               22650     \n",
      "_________________________________________________________________\n",
      "dense_2 (Dense)              (None, 75)                11325     \n",
      "_________________________________________________________________\n",
      "dense_3 (Dense)              (None, 10)                760       \n",
      "=================================================================\n",
      "Total params: 152,485\n",
      "Trainable params: 152,485\n",
      "Non-trainable params: 0\n",
      "_________________________________________________________________\n"
     ]
    }
   ],
   "source": [
    "model.compile(loss='mse', optimizer=SGD(lr=0.087),metrics = ['accuracy'])\n",
    "model.summary()"
   ]
  },
  {
   "cell_type": "code",
   "execution_count": 17,
   "metadata": {},
   "outputs": [
    {
     "name": "stdout",
     "output_type": "stream",
     "text": [
      "Train on 60000 samples\n",
      "Epoch 1/40\n",
      "60000/60000 [==============================] - 12s 207us/sample - loss: 0.0458 - accuracy: 0.6740\n",
      "Epoch 2/40\n",
      "60000/60000 [==============================] - 11s 178us/sample - loss: 0.0269 - accuracy: 0.8204\n",
      "Epoch 3/40\n",
      "60000/60000 [==============================] - 11s 181us/sample - loss: 0.0240 - accuracy: 0.8378\n",
      "Epoch 4/40\n",
      "60000/60000 [==============================] - 11s 180us/sample - loss: 0.0224 - accuracy: 0.8483\n",
      "Epoch 5/40\n",
      "60000/60000 [==============================] - 11s 180us/sample - loss: 0.0214 - accuracy: 0.8565\n",
      "Epoch 6/40\n",
      "60000/60000 [==============================] - ETA: 0s - loss: 0.0205 - accuracy: 0.86 - 11s 181us/sample - loss: 0.0205 - accuracy: 0.8611\n",
      "Epoch 7/40\n",
      "60000/60000 [==============================] - 11s 189us/sample - loss: 0.0198 - accuracy: 0.8667\n",
      "Epoch 8/40\n",
      "60000/60000 [==============================] - 11s 187us/sample - loss: 0.0193 - accuracy: 0.8697\n",
      "Epoch 9/40\n",
      "60000/60000 [==============================] - 11s 188us/sample - loss: 0.0187 - accuracy: 0.8742\n",
      "Epoch 10/40\n",
      "60000/60000 [==============================] - 11s 186us/sample - loss: 0.0183 - accuracy: 0.8763\n",
      "Epoch 11/40\n",
      "60000/60000 [==============================] - 11s 189us/sample - loss: 0.0178 - accuracy: 0.8794\n",
      "Epoch 12/40\n",
      "60000/60000 [==============================] - 11s 189us/sample - loss: 0.0175 - accuracy: 0.8817\n",
      "Epoch 13/40\n",
      "60000/60000 [==============================] - 11s 188us/sample - loss: 0.0171 - accuracy: 0.8843\n",
      "Epoch 14/40\n",
      "60000/60000 [==============================] - 11s 188us/sample - loss: 0.0168 - accuracy: 0.8857\n",
      "Epoch 15/40\n",
      "60000/60000 [==============================] - 11s 189us/sample - loss: 0.0165 - accuracy: 0.8891\n",
      "Epoch 16/40\n",
      "60000/60000 [==============================] - 11s 185us/sample - loss: 0.0162 - accuracy: 0.8915\n",
      "Epoch 17/40\n",
      "60000/60000 [==============================] - 10s 170us/sample - loss: 0.0160 - accuracy: 0.8933\n",
      "Epoch 18/40\n",
      "60000/60000 [==============================] - 11s 183us/sample - loss: 0.0157 - accuracy: 0.8948\n",
      "Epoch 19/40\n",
      "60000/60000 [==============================] - 11s 179us/sample - loss: 0.0155 - accuracy: 0.8966\n",
      "Epoch 20/40\n",
      "60000/60000 [==============================] - 11s 176us/sample - loss: 0.0152 - accuracy: 0.8985\n",
      "Epoch 21/40\n",
      "60000/60000 [==============================] - 11s 181us/sample - loss: 0.0149 - accuracy: 0.9001\n",
      "Epoch 22/40\n",
      "60000/60000 [==============================] - 11s 182us/sample - loss: 0.0148 - accuracy: 0.9014\n",
      "Epoch 23/40\n",
      "60000/60000 [==============================] - 11s 188us/sample - loss: 0.0146 - accuracy: 0.9034\n",
      "Epoch 24/40\n",
      "60000/60000 [==============================] - 11s 187us/sample - loss: 0.0143 - accuracy: 0.9053\n",
      "Epoch 25/40\n",
      "60000/60000 [==============================] - 11s 187us/sample - loss: 0.0142 - accuracy: 0.9067\n",
      "Epoch 26/40\n",
      "60000/60000 [==============================] - 11s 188us/sample - loss: 0.0140 - accuracy: 0.9067\n",
      "Epoch 27/40\n",
      "60000/60000 [==============================] - 11s 190us/sample - loss: 0.0138 - accuracy: 0.9088\n",
      "Epoch 28/40\n",
      "60000/60000 [==============================] - 11s 189us/sample - loss: 0.0136 - accuracy: 0.9099\n",
      "Epoch 29/40\n",
      "60000/60000 [==============================] - 11s 188us/sample - loss: 0.0134 - accuracy: 0.9109\n",
      "Epoch 30/40\n",
      "60000/60000 [==============================] - 11s 188us/sample - loss: 0.0133 - accuracy: 0.9127\n",
      "Epoch 31/40\n",
      "60000/60000 [==============================] - 11s 185us/sample - loss: 0.0131 - accuracy: 0.9146\n",
      "Epoch 32/40\n",
      "60000/60000 [==============================] - 11s 184us/sample - loss: 0.0129 - accuracy: 0.9157\n",
      "Epoch 33/40\n",
      "60000/60000 [==============================] - 11s 187us/sample - loss: 0.0128 - accuracy: 0.9167\n",
      "Epoch 34/40\n",
      "60000/60000 [==============================] - 11s 188us/sample - loss: 0.0127 - accuracy: 0.9162\n",
      "Epoch 35/40\n",
      "60000/60000 [==============================] - 11s 184us/sample - loss: 0.0125 - accuracy: 0.9184\n",
      "Epoch 36/40\n",
      "60000/60000 [==============================] - 11s 184us/sample - loss: 0.0123 - accuracy: 0.9195\n",
      "Epoch 37/40\n",
      "60000/60000 [==============================] - 11s 186us/sample - loss: 0.0122 - accuracy: 0.9204\n",
      "Epoch 38/40\n",
      "60000/60000 [==============================] - 12s 194us/sample - loss: 0.0120 - accuracy: 0.9226\n",
      "Epoch 39/40\n",
      "60000/60000 [==============================] - 12s 196us/sample - loss: 0.0119 - accuracy: 0.9231\n",
      "Epoch 40/40\n",
      "60000/60000 [==============================] - 11s 186us/sample - loss: 0.0118 - accuracy: 0.9238\n"
     ]
    },
    {
     "data": {
      "text/plain": [
       "<tensorflow.python.keras.callbacks.History at 0xeb0b69bc18>"
      ]
     },
     "execution_count": 17,
     "metadata": {},
     "output_type": "execute_result"
    }
   ],
   "source": [
    "model.fit(x_train,y_train,batch_size=25,epochs=40)"
   ]
  },
  {
   "cell_type": "code",
   "execution_count": 22,
   "metadata": {},
   "outputs": [
    {
     "name": "stdout",
     "output_type": "stream",
     "text": [
      "神經網路預測是 T-shirt/top\n"
     ]
    },
    {
     "data": {
      "image/png": "[encoded data removed]",
      "text/plain": [
       "<Figure size 432x288 with 1 Axes>"
      ]
     },
     "metadata": {
      "needs_background": "light"
     },
     "output_type": "display_data"
    }
   ],
   "source": [
    "result = model.predict_classes(x_test)\n",
    "n = 3500\n",
    "print('神經網路預測是', class_names[result[n]])\n",
    "plt.imshow(x_test[n].reshape(28,28),cmap='Greys');"
   ]
  },
  {
   "cell_type": "code",
   "execution_count": null,
   "metadata": {},
   "outputs": [],
   "source": []
  }
 ],
 "metadata": {
  "kernelspec": {
   "display_name": "Python 3",
   "language": "python",
   "name": "python3"
  },
  "language_info": {
   "codemirror_mode": {
    "name": "ipython",
    "version": 3
   },
   "file_extension": ".py",
   "mimetype": "text/x-python",
   "name": "python",
   "nbconvert_exporter": "python",
   "pygments_lexer": "ipython3",
   "version": "3.7.3"
  }
 },
 "nbformat": 4,
 "nbformat_minor": 2
}
