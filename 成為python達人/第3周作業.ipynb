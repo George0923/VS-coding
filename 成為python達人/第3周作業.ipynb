{
 "cells": [
  {
   "cell_type": "markdown",
   "metadata": {},
   "source": [
    "# 作業1"
   ]
  },
  {
   "cell_type": "code",
   "execution_count": 1,
   "metadata": {},
   "outputs": [],
   "source": [
    "import random\n",
    "import numpy as np\n",
    "import matplotlib.pyplot as plt"
   ]
  },
  {
   "cell_type": "code",
   "execution_count": 2,
   "metadata": {},
   "outputs": [
    {
     "name": "stdout",
     "output_type": "stream",
     "text": [
      "A班成績:\n",
      " [[88  7 77  9  1]\n",
      " [75 51 86 42 80]\n",
      " [29 52 53 16 14]\n",
      " [69 56 54 97 41]\n",
      " [20 61  3 96 24]\n",
      " [ 8  5 65 56  4]\n",
      " [ 7 10 62 28 24]\n",
      " [84 57 50 87 73]\n",
      " [87 64 41 36 48]\n",
      " [68 84 17 34 74]] \n",
      "\n",
      "A班的加權後成績為:\n",
      "[44.45 67.3  37.3  63.4  37.8  28.3  26.35 68.1  58.2  54.75]\n",
      "B班成績:\n",
      " [[70 85 93 82 39]\n",
      " [74 13 14 45 83]\n",
      " [67 66 77 78 83]\n",
      " [60 43 91 13 91]\n",
      " [ 5 87 82 55 94]\n",
      " [55 87 46 71 43]\n",
      " [36 31 21 23 25]\n",
      " [41 16 65 74  9]\n",
      " [ 7 43 45 30 53]\n",
      " [73 52 37 63 44]] \n",
      "\n",
      "B班的加權後成績為:\n",
      "[78.2  40.3  72.5  59.55 61.15 61.95 27.95 42.5  33.55 54.35]\n",
      "C班成績:\n",
      " [[32 69 10 75 32]\n",
      " [ 3 78 13 18 39]\n",
      " [ 7 33 98 97 93]\n",
      " [64 84 47 91 22]\n",
      " [41 17 66 58 94]\n",
      " [28 56 12 54 75]\n",
      " [53 30 12 33 35]\n",
      " [ 8 61 88 74 90]\n",
      " [14  2 27 15 10]\n",
      " [40 71 77 45 61]] \n",
      "\n",
      "C班的加權後成績為:\n",
      "[42.2  30.1  58.35 64.6  49.1  39.6  32.2  59.35 14.   59.85]\n"
     ]
    }
   ],
   "source": [
    "A=np.random.randint(100,size=(10,5))\n",
    "B=np.random.randint(100,size=(10,5))\n",
    "C=np.random.randint(100,size=(10,5))\n",
    "\n",
    "W=np.array([0.25,0.25,0.25,0.15,0.10])\n",
    "WA = np.dot(A,W)\n",
    "WB = np.dot(B,W)\n",
    "WC = np.dot(C,W)\n",
    "print(\"A班成績:\\n\",A,\"\\n\")\n",
    "print(\"A班的加權後成績為:\\n{}\".format(WA))\n",
    "print(\"B班成績:\\n\",B,\"\\n\")\n",
    "print(\"B班的加權後成績為:\\n{}\".format(WB))\n",
    "print(\"C班成績:\\n\",C,\"\\n\")\n",
    "print(\"C班的加權後成績為:\\n{}\".format(WC))"
   ]
  },
  {
   "cell_type": "markdown",
   "metadata": {},
   "source": [
    "# 作業2"
   ]
  },
  {
   "cell_type": "code",
   "execution_count": 3,
   "metadata": {},
   "outputs": [
    {
     "name": "stdout",
     "output_type": "stream",
     "text": [
      "[ 9 21 10 31 25 34 87 56 18 28 87 35 25 13 55 80 96 19 18 89 92 54  3 25\n",
      " 22 41 13 98 14 58 99 84 96  7 61 39 15 63 50 82]\n"
     ]
    }
   ],
   "source": [
    "grade=np.random.randint(101,size=40)\n",
    "print(grade)"
   ]
  },
  {
   "cell_type": "code",
   "execution_count": 4,
   "metadata": {},
   "outputs": [
    {
     "name": "stdout",
     "output_type": "stream",
     "text": [
      "最高分為: 99\n",
      "最低分為: 3\n",
      "及格人數(>=60): 13\n",
      "平均數: 46.3\n",
      "標準差: 31.04770522921138\n"
     ]
    }
   ],
   "source": [
    "print(\"最高分為:\",max(grade))\n",
    "print(\"最低分為:\",min(grade))\n",
    "count=0\n",
    "for i in range(len(grade)):\n",
    "    if(grade[i]>=60):\n",
    "        count+=1\n",
    "print(\"及格人數(>=60):\",count)\n",
    "print(\"平均數:\",np.mean(grade))\n",
    "print(\"標準差:\",np.std(grade))"
   ]
  },
  {
   "cell_type": "code",
   "execution_count": 5,
   "metadata": {},
   "outputs": [
    {
     "data": {
      "image/png": "[encoded data removed]",
      "text/plain": [
       "<Figure size 432x288 with 1 Axes>"
      ]
     },
     "metadata": {
      "needs_background": "light"
     },
     "output_type": "display_data"
    }
   ],
   "source": [
    "x=np.arange(0,110,10)\n",
    "plt.xticks(x)\n",
    "plt.hist(grade);"
   ]
  }
 ],
 "metadata": {
  "kernelspec": {
   "display_name": "Python 3",
   "language": "python",
   "name": "python3"
  },
  "language_info": {
   "codemirror_mode": {
    "name": "ipython",
    "version": 3
   },
   "file_extension": ".py",
   "mimetype": "text/x-python",
   "name": "python",
   "nbconvert_exporter": "python",
   "pygments_lexer": "ipython3",
   "version": "3.7.3"
  }
 },
 "nbformat": 4,
 "nbformat_minor": 2
}
