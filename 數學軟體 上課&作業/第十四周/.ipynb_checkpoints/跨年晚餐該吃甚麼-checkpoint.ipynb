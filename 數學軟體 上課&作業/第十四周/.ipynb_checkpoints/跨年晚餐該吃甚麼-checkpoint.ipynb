{
 "cells": [
  {
   "cell_type": "code",
   "execution_count": 1,
   "metadata": {},
   "outputs": [],
   "source": [
    "%matplotlib inline\n",
    "import numpy as np\n",
    "import pandas as pd\n",
    "import matplotlib.pyplot as plt\n",
    "import random\n",
    "from ipywidgets import interact"
   ]
  },
  {
   "cell_type": "code",
   "execution_count": 11,
   "metadata": {},
   "outputs": [
    {
     "name": "stdout",
     "output_type": "stream",
     "text": [
      "跨年夜晚餐該吃一波小火鍋惹吧, 推薦你吃 ['飛驒涮涮鍋']\n"
     ]
    }
   ],
   "source": [
    "food = [\"臭豆腐\", \"雞排\", \"小火鍋\", \"燒烤\", \"壽喜燒\"]\n",
    "food_choice = random.sample(food,1)\n",
    "stinky = [\"深坑臭豆腐\", \"阿昌麵線臭豆腐\", \"萬隆臭豆腐\"]\n",
    "stinky_choice = random.sample(stinky,1)\n",
    "chicken = [\"派克雞排\", \"起家雞\",\"G優生\"]\n",
    "chicken_choice = random.sample(chicken,1)\n",
    "hotpot = [\"石二鍋\",\"湯媽精緻小火鍋\",\"飛驒涮涮鍋\"]\n",
    "hotpot_choice = random.sample(hotpot,1)\n",
    "grill = [\"木柵串霸\",\"楓 居酒燒\",\"牛角燒肉\"]\n",
    "grill_choice = random.sample(grill,1)\n",
    "sukiyaki = [\"壽喜燒一丁二代目\", \"錢都日式涮涮鍋\", \"momo paradise\"]\n",
    "sukiyaki_choice = random.sample(sukiyaki,1)\n",
    "if food_choice == [\"臭豆腐\"]:\n",
    "    print(\"跨年夜晚餐該吃一波臭豆腐惹吧, 推薦你吃\",stinky_choice)\n",
    "elif food_choice == [\"雞排\"]:\n",
    "    print(\"跨年夜晚餐該吃一波雞排惹吧, 推薦你吃\",chicken_choice)\n",
    "elif food_choice == [\"小火鍋\"]:\n",
    "    print(\"跨年夜晚餐該吃一波小火鍋惹吧, 推薦你吃\",hotpot_choice)\n",
    "elif food_choice == [\"燒烤\"]:\n",
    "    print(\"跨年夜晚餐該吃一波燒烤惹吧, 推薦你吃\",grill_choice)\n",
    "else:\n",
    "    print(\"跨年夜晚餐該吃一波壽喜燒惹吧, 推薦你吃\",sukiyaki_choice)"
   ]
  }
 ],
 "metadata": {
  "kernelspec": {
   "display_name": "Python 3",
   "language": "python",
   "name": "python3"
  },
  "language_info": {
   "codemirror_mode": {
    "name": "ipython",
    "version": 3
   },
   "file_extension": ".py",
   "mimetype": "text/x-python",
   "name": "python",
   "nbconvert_exporter": "python",
   "pygments_lexer": "ipython3",
   "version": "3.7.3"
  }
 },
 "nbformat": 4,
 "nbformat_minor": 2
}
