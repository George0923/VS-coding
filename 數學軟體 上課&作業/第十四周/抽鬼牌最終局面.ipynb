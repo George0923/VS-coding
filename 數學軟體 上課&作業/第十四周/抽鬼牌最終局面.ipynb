{
 "cells": [
  {
   "cell_type": "code",
   "execution_count": 1,
   "metadata": {},
   "outputs": [],
   "source": [
    "%matplotlib inline\n",
    "import pandas as pd\n",
    "import numpy as np\n",
    "import matplotlib.pyplot as plt\n",
    "import random"
   ]
  },
  {
   "cell_type": "code",
   "execution_count": 6,
   "metadata": {},
   "outputs": [
    {
     "name": "stdout",
     "output_type": "stream",
     "text": [
      "你目前握有的手牌: ♥2\n",
      "對手目前的手排: ('♠2', '鬼牌')\n",
      "左or右左\n",
      "你抽到了 ['♠2']\n",
      "恭喜你贏了,遊戲結束\n"
     ]
    }
   ],
   "source": [
    "a = \"♥2\"\n",
    "print(\"你目前握有的手牌:\", a)\n",
    "b = \"♠2\",\"鬼牌\"\n",
    "print(\"對手目前的手排:\", b)\n",
    "\n",
    "while a != \"鬼牌\":\n",
    "    draw = input(\"左or右\")\n",
    "    if draw == \"左\":\n",
    "        left = random.sample(b,1)\n",
    "        print(\"你抽到了\", left)\n",
    "        if left == [\"♠2\"]:\n",
    "            print(\"恭喜你贏了,遊戲結束\")\n",
    "            break\n",
    "        else:\n",
    "            print(\"對手抽走了你的♥2,遊戲結束\")\n",
    "            break\n",
    "    if draw == \"右\":\n",
    "        right = random.sample(b,1)\n",
    "        print(\"你抽到了\", right)\n",
    "        if left == [\"♠2\"]:\n",
    "            print(\"恭喜你,遊戲結束\")\n",
    "            break\n",
    "        else:\n",
    "            print(\"對手抽走了你的♥2,遊戲結束\")\n",
    "            break"
   ]
  },
  {
   "cell_type": "code",
   "execution_count": null,
   "metadata": {},
   "outputs": [],
   "source": []
  }
 ],
 "metadata": {
  "kernelspec": {
   "display_name": "Python 3",
   "language": "python",
   "name": "python3"
  },
  "language_info": {
   "codemirror_mode": {
    "name": "ipython",
    "version": 3
   },
   "file_extension": ".py",
   "mimetype": "text/x-python",
   "name": "python",
   "nbconvert_exporter": "python",
   "pygments_lexer": "ipython3",
   "version": "3.7.3"
  }
 },
 "nbformat": 4,
 "nbformat_minor": 2
}
