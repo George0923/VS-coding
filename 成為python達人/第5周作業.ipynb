{
 "cells": [
  {
   "cell_type": "markdown",
   "metadata": {},
   "source": [
    "# 作業1 閏年計算"
   ]
  },
  {
   "cell_type": "code",
   "execution_count": 2,
   "metadata": {},
   "outputs": [
    {
     "name": "stdout",
     "output_type": "stream",
     "text": [
      "請輸入欲查詢年份：2500\n",
      "2500 年不是閏年\n"
     ]
    }
   ],
   "source": [
    "year = int(input(\"請輸入欲查詢年份：\"))\n",
    "\n",
    "if (year%4) == 0:\n",
    "    if (year%400) == 0:\n",
    "        print(year,\"年是閏年\")\n",
    "    elif (year%100) == 0:\n",
    "        print(year, \"年不是閏年\")\n",
    "    else:\n",
    "        print(year, \"年是閏年\")\n",
    "else:\n",
    "    print(year, \"年不是閏年\")"
   ]
  },
  {
   "cell_type": "markdown",
   "metadata": {},
   "source": [
    "# 作業2 實作五乘五矩陣的矩陣加法函式"
   ]
  },
  {
   "cell_type": "code",
   "execution_count": 3,
   "metadata": {},
   "outputs": [],
   "source": [
    "import numpy as np"
   ]
  },
  {
   "cell_type": "code",
   "execution_count": 4,
   "metadata": {},
   "outputs": [],
   "source": [
    "x = 10*np.random.randn(25)\n",
    "x.shape=(5,5)\n",
    "y = 10*(np.random.rand(25)-np.random.rand(25))\n",
    "y.shape=(5,5)"
   ]
  },
  {
   "cell_type": "code",
   "execution_count": 5,
   "metadata": {},
   "outputs": [],
   "source": [
    "def matrix_plus(x,y):\n",
    "    s=np.zeros((5,5))\n",
    "    for i in range(len(x)): #iteration through rows\n",
    "        for j in range(len(x[0])): #iteration through columns\n",
    "            s[i][j]=x[i][j]+y[i][j]\n",
    "    return s"
   ]
  },
  {
   "cell_type": "code",
   "execution_count": 6,
   "metadata": {},
   "outputs": [
    {
     "data": {
      "text/plain": [
       "array([[ -1.50032994,  -7.26982104,   2.64969657, -12.26872618,\n",
       "        -15.44884888],\n",
       "       [-14.31100936,  -3.63868281,   9.85089808,  13.15358936,\n",
       "          7.19559716],\n",
       "       [ -4.52331298,  -4.21551416,  -4.00321214,  -3.60858538,\n",
       "        -22.4064284 ],\n",
       "       [ 20.60216385,  -6.17686943,   5.46216106, -10.8969077 ,\n",
       "        -11.25414816],\n",
       "       [ 12.849337  ,   9.11004901,  20.56602215,  11.62507169,\n",
       "         -6.367388  ]])"
      ]
     },
     "execution_count": 6,
     "metadata": {},
     "output_type": "execute_result"
    }
   ],
   "source": [
    "matrix_plus(x,y)"
   ]
  },
  {
   "cell_type": "markdown",
   "metadata": {},
   "source": [
    "# 作業3 錄取分數表格"
   ]
  },
  {
   "cell_type": "code",
   "execution_count": 7,
   "metadata": {},
   "outputs": [],
   "source": [
    "import pandas as pd"
   ]
  },
  {
   "cell_type": "code",
   "execution_count": 8,
   "metadata": {},
   "outputs": [],
   "source": [
    "S = np.array([86.5, 79.4, 88.2, 96.5, 86.3, 76.8, 96.1, 78.5, 82.4, 88.6])\n",
    "W1 = np.array([2, 2, 0, 1, 0, 0, 0, 1, 1, 0])\n",
    "W2 = np.array([1, 1.5, 0, 1.5, 0, 0, 0, 0, 0, 0])\n",
    "W3 = np.array([1, 1.5, 0, 2, 0, 0, 0, 0, 0, 0])\n",
    "W4 = np.array([1.5, 2, 0, 2, 0, 0, 0, 0, 0, 0])\n",
    "W5 = np.array([1.5, 2, 0, 2, 0, 0, 0, 1, 1, 0])\n",
    "W6 = np.array([1, 2, 0, 1, 0, 0, 0, 1, 0, 1])\n",
    "W7 = np.array([1, 1.5, 0, 1.25, 0, 0, 0, 0, 0, 1.25])\n",
    "W8 = np.array([1, 1, 1.5, 0, 1, 1, 0, 0, 0, 0])\n",
    "W9 = np.array([1.5, 2, 0, 1.25, 0, 0, 0, 1, 1, 0])\n",
    "SW1 = np.dot(S,W1)\n",
    "SW2 = np.dot(S,W2)\n",
    "SW3 = np.dot(S,W3)\n",
    "SW4 = np.dot(S,W4)\n",
    "SW5 = np.dot(S,W5)\n",
    "SW6 = np.dot(S,W6)\n",
    "SW7 = np.dot(S,W7)\n",
    "SW8 = np.dot(S,W8)\n",
    "SW9 = np.dot(S,W9)"
   ]
  },
  {
   "cell_type": "code",
   "execution_count": 9,
   "metadata": {},
   "outputs": [],
   "source": [
    "科目 = ['國文','英文','數甲','數乙','物理','化學','生物','歷史','地理','公民','加權分數']\n",
    "系所 = ['土語系','財政系','金融系','國貿系','會計系','法律系','公行系','應數系','教育系']\n",
    "L1 = [2, 2, 0, 1, 0, 0, 0, 1, 1, 0]+[SW1]\n",
    "L2 = [1, 1.5, 0, 1.5, 0, 0, 0, 0, 0, 0]+[SW2]\n",
    "L3 = [1, 1.5, 0, 2, 0, 0, 0, 0, 0, 0]+[SW3]\n",
    "L4 = [1.5, 2, 0, 2, 0, 0, 0, 0, 0, 0]+[SW4]\n",
    "L5 = [1.5, 2, 0, 2, 0, 0, 0, 1, 1, 0]+[SW5]\n",
    "L6 = [1, 2, 0, 1, 0, 0, 0, 1, 0, 1]+[SW6]\n",
    "L7 = [1, 1.5, 0, 1.25, 0, 0, 0, 0, 0, 1.25]+[SW7]\n",
    "L8 = [1, 1, 1.5, 0, 1, 1, 0, 0, 0, 0]+[SW8]\n",
    "L9 = [1.5, 2, 0, 1.25, 0, 0, 0, 1, 1, 0]+[SW9]\n",
    "Ls = np.array(L1+L2+L3+L4+L5+L6+L7+L8+L9).reshape(9,11)"
   ]
  },
  {
   "cell_type": "code",
   "execution_count": 10,
   "metadata": {},
   "outputs": [
    {
     "data": {
      "text/html": [
       "<div>\n",
       "<style scoped>\n",
       "    .dataframe tbody tr th:only-of-type {\n",
       "        vertical-align: middle;\n",
       "    }\n",
       "\n",
       "    .dataframe tbody tr th {\n",
       "        vertical-align: top;\n",
       "    }\n",
       "\n",
       "    .dataframe thead th {\n",
       "        text-align: right;\n",
       "    }\n",
       "</style>\n",
       "<table border=\"1\" class=\"dataframe\">\n",
       "  <thead>\n",
       "    <tr style=\"text-align: right;\">\n",
       "      <th></th>\n",
       "      <th>國文</th>\n",
       "      <th>英文</th>\n",
       "      <th>數甲</th>\n",
       "      <th>數乙</th>\n",
       "      <th>物理</th>\n",
       "      <th>化學</th>\n",
       "      <th>生物</th>\n",
       "      <th>歷史</th>\n",
       "      <th>地理</th>\n",
       "      <th>公民</th>\n",
       "      <th>加權分數</th>\n",
       "    </tr>\n",
       "  </thead>\n",
       "  <tbody>\n",
       "    <tr>\n",
       "      <th>土語系</th>\n",
       "      <td>2.0</td>\n",
       "      <td>2.0</td>\n",
       "      <td>0.0</td>\n",
       "      <td>1.00</td>\n",
       "      <td>0.0</td>\n",
       "      <td>0.0</td>\n",
       "      <td>0.0</td>\n",
       "      <td>1.0</td>\n",
       "      <td>1.0</td>\n",
       "      <td>0.00</td>\n",
       "      <td>589.200</td>\n",
       "    </tr>\n",
       "    <tr>\n",
       "      <th>財政系</th>\n",
       "      <td>1.0</td>\n",
       "      <td>1.5</td>\n",
       "      <td>0.0</td>\n",
       "      <td>1.50</td>\n",
       "      <td>0.0</td>\n",
       "      <td>0.0</td>\n",
       "      <td>0.0</td>\n",
       "      <td>0.0</td>\n",
       "      <td>0.0</td>\n",
       "      <td>0.00</td>\n",
       "      <td>350.350</td>\n",
       "    </tr>\n",
       "    <tr>\n",
       "      <th>金融系</th>\n",
       "      <td>1.0</td>\n",
       "      <td>1.5</td>\n",
       "      <td>0.0</td>\n",
       "      <td>2.00</td>\n",
       "      <td>0.0</td>\n",
       "      <td>0.0</td>\n",
       "      <td>0.0</td>\n",
       "      <td>0.0</td>\n",
       "      <td>0.0</td>\n",
       "      <td>0.00</td>\n",
       "      <td>398.600</td>\n",
       "    </tr>\n",
       "    <tr>\n",
       "      <th>國貿系</th>\n",
       "      <td>1.5</td>\n",
       "      <td>2.0</td>\n",
       "      <td>0.0</td>\n",
       "      <td>2.00</td>\n",
       "      <td>0.0</td>\n",
       "      <td>0.0</td>\n",
       "      <td>0.0</td>\n",
       "      <td>0.0</td>\n",
       "      <td>0.0</td>\n",
       "      <td>0.00</td>\n",
       "      <td>481.550</td>\n",
       "    </tr>\n",
       "    <tr>\n",
       "      <th>會計系</th>\n",
       "      <td>1.5</td>\n",
       "      <td>2.0</td>\n",
       "      <td>0.0</td>\n",
       "      <td>2.00</td>\n",
       "      <td>0.0</td>\n",
       "      <td>0.0</td>\n",
       "      <td>0.0</td>\n",
       "      <td>1.0</td>\n",
       "      <td>1.0</td>\n",
       "      <td>0.00</td>\n",
       "      <td>642.450</td>\n",
       "    </tr>\n",
       "    <tr>\n",
       "      <th>法律系</th>\n",
       "      <td>1.0</td>\n",
       "      <td>2.0</td>\n",
       "      <td>0.0</td>\n",
       "      <td>1.00</td>\n",
       "      <td>0.0</td>\n",
       "      <td>0.0</td>\n",
       "      <td>0.0</td>\n",
       "      <td>1.0</td>\n",
       "      <td>0.0</td>\n",
       "      <td>1.00</td>\n",
       "      <td>508.900</td>\n",
       "    </tr>\n",
       "    <tr>\n",
       "      <th>公行系</th>\n",
       "      <td>1.0</td>\n",
       "      <td>1.5</td>\n",
       "      <td>0.0</td>\n",
       "      <td>1.25</td>\n",
       "      <td>0.0</td>\n",
       "      <td>0.0</td>\n",
       "      <td>0.0</td>\n",
       "      <td>0.0</td>\n",
       "      <td>0.0</td>\n",
       "      <td>1.25</td>\n",
       "      <td>436.975</td>\n",
       "    </tr>\n",
       "    <tr>\n",
       "      <th>應數系</th>\n",
       "      <td>1.0</td>\n",
       "      <td>1.0</td>\n",
       "      <td>1.5</td>\n",
       "      <td>0.00</td>\n",
       "      <td>1.0</td>\n",
       "      <td>1.0</td>\n",
       "      <td>0.0</td>\n",
       "      <td>0.0</td>\n",
       "      <td>0.0</td>\n",
       "      <td>0.00</td>\n",
       "      <td>461.300</td>\n",
       "    </tr>\n",
       "    <tr>\n",
       "      <th>教育系</th>\n",
       "      <td>1.5</td>\n",
       "      <td>2.0</td>\n",
       "      <td>0.0</td>\n",
       "      <td>1.25</td>\n",
       "      <td>0.0</td>\n",
       "      <td>0.0</td>\n",
       "      <td>0.0</td>\n",
       "      <td>1.0</td>\n",
       "      <td>1.0</td>\n",
       "      <td>0.00</td>\n",
       "      <td>570.075</td>\n",
       "    </tr>\n",
       "  </tbody>\n",
       "</table>\n",
       "</div>"
      ],
      "text/plain": [
       "      國文   英文   數甲    數乙   物理   化學   生物   歷史   地理    公民     加權分數\n",
       "土語系  2.0  2.0  0.0  1.00  0.0  0.0  0.0  1.0  1.0  0.00  589.200\n",
       "財政系  1.0  1.5  0.0  1.50  0.0  0.0  0.0  0.0  0.0  0.00  350.350\n",
       "金融系  1.0  1.5  0.0  2.00  0.0  0.0  0.0  0.0  0.0  0.00  398.600\n",
       "國貿系  1.5  2.0  0.0  2.00  0.0  0.0  0.0  0.0  0.0  0.00  481.550\n",
       "會計系  1.5  2.0  0.0  2.00  0.0  0.0  0.0  1.0  1.0  0.00  642.450\n",
       "法律系  1.0  2.0  0.0  1.00  0.0  0.0  0.0  1.0  0.0  1.00  508.900\n",
       "公行系  1.0  1.5  0.0  1.25  0.0  0.0  0.0  0.0  0.0  1.25  436.975\n",
       "應數系  1.0  1.0  1.5  0.00  1.0  1.0  0.0  0.0  0.0  0.00  461.300\n",
       "教育系  1.5  2.0  0.0  1.25  0.0  0.0  0.0  1.0  1.0  0.00  570.075"
      ]
     },
     "execution_count": 10,
     "metadata": {},
     "output_type": "execute_result"
    }
   ],
   "source": [
    "Table=pd.DataFrame(Ls,index=系所,columns=科目)\n",
    "Table"
   ]
  }
 ],
 "metadata": {
  "kernelspec": {
   "display_name": "Python 3",
   "language": "python",
   "name": "python3"
  },
  "language_info": {
   "codemirror_mode": {
    "name": "ipython",
    "version": 3
   },
   "file_extension": ".py",
   "mimetype": "text/x-python",
   "name": "python",
   "nbconvert_exporter": "python",
   "pygments_lexer": "ipython3",
   "version": "3.7.3"
  }
 },
 "nbformat": 4,
 "nbformat_minor": 2
}
