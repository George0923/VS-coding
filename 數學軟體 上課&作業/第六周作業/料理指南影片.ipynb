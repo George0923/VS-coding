{
 "cells": [
  {
   "cell_type": "markdown",
   "metadata": {},
   "source": [
    "# 作業三"
   ]
  },
  {
   "cell_type": "code",
   "execution_count": 3,
   "metadata": {},
   "outputs": [],
   "source": [
    "%matplotlib inline\n",
    "import numpy as np\n",
    "import matplotlib.pyplot as plt\n",
    "import pandas as pd\n",
    "from ipywidgets import interact\n",
    "import random\n",
    "import webbrowser\n",
    "from IPython.display import display, HTML, Markdown, Image, YouTubeVideo"
   ]
  },
  {
   "cell_type": "code",
   "execution_count": 4,
   "metadata": {},
   "outputs": [],
   "source": [
    "def f(choice):\n",
    "    print(choice)\n",
    "    chicken = YouTubeVideo('nA2n5unusIs')\n",
    "    pork = YouTubeVideo('h3Ork--nwK4')\n",
    "    goat = YouTubeVideo('T5ZXGbWiuXo')\n",
    "    beef = YouTubeVideo('hBPcmGppT7w')\n",
    "    oa = YouTubeVideo('c5h7-zLQ3j8')\n",
    "    rabbit = YouTubeVideo('gv2cMnjJ7gg')\n",
    "    bamboorat = YouTubeVideo('fUwCSmBlJRg')\n",
    "    if choice == \"辣香雞\":\n",
    "        print(\"食材有: 詹醬(油潑辣子油)1匙半、去骨雞腿1隻、蒜頭6顆、蔥1根、薑片5片、醬油、鹽、糖少許、酒半匙、醋半匙、乾辣椒1杯、青辣椒1/2顆\")\n",
    "        display(chicken)\n",
    "    elif choice == \"滷肉飯\":\n",
    "        print(\"食材有: 蒜頭6顆、紅蔥頭6顆、蔥2根、豬五花肉絲1公斤、黑糖1匙、蠔油2匙、醬油\")\n",
    "        display(pork)\n",
    "    elif choice == \"香煎小羊排佐巴薩米克蘋果醋\":\n",
    "        print(\"食材有: 羊小排1排 聖女番茄10顆 洋蔥1/4顆 綜合生菜1份 法棍麵包1條 鹽 胡椒 蒜球1顆 莫扎瑞拉起司1袋 蒜末1大匙 南瓜籽油 巴薩米克蘋果醋 薄荷葉50片\")\n",
    "        display(goat)\n",
    "    elif choice == \"黑椒牛柳\":\n",
    "        print(\"食材有: 肋眼牛排1塊、鹽、花椰菜1束、洋蔥1顆、黑胡椒、醬油、水200cc.、奶油2大湯匙、麵粉1/2杯、醋1小匙\")\n",
    "        display(beef)\n",
    "    elif choice == \"蒜香蚵仔堅果麵\":\n",
    "        print(\"食材有: 堅果辣沾麵、蚵仔、地瓜粉、蒜苗、油蔥酥\")\n",
    "        display(oa)\n",
    "    elif choice == \"蒜香兔肉\":\n",
    "        print(\"4人份的食材有: 1.2Kg 兔子块, 100ml 白葡萄酒（腌制用）, 一头大蒜（未剥皮）, 100ml 白葡萄酒, 盐, 黑胡椒粉\")\n",
    "        display(rabbit)\n",
    "    elif choice == \"寬油竹鼠\":\n",
    "        print(\"食材有: 憂心忡忡的竹鼠一隻, 30克大蒜, 生薑20克, 二荊條2個, 大蔥兩根, 蒜苗數根, 麻辣火鍋底料30克, 乾辣椒15克, 青花椒數粒\")\n",
    "        display(bamboorat)"
   ]
  },
  {
   "cell_type": "code",
   "execution_count": 5,
   "metadata": {},
   "outputs": [
    {
     "data": {
      "application/vnd.jupyter.widget-view+json": {
       "model_id": "49ab927d212143ebaeb26d4e9fed13ba",
       "version_major": 2,
       "version_minor": 0
      },
      "text/plain": [
       "interactive(children=(Dropdown(description='choice', options=('辣香雞', '滷肉飯', '黑椒牛柳', '香煎小羊排佐巴薩米克蘋果醋', '蒜香蚵仔堅果麵'…"
      ]
     },
     "metadata": {},
     "output_type": "display_data"
    }
   ],
   "source": [
    "interact(f, choice = {\"辣香雞\", \"滷肉飯\", \"香煎小羊排佐巴薩米克蘋果醋\", \"黑椒牛柳\", \"蒜香蚵仔堅果麵\", \"蒜香兔肉\", \"寬油竹鼠\"});"
   ]
  },
  {
   "cell_type": "code",
   "execution_count": null,
   "metadata": {},
   "outputs": [],
   "source": []
  }
 ],
 "metadata": {
  "kernelspec": {
   "display_name": "Python 3",
   "language": "python",
   "name": "python3"
  },
  "language_info": {
   "codemirror_mode": {
    "name": "ipython",
    "version": 3
   },
   "file_extension": ".py",
   "mimetype": "text/x-python",
   "name": "python",
   "nbconvert_exporter": "python",
   "pygments_lexer": "ipython3",
   "version": "3.7.3"
  }
 },
 "nbformat": 4,
 "nbformat_minor": 2
}
