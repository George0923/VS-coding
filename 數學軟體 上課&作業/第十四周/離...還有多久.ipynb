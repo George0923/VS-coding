{
 "cells": [
  {
   "cell_type": "code",
   "execution_count": 12,
   "metadata": {},
   "outputs": [],
   "source": [
    "%matplotlib inline\n",
    "import numpy as np\n",
    "import pandas as pd\n",
    "import matplotlib.pyplot as plt\n",
    "import datetime\n",
    "from ipywidgets import interact"
   ]
  },
  {
   "cell_type": "code",
   "execution_count": 21,
   "metadata": {},
   "outputs": [],
   "source": [
    "T = datetime.datetime.today()\n",
    "C = datetime.date(2019,12,31)\n",
    "Two = datetime.date(2020,2,28)\n",
    "Children = datetime.date(2020,4,4)\n",
    "tomb = datetime.date(2020,4,5)\n",
    "worker = datetime.date(2020,5,1)\n",
    "country = datetime.date(2020,10,10)\n",
    "TC = (C - T.date()).days\n",
    "TT = (Two - T.date()).days\n",
    "TCh = (Children - T.date()).days\n",
    "Tt = (tomb - T.date()).days\n",
    "Tw = (worker - T.date()).days\n",
    "Tc = (country - T.date()).days\n",
    "def f(choice):\n",
    "    print(choice)\n",
    "    if choice == \"跨年\":\n",
    "        print(\"再{}天就要跨年摟\".format(TC))\n",
    "    elif choice == \"二二八\":\n",
    "        print(\"再{}天就要二二八摟\".format(TT))\n",
    "    elif choice == \"兒童節\":\n",
    "        print(\"再{}天就要兒童節摟\".format(TCh))\n",
    "    elif choice == \"清明節\":\n",
    "        print(\"再{}天就要清明節摟\".format(Tt))\n",
    "    elif choice == \"勞工節\":\n",
    "        print(\"再{}天就要勞工節摟\".format(Tw))\n",
    "    else:\n",
    "        print(\"再{}天就要放國慶連假摟\".format(Tc))"
   ]
  },
  {
   "cell_type": "code",
   "execution_count": 22,
   "metadata": {},
   "outputs": [
    {
     "data": {
      "application/vnd.jupyter.widget-view+json": {
       "model_id": "ef959eb2ba3d4e2d80f80985641acf3e",
       "version_major": 2,
       "version_minor": 0
      },
      "text/plain": [
       "interactive(children=(Dropdown(description='choice', options=('兒童節', '二二八', '清明節', '勞工節', '國慶日', '跨年'), value=…"
      ]
     },
     "metadata": {},
     "output_type": "display_data"
    }
   ],
   "source": [
    "interact(f, choice = {\"跨年\", \"二二八\", \"兒童節\", \"清明節\", \"勞工節\", \"國慶日\"});"
   ]
  },
  {
   "cell_type": "code",
   "execution_count": null,
   "metadata": {},
   "outputs": [],
   "source": []
  }
 ],
 "metadata": {
  "kernelspec": {
   "display_name": "Python 3",
   "language": "python",
   "name": "python3"
  },
  "language_info": {
   "codemirror_mode": {
    "name": "ipython",
    "version": 3
   },
   "file_extension": ".py",
   "mimetype": "text/x-python",
   "name": "python",
   "nbconvert_exporter": "python",
   "pygments_lexer": "ipython3",
   "version": "3.7.3"
  }
 },
 "nbformat": 4,
 "nbformat_minor": 2
}
