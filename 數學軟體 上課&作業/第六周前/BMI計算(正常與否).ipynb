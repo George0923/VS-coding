{
 "cells": [
  {
   "cell_type": "code",
   "execution_count": 3,
   "metadata": {},
   "outputs": [],
   "source": [
    "%matplotlib inline\n",
    "import numpy as np\n",
    "import matplotlib.pyplot as plt\n",
    "import pandas as pd\n",
    "from numpy.random import randint\n",
    "from numpy.random import sample,choice"
   ]
  },
  {
   "cell_type": "code",
   "execution_count": 1,
   "metadata": {},
   "outputs": [
    {
     "name": "stdout",
     "output_type": "stream",
     "text": [
      "請輸入您的身高(公分)172\n",
      "請輸入您的體重(公斤)65\n",
      "21.97133585722012\n",
      "你想知道自己BMI是否在理想範圍嗎  想\n",
      "正常範圍,恭喜ㄋ\n"
     ]
    }
   ],
   "source": [
    "h = int(input(\"請輸入您的身高(公分)\"))\n",
    "w = int(input(\"請輸入您的體重(公斤)\"))\n",
    "BMI = int(w)/int(h)/int(h)*100*100\n",
    "print(BMI)\n",
    "a = input(\"你想知道自己BMI是否在理想範圍嗎  \")\n",
    "if a == \"想\":\n",
    "    if BMI < 18.5:\n",
    "        print(\"過瘦,請再多吃一點\")\n",
    "    if BMI > 24:\n",
    "         print(\"過重,你給我少ㄘ一點喔\")\n",
    "    else:\n",
    "        print(\"正常範圍,恭喜ㄋ\")\n",
    "if a != \"想\":\n",
    "    print(\"沒關係 現實總是殘酷又無情的\")"
   ]
  },
  {
   "cell_type": "code",
   "execution_count": null,
   "metadata": {},
   "outputs": [],
   "source": []
  }
 ],
 "metadata": {
  "kernelspec": {
   "display_name": "Python 3",
   "language": "python",
   "name": "python3"
  },
  "language_info": {
   "codemirror_mode": {
    "name": "ipython",
    "version": 3
   },
   "file_extension": ".py",
   "mimetype": "text/x-python",
   "name": "python",
   "nbconvert_exporter": "python",
   "pygments_lexer": "ipython3",
   "version": "3.7.3"
  }
 },
 "nbformat": 4,
 "nbformat_minor": 2
}
