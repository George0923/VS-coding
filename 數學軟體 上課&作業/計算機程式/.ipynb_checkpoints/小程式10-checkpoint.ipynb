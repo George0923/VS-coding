{
 "cells": [
  {
   "cell_type": "markdown",
   "metadata": {},
   "source": [
    "# 撲克牌分發模擬"
   ]
  },
  {
   "cell_type": "code",
   "execution_count": 1,
   "metadata": {},
   "outputs": [],
   "source": [
    "import random\n",
    "import time"
   ]
  },
  {
   "cell_type": "code",
   "execution_count": 7,
   "metadata": {},
   "outputs": [
    {
     "name": "stdout",
     "output_type": "stream",
     "text": [
      "洗牌中......\n",
      "洗牌完成\n",
      "為player1發牌中......\n",
      "\n",
      "為player2發牌中......\n",
      "\n",
      "為player3發牌中......\n",
      "\n",
      "為player4發牌中......\n",
      "\n",
      "player1的牌：\n",
      "♠3 , ♥2 , ♥5 , ♥8 , ♥J , ♥Q , ♣2 , ♣3 , ♣5 , ♦8 , ♦9 , ♦Q , ♦K , None\n",
      "player2的牌：\n",
      "♠A , ♠1 , ♠7 , ♠8 , ♠10 , ♠J , ♥1 , ♥9 , ♣4 , ♣6 , ♦3 , ♦5 , ♦J , None\n",
      "player3的牌：\n",
      "♠4 , ♥A , ♥3 , ♥4 , ♥6 , ♥7 , ♣A , ♣1 , ♣8 , ♣J , ♣K , ♦4 , ♦10 , None\n",
      "player4的牌：\n",
      "♠2 , ♠9 , ♠K , ♥10 , ♥K , ♣7 , ♣10 , ♣Q , ♦A , ♦1 , ♦2 , ♦6 , ♦7 , None\n"
     ]
    }
   ],
   "source": [
    "flower = [\"♠\", \"♥\", \"♣\", \"♦\"]\n",
    "number = ['A', '1', '2', '3', '4', '5', '6', '7', '8', '9', '10', 'J', 'Q', 'K']\n",
    "poker = []\n",
    "pokers = []\n",
    "n=1\n",
    "for i in flower:\n",
    "    for j in number:\n",
    "        pokers.append((n, (i+j)))\n",
    "        n = n + 1\n",
    "print(\"洗牌中......\")\n",
    "random.shuffle(pokers)\n",
    "def shaf(x):\n",
    "    for i in x:\n",
    "        pokers.remove(i)\n",
    "    return pokers\n",
    "def place(y):\n",
    "    for i in y:\n",
    "        print(i[1], ',', end = \" \")\n",
    "def pai(z):\n",
    "    for i in z:\n",
    "        print(i[1], ',', end = \" \")\n",
    "time.sleep(3)\n",
    "print(\"洗牌完成\")\n",
    "time.sleep(1)\n",
    "a = random.sample(pokers, 13)\n",
    "pokers = shaf(a)   \n",
    "print(\"為player1發牌中......\\n\")\n",
    "b = random.sample(pokers,13) \n",
    "pokers=shaf(b)   \n",
    "print(\"為player2發牌中......\\n\")\n",
    "c = random.sample(pokers,13) \n",
    "pokers = shaf(c)   \n",
    "print(\"為player3發牌中......\\n\")\n",
    "d = random.sample(pokers,13) \n",
    "pokers = shaf(d)   \n",
    "print(\"為player4發牌中......\\n\")\n",
    "a.sort()\n",
    "b.sort()\n",
    "c.sort()\n",
    "d.sort()\n",
    "time.sleep(3)\n",
    "print(\"player1的牌：\")\n",
    "print(pai(a))\n",
    "print(\"player2的牌：\")\n",
    "print(pai(b))\n",
    "print(\"player3的牌：\")\n",
    "print(pai(c))\n",
    "print(\"player4的牌：\")\n",
    "print(pai(d))"
   ]
  }
 ],
 "metadata": {
  "kernelspec": {
   "display_name": "Python 3",
   "language": "python",
   "name": "python3"
  },
  "language_info": {
   "codemirror_mode": {
    "name": "ipython",
    "version": 3
   },
   "file_extension": ".py",
   "mimetype": "text/x-python",
   "name": "python",
   "nbconvert_exporter": "python",
   "pygments_lexer": "ipython3",
   "version": "3.7.3"
  }
 },
 "nbformat": 4,
 "nbformat_minor": 2
}
