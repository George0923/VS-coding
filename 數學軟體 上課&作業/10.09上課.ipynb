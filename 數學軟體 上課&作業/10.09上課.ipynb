{
 "cells": [
  {
   "cell_type": "code",
   "execution_count": 1,
   "metadata": {},
   "outputs": [],
   "source": [
    "%matplotlib inline\n",
    "import numpy as np\n",
    "import matplotlib.pyplot as plt\n",
    "import pandas as pd"
   ]
  },
  {
   "cell_type": "markdown",
   "metadata": {},
   "source": [
    "### map and filter"
   ]
  },
  {
   "cell_type": "code",
   "execution_count": 3,
   "metadata": {},
   "outputs": [],
   "source": [
    "items = [500, 30, 2000]\n",
    "c = 30.8594"
   ]
  },
  {
   "cell_type": "code",
   "execution_count": 4,
   "metadata": {},
   "outputs": [
    {
     "name": "stdout",
     "output_type": "stream",
     "text": [
      "15429.7\n",
      "925.782\n",
      "61718.8\n"
     ]
    }
   ],
   "source": [
    "for item in items:  #單純print\n",
    "    p = item*c\n",
    "    print(p)"
   ]
  },
  {
   "cell_type": "code",
   "execution_count": 5,
   "metadata": {},
   "outputs": [],
   "source": [
    "egg = []\n",
    "\n",
    "for item in items:\n",
    "    p = item*c\n",
    "    egg.append(p)"
   ]
  },
  {
   "cell_type": "code",
   "execution_count": 6,
   "metadata": {},
   "outputs": [
    {
     "data": {
      "text/plain": [
       "[15429.7, 925.782, 61718.8]"
      ]
     },
     "execution_count": 6,
     "metadata": {},
     "output_type": "execute_result"
    }
   ],
   "source": [
    "egg"
   ]
  },
  {
   "cell_type": "code",
   "execution_count": 7,
   "metadata": {},
   "outputs": [],
   "source": [
    "def exchange(p):\n",
    "    return p*c"
   ]
  },
  {
   "cell_type": "code",
   "execution_count": 8,
   "metadata": {},
   "outputs": [
    {
     "data": {
      "text/plain": [
       "15429.7"
      ]
     },
     "execution_count": 8,
     "metadata": {},
     "output_type": "execute_result"
    }
   ],
   "source": [
    "exchange(500)"
   ]
  },
  {
   "cell_type": "code",
   "execution_count": 10,
   "metadata": {},
   "outputs": [],
   "source": [
    "egg = list(map(exchange, items)) #不須經過for迴圈 用map即可 exchange=>公式  items=>套用集合"
   ]
  },
  {
   "cell_type": "code",
   "execution_count": 11,
   "metadata": {},
   "outputs": [
    {
     "data": {
      "text/plain": [
       "[15429.7, 925.782, 61718.8]"
      ]
     },
     "execution_count": 11,
     "metadata": {},
     "output_type": "execute_result"
    }
   ],
   "source": [
    "egg"
   ]
  },
  {
   "cell_type": "markdown",
   "metadata": {},
   "source": [
    "### lambda =>救急函數"
   ]
  },
  {
   "cell_type": "code",
   "execution_count": 13,
   "metadata": {},
   "outputs": [
    {
     "data": {
      "text/plain": [
       "[15429.7, 925.782, 61718.8]"
      ]
     },
     "execution_count": 13,
     "metadata": {},
     "output_type": "execute_result"
    }
   ],
   "source": [
    "list(map(lambda p:p*c, items))"
   ]
  },
  {
   "cell_type": "markdown",
   "metadata": {},
   "source": [
    "### list comprehesion"
   ]
  },
  {
   "cell_type": "code",
   "execution_count": 14,
   "metadata": {},
   "outputs": [
    {
     "data": {
      "text/plain": [
       "[15429.7, 925.782, 61718.8]"
      ]
     },
     "execution_count": 14,
     "metadata": {},
     "output_type": "execute_result"
    }
   ],
   "source": [
    "[p*c for p in items]"
   ]
  },
  {
   "cell_type": "markdown",
   "metadata": {},
   "source": [
    "### filter"
   ]
  },
  {
   "cell_type": "code",
   "execution_count": 15,
   "metadata": {},
   "outputs": [],
   "source": [
    "grades = [50, 59, 65, 80, 100, 35, 40, 88]"
   ]
  },
  {
   "cell_type": "code",
   "execution_count": 16,
   "metadata": {},
   "outputs": [],
   "source": [
    "def spam(g):       #def=>定義函數\n",
    "    return g>=60"
   ]
  },
  {
   "cell_type": "code",
   "execution_count": 17,
   "metadata": {},
   "outputs": [
    {
     "data": {
      "text/plain": [
       "False"
      ]
     },
     "execution_count": 17,
     "metadata": {},
     "output_type": "execute_result"
    }
   ],
   "source": [
    "spam(50)"
   ]
  },
  {
   "cell_type": "code",
   "execution_count": 18,
   "metadata": {},
   "outputs": [
    {
     "data": {
      "text/plain": [
       "True"
      ]
     },
     "execution_count": 18,
     "metadata": {},
     "output_type": "execute_result"
    }
   ],
   "source": [
    "spam(88)"
   ]
  },
  {
   "cell_type": "code",
   "execution_count": 21,
   "metadata": {},
   "outputs": [
    {
     "data": {
      "text/plain": [
       "[65, 80, 100, 88]"
      ]
     },
     "execution_count": 21,
     "metadata": {},
     "output_type": "execute_result"
    }
   ],
   "source": [
    "list(filter(spam, grades))  #list以列出數字"
   ]
  },
  {
   "cell_type": "markdown",
   "metadata": {},
   "source": [
    "### lambda版本"
   ]
  },
  {
   "cell_type": "code",
   "execution_count": 22,
   "metadata": {},
   "outputs": [
    {
     "data": {
      "text/plain": [
       "[65, 80, 100, 88]"
      ]
     },
     "execution_count": 22,
     "metadata": {},
     "output_type": "execute_result"
    }
   ],
   "source": [
    "list(filter(lambda g:g>=60, grades))"
   ]
  },
  {
   "cell_type": "markdown",
   "metadata": {},
   "source": [
    "## print的使用"
   ]
  },
  {
   "cell_type": "code",
   "execution_count": 23,
   "metadata": {},
   "outputs": [
    {
     "name": "stdout",
     "output_type": "stream",
     "text": [
      "0\n",
      "1\n",
      "2\n",
      "3\n",
      "4\n",
      "5\n",
      "6\n",
      "7\n",
      "8\n",
      "9\n"
     ]
    }
   ],
   "source": [
    "for i in range(10):\n",
    "    print(i)"
   ]
  },
  {
   "cell_type": "code",
   "execution_count": 24,
   "metadata": {},
   "outputs": [
    {
     "name": "stdout",
     "output_type": "stream",
     "text": [
      "0 1 2 3 4 5 6 7 8 9 "
     ]
    }
   ],
   "source": [
    "for i in range(10):\n",
    "    print(i, end=' ')"
   ]
  },
  {
   "cell_type": "code",
   "execution_count": 25,
   "metadata": {},
   "outputs": [
    {
     "name": "stdout",
     "output_type": "stream",
     "text": [
      "0,1,2,3,4,5,6,7,8,9,"
     ]
    }
   ],
   "source": [
    "for i in range(10):\n",
    "    print(i, end=',') #弊端=>最後仍會有,"
   ]
  },
  {
   "cell_type": "code",
   "execution_count": 28,
   "metadata": {},
   "outputs": [
    {
     "name": "stdout",
     "output_type": "stream",
     "text": [
      "price: 400\n"
     ]
    }
   ],
   "source": [
    "print(\"price:\", 400)"
   ]
  },
  {
   "cell_type": "code",
   "execution_count": 29,
   "metadata": {},
   "outputs": [
    {
     "name": "stdout",
     "output_type": "stream",
     "text": [
      "price:400\n"
     ]
    }
   ],
   "source": [
    "print(\"price:\" + \"400\")"
   ]
  },
  {
   "cell_type": "code",
   "execution_count": 30,
   "metadata": {},
   "outputs": [],
   "source": [
    "p = 500"
   ]
  },
  {
   "cell_type": "code",
   "execution_count": 32,
   "metadata": {},
   "outputs": [
    {
     "name": "stdout",
     "output_type": "stream",
     "text": [
      "price:500\n"
     ]
    }
   ],
   "source": [
    "print(\"price:\" + str(p))  # str=>字串"
   ]
  },
  {
   "cell_type": "code",
   "execution_count": 33,
   "metadata": {},
   "outputs": [],
   "source": [
    "mylist = ['A', 'B', 'C', 'D']"
   ]
  },
  {
   "cell_type": "code",
   "execution_count": 34,
   "metadata": {},
   "outputs": [
    {
     "data": {
      "text/plain": [
       "'A*B*C*D'"
      ]
     },
     "execution_count": 34,
     "metadata": {},
     "output_type": "execute_result"
    }
   ],
   "source": [
    "'*'.join(mylist)"
   ]
  },
  {
   "cell_type": "code",
   "execution_count": 35,
   "metadata": {},
   "outputs": [
    {
     "data": {
      "text/plain": [
       "'A,B,C,D'"
      ]
     },
     "execution_count": 35,
     "metadata": {},
     "output_type": "execute_result"
    }
   ],
   "source": [
    "','.join(mylist)"
   ]
  },
  {
   "cell_type": "code",
   "execution_count": 36,
   "metadata": {},
   "outputs": [
    {
     "name": "stdout",
     "output_type": "stream",
     "text": [
      "A,B,C,D\n"
     ]
    }
   ],
   "source": [
    "s = ','.join(mylist)\n",
    "print(s)"
   ]
  },
  {
   "cell_type": "code",
   "execution_count": 42,
   "metadata": {},
   "outputs": [],
   "source": [
    "ham = list(map(str, range(10)))"
   ]
  },
  {
   "cell_type": "code",
   "execution_count": 44,
   "metadata": {},
   "outputs": [
    {
     "name": "stdout",
     "output_type": "stream",
     "text": [
      "0,1,2,3,4,5,6,7,8,9\n"
     ]
    }
   ],
   "source": [
    "print(','.join(ham))"
   ]
  },
  {
   "cell_type": "markdown",
   "metadata": {},
   "source": [
    "## print的格式化"
   ]
  },
  {
   "cell_type": "code",
   "execution_count": 45,
   "metadata": {},
   "outputs": [],
   "source": [
    "name = \"曜瑋\"\n",
    "age = 21"
   ]
  },
  {
   "cell_type": "code",
   "execution_count": 47,
   "metadata": {},
   "outputs": [
    {
     "name": "stdout",
     "output_type": "stream",
     "text": [
      "您好, 我是曜瑋,今年21歲。\n"
     ]
    }
   ],
   "source": [
    "print(\"您好, 我是\" + name + ',今年' + str(age) + '歲。')"
   ]
  },
  {
   "cell_type": "markdown",
   "metadata": {},
   "source": [
    "## method 01"
   ]
  },
  {
   "cell_type": "code",
   "execution_count": 49,
   "metadata": {},
   "outputs": [],
   "source": [
    "egg = \"您好, 我是%s,今年%d歲。\" %(name, age) # %s=>字 %d=>數字"
   ]
  },
  {
   "cell_type": "code",
   "execution_count": 50,
   "metadata": {},
   "outputs": [
    {
     "name": "stdout",
     "output_type": "stream",
     "text": [
      "您好, 我是曜瑋,今年21歲。\n"
     ]
    }
   ],
   "source": [
    "print(egg)"
   ]
  },
  {
   "cell_type": "markdown",
   "metadata": {},
   "source": [
    "## method 02: format"
   ]
  },
  {
   "cell_type": "code",
   "execution_count": 53,
   "metadata": {},
   "outputs": [],
   "source": [
    "x = \"您好, 我是{},今年{}歲。\".format(name, age)"
   ]
  },
  {
   "cell_type": "code",
   "execution_count": 54,
   "metadata": {},
   "outputs": [
    {
     "name": "stdout",
     "output_type": "stream",
     "text": [
      "您好, 我是曜瑋,今年21歲。\n"
     ]
    }
   ],
   "source": [
    "print(x)"
   ]
  },
  {
   "cell_type": "markdown",
   "metadata": {},
   "source": [
    "## method 03: f-string"
   ]
  },
  {
   "cell_type": "code",
   "execution_count": 56,
   "metadata": {},
   "outputs": [],
   "source": [
    "y = f\"您好,我是{name},今年{age}歲。\"  #需要地方直接{}放入代號"
   ]
  },
  {
   "cell_type": "code",
   "execution_count": 57,
   "metadata": {},
   "outputs": [
    {
     "name": "stdout",
     "output_type": "stream",
     "text": [
      "您好,我是曜瑋,今年21歲。\n"
     ]
    }
   ],
   "source": [
    "print(y)"
   ]
  },
  {
   "cell_type": "markdown",
   "metadata": {},
   "source": [
    "## 數字照我們意思顯示"
   ]
  },
  {
   "cell_type": "code",
   "execution_count": 58,
   "metadata": {},
   "outputs": [],
   "source": [
    "c = 30.8594353"
   ]
  },
  {
   "cell_type": "code",
   "execution_count": 59,
   "metadata": {},
   "outputs": [
    {
     "name": "stdout",
     "output_type": "stream",
     "text": [
      "1美金合台幣30.8594353元。\n"
     ]
    }
   ],
   "source": [
    "print(f\"1美金合台幣{c}元。\")"
   ]
  },
  {
   "cell_type": "code",
   "execution_count": 61,
   "metadata": {},
   "outputs": [
    {
     "name": "stdout",
     "output_type": "stream",
     "text": [
      "1美金合台幣30.86元。\n"
     ]
    }
   ],
   "source": [
    "print(f\"1美金合台幣{c:.2f}元。\") #.2為小數點後幾位 f為修飾"
   ]
  },
  {
   "cell_type": "code",
   "execution_count": 62,
   "metadata": {},
   "outputs": [
    {
     "name": "stdout",
     "output_type": "stream",
     "text": [
      "1美金合台幣     30.86元。\n"
     ]
    }
   ],
   "source": [
    "print(f\"1美金合台幣{c:10.2f}元。\") #:後的10指的是10個空格"
   ]
  },
  {
   "cell_type": "markdown",
   "metadata": {},
   "source": [
    "## 更完整 print 控制"
   ]
  },
  {
   "cell_type": "code",
   "execution_count": 64,
   "metadata": {},
   "outputs": [
    {
     "name": "stdout",
     "output_type": "stream",
     "text": [
      "●(ﾟ∀ﾟ)●\n"
     ]
    }
   ],
   "source": [
    "egg = \"(ﾟ∀ﾟ)\"\n",
    "spam = f\"●{egg}●\"\n",
    "print(spam)"
   ]
  },
  {
   "cell_type": "markdown",
   "metadata": {},
   "source": [
    "## round 1"
   ]
  },
  {
   "cell_type": "code",
   "execution_count": 72,
   "metadata": {},
   "outputs": [
    {
     "name": "stdout",
     "output_type": "stream",
     "text": [
      "●(ﾟ∀ﾟ)               ●\n"
     ]
    }
   ],
   "source": [
    "spam = f\"●{egg:20s}●\"  # s =>右邊差20格\n",
    "print(spam)"
   ]
  },
  {
   "cell_type": "markdown",
   "metadata": {},
   "source": [
    "## round 2"
   ]
  },
  {
   "cell_type": "code",
   "execution_count": 73,
   "metadata": {},
   "outputs": [
    {
     "name": "stdout",
     "output_type": "stream",
     "text": [
      "●               (ﾟ∀ﾟ)●\n"
     ]
    }
   ],
   "source": [
    "spam = f\"●{egg:>20s}●\"  # > s =>左邊差20格\n",
    "print(spam)"
   ]
  },
  {
   "cell_type": "markdown",
   "metadata": {},
   "source": [
    "## round 3"
   ]
  },
  {
   "cell_type": "code",
   "execution_count": 74,
   "metadata": {},
   "outputs": [
    {
     "name": "stdout",
     "output_type": "stream",
     "text": [
      "●       (ﾟ∀ﾟ)        ●\n"
     ]
    }
   ],
   "source": [
    "spam = f\"●{egg:^20s}●\"  # ^ s =>置中\n",
    "print(spam)"
   ]
  },
  {
   "cell_type": "markdown",
   "metadata": {},
   "source": [
    "# 聖誕樹"
   ]
  },
  {
   "cell_type": "code",
   "execution_count": 75,
   "metadata": {},
   "outputs": [
    {
     "name": "stdout",
     "output_type": "stream",
     "text": [
      "          *          \n",
      "         ***         \n",
      "        *****        \n",
      "       *******       \n",
      "      *********      \n"
     ]
    }
   ],
   "source": [
    "level = 5\n",
    "for n in range(level):\n",
    "    s = \"*\"*(2*n + 1)\n",
    "    print(f\"{s:^21s}\")"
   ]
  },
  {
   "cell_type": "code",
   "execution_count": 76,
   "metadata": {},
   "outputs": [
    {
     "name": "stdout",
     "output_type": "stream",
     "text": [
      "●*******(ﾟ∀ﾟ)********●\n"
     ]
    }
   ],
   "source": [
    "spam = f\"●{egg:*^20s}●\"  # 可指定空格要加甚麼符號 例如*字號\n",
    "print(spam)"
   ]
  },
  {
   "cell_type": "code",
   "execution_count": 80,
   "metadata": {},
   "outputs": [
    {
     "name": "stdout",
     "output_type": "stream",
     "text": [
      "087\n"
     ]
    }
   ],
   "source": [
    "n = 87\n",
    "spam = f\"{str(n):0>3s}\"  # 加0以符合087而非87\n",
    "print(spam)"
   ]
  },
  {
   "cell_type": "code",
   "execution_count": 81,
   "metadata": {},
   "outputs": [
    {
     "name": "stdout",
     "output_type": "stream",
     "text": [
      "00087\n"
     ]
    }
   ],
   "source": [
    "n = 87\n",
    "spam = \"000\" + str(n)\n",
    "print(spam)"
   ]
  },
  {
   "cell_type": "code",
   "execution_count": 84,
   "metadata": {},
   "outputs": [
    {
     "name": "stdout",
     "output_type": "stream",
     "text": [
      "087\n"
     ]
    }
   ],
   "source": [
    "print(spam[-3:])  #從-3位置開始列"
   ]
  },
  {
   "cell_type": "code",
   "execution_count": 85,
   "metadata": {},
   "outputs": [
    {
     "name": "stdout",
     "output_type": "stream",
     "text": [
      "087\n"
     ]
    }
   ],
   "source": [
    "n = 87\n",
    "spam = (\"000\" + str(n))[-3:]\n",
    "print(spam)"
   ]
  },
  {
   "cell_type": "code",
   "execution_count": 88,
   "metadata": {},
   "outputs": [
    {
     "name": "stdout",
     "output_type": "stream",
     "text": [
      "087\n"
     ]
    }
   ],
   "source": [
    "n = str(87)\n",
    "spam = n.zfill(3)  #使用zfill\n",
    "print(spam)"
   ]
  },
  {
   "cell_type": "markdown",
   "metadata": {},
   "source": [
    "## jupyter notebook的display"
   ]
  },
  {
   "cell_type": "code",
   "execution_count": 91,
   "metadata": {},
   "outputs": [],
   "source": [
    "from IPython.display import display, HTML, Markdown, Image, YouTubeVideo"
   ]
  },
  {
   "cell_type": "code",
   "execution_count": 96,
   "metadata": {},
   "outputs": [],
   "source": [
    "md_str = \"## 試驗一下\"\n",
    "md = Markdown(md_str)"
   ]
  },
  {
   "cell_type": "code",
   "execution_count": 97,
   "metadata": {},
   "outputs": [
    {
     "data": {
      "text/markdown": [
       "## 試驗一下"
      ],
      "text/plain": [
       "<IPython.core.display.Markdown object>"
      ]
     },
     "metadata": {},
     "output_type": "display_data"
    }
   ],
   "source": [
    "display(md)"
   ]
  },
  {
   "cell_type": "code",
   "execution_count": 98,
   "metadata": {},
   "outputs": [
    {
     "data": {
      "text/markdown": [
       "## 試驗一下"
      ],
      "text/plain": [
       "<IPython.core.display.Markdown object>"
      ]
     },
     "metadata": {},
     "output_type": "display_data"
    },
    {
     "data": {
      "text/markdown": [
       "## 試驗一下"
      ],
      "text/plain": [
       "<IPython.core.display.Markdown object>"
      ]
     },
     "metadata": {},
     "output_type": "display_data"
    },
    {
     "data": {
      "text/markdown": [
       "## 試驗一下"
      ],
      "text/plain": [
       "<IPython.core.display.Markdown object>"
      ]
     },
     "metadata": {},
     "output_type": "display_data"
    }
   ],
   "source": [
    "for i in range(3):\n",
    "    display(md)"
   ]
  },
  {
   "cell_type": "code",
   "execution_count": 99,
   "metadata": {},
   "outputs": [
    {
     "data": {
      "text/markdown": [
       "## 題目\n",
       "請求因式分解:\n",
       "\n",
       "$$f(x) = x^2 - 2x + 5$$\n"
      ],
      "text/plain": [
       "<IPython.core.display.Markdown object>"
      ]
     },
     "metadata": {},
     "output_type": "display_data"
    }
   ],
   "source": [
    "md_str = '''## 題目\n",
    "請求因式分解:\n",
    "\n",
    "$$f(x) = x^2 - 2x + 5$$\n",
    "'''\n",
    "md = Markdown(md_str)\n",
    "display(md)"
   ]
  },
  {
   "cell_type": "code",
   "execution_count": 100,
   "metadata": {},
   "outputs": [],
   "source": [
    "from numpy.random import randint"
   ]
  },
  {
   "cell_type": "code",
   "execution_count": 102,
   "metadata": {},
   "outputs": [
    {
     "data": {
      "text/plain": [
       "array([2, 5, 9, 7])"
      ]
     },
     "execution_count": 102,
     "metadata": {},
     "output_type": "execute_result"
    }
   ],
   "source": [
    "randint(1, 10, 4)"
   ]
  },
  {
   "cell_type": "code",
   "execution_count": 103,
   "metadata": {},
   "outputs": [],
   "source": [
    "a, b, c, d = randint(1, 10, 4)"
   ]
  },
  {
   "cell_type": "code",
   "execution_count": 104,
   "metadata": {},
   "outputs": [
    {
     "data": {
      "text/plain": [
       "8"
      ]
     },
     "execution_count": 104,
     "metadata": {},
     "output_type": "execute_result"
    }
   ],
   "source": [
    "a"
   ]
  },
  {
   "cell_type": "code",
   "execution_count": 105,
   "metadata": {},
   "outputs": [
    {
     "data": {
      "text/plain": [
       "1"
      ]
     },
     "execution_count": 105,
     "metadata": {},
     "output_type": "execute_result"
    }
   ],
   "source": [
    "b"
   ]
  },
  {
   "cell_type": "code",
   "execution_count": 106,
   "metadata": {},
   "outputs": [
    {
     "data": {
      "text/plain": [
       "4"
      ]
     },
     "execution_count": 106,
     "metadata": {},
     "output_type": "execute_result"
    }
   ],
   "source": [
    "c"
   ]
  },
  {
   "cell_type": "code",
   "execution_count": 107,
   "metadata": {},
   "outputs": [
    {
     "data": {
      "text/plain": [
       "6"
      ]
     },
     "execution_count": 107,
     "metadata": {},
     "output_type": "execute_result"
    }
   ],
   "source": [
    "d"
   ]
  },
  {
   "cell_type": "code",
   "execution_count": 113,
   "metadata": {},
   "outputs": [
    {
     "data": {
      "text/markdown": [
       "請回答下列問題:"
      ],
      "text/plain": [
       "<IPython.core.display.Markdown object>"
      ]
     },
     "metadata": {},
     "output_type": "display_data"
    },
    {
     "data": {
      "text/markdown": [
       "$$\\dfrac84 + \\dfrac35=?$$"
      ],
      "text/plain": [
       "<IPython.core.display.Markdown object>"
      ]
     },
     "metadata": {},
     "output_type": "display_data"
    }
   ],
   "source": [
    "a, b, c, d = randint(1, 10, 4)\n",
    "display(Markdown(\"請回答下列問題:\"))\n",
    "display(Markdown(f\"$$\\dfrac{a}{b} + \\dfrac{c}{d}=?$$\"))"
   ]
  },
  {
   "cell_type": "code",
   "execution_count": 116,
   "metadata": {},
   "outputs": [
    {
     "name": "stdout",
     "output_type": "stream",
     "text": [
      " 磁碟區 C 中的磁碟是 OS\n",
      " 磁碟區序號:  9016-84BD\n",
      "\n",
      " C:\\Users\\USER 的目錄\n",
      "\n",
      "2019/10/13  下午 05:59    <DIR>          .\n",
      "2019/10/13  下午 05:59    <DIR>          ..\n",
      "2019/09/24  下午 03:39    <DIR>          .anaconda\n",
      "2019/10/06  下午 10:23             1,306 .bash_history\n",
      "2016/07/23  下午 03:18    <DIR>          .fontconfig\n",
      "2019/10/05  下午 02:23                56 .gitconfig\n",
      "2019/09/17  上午 09:29    <DIR>          .idlerc\n",
      "2019/10/13  下午 04:07    <DIR>          .ipynb_checkpoints\n",
      "2019/09/18  上午 10:08    <DIR>          .ipython\n",
      "2019/09/29  下午 07:44    <DIR>          .jupyter\n",
      "2019/09/18  上午 10:10    <DIR>          .matplotlib\n",
      "2019/10/13  下午 05:59            21,608 10.09上課.ipynb\n",
      "2019/10/05  下午 02:38             6,699 10.2上課.ipynb\n",
      "2019/09/18  下午 09:29            84,698 9.18上課.ipynb\n",
      "2019/09/30  下午 04:45            32,978 9.18上課-2.ipynb\n",
      "2019/09/30  下午 10:00            20,056 9.25上課.ipynb\n",
      "2019/09/16  下午 10:48    <DIR>          Anaconda3\n",
      "2017/02/10  下午 04:24    <DIR>          Contacts\n",
      "2019/10/11  下午 01:24    <DIR>          Desktop\n",
      "2017/03/22  下午 11:56                 0 desktop_shortcut.vbs\n",
      "2019/10/03  下午 07:46    <DIR>          Documents\n",
      "2018/07/29  下午 05:48    <DIR>          Documents+ 'game_savefiles\n",
      "2019/10/12  下午 04:31    <DIR>          Downloads\n",
      "2019/10/05  下午 08:40    <DIR>          Dropbox\n",
      "2017/02/10  下午 04:24    <DIR>          Favorites\n",
      "2019/09/21  下午 10:05         6,220,854 fotowall-background1.bmp\n",
      "2019/09/22  下午 04:56         6,220,854 fotowall-background10.bmp\n",
      "2019/09/22  下午 04:58         6,220,854 fotowall-background11.bmp\n",
      "2019/09/23  上午 08:19         6,220,854 fotowall-background12.bmp\n",
      "2019/09/23  上午 08:19         6,220,854 fotowall-background13.bmp\n",
      "2019/09/23  上午 08:20         5,218,614 fotowall-background14.bmp\n",
      "2019/09/23  上午 08:20         6,220,854 fotowall-background15.bmp\n",
      "2019/09/23  上午 08:20         6,220,854 fotowall-background16.bmp\n",
      "2019/09/23  上午 08:20         6,220,854 fotowall-background17.bmp\n",
      "2019/09/23  上午 08:20         6,220,854 fotowall-background18.bmp\n",
      "2019/09/23  上午 08:21         6,220,854 fotowall-background19.bmp\n",
      "2019/09/21  下午 10:06         6,220,854 fotowall-background2.bmp\n",
      "2019/09/23  上午 08:21         6,220,854 fotowall-background20.bmp\n",
      "2019/09/23  上午 08:25         6,220,854 fotowall-background21.bmp\n",
      "2019/09/23  上午 08:25         6,220,854 fotowall-background22.bmp\n",
      "2019/09/23  上午 08:25         6,220,854 fotowall-background23.bmp\n",
      "2019/09/23  上午 08:34         6,220,854 fotowall-background24.bmp\n",
      "2019/09/23  上午 08:37         6,220,854 fotowall-background25.bmp\n",
      "2019/09/23  上午 08:39         6,220,854 fotowall-background26.bmp\n",
      "2019/09/23  上午 08:39         6,220,854 fotowall-background27.bmp\n",
      "2019/09/23  上午 08:40         6,220,854 fotowall-background28.bmp\n",
      "2019/09/23  上午 08:40         6,220,854 fotowall-background29.bmp\n",
      "2019/09/21  下午 10:09         6,220,854 fotowall-background3.bmp\n",
      "2019/09/23  上午 08:41         6,220,854 fotowall-background30.bmp\n",
      "2019/09/23  上午 08:49         6,220,854 fotowall-background31.bmp\n",
      "2019/09/23  上午 08:55         6,220,854 fotowall-background32.bmp\n",
      "2019/09/23  上午 09:04         6,220,854 fotowall-background33.bmp\n",
      "2019/09/23  上午 09:05         6,220,854 fotowall-background34.bmp\n",
      "2019/09/23  上午 09:06         6,220,854 fotowall-background35.bmp\n",
      "2019/09/23  上午 09:06         6,220,854 fotowall-background36.bmp\n",
      "2019/09/23  下午 01:38         6,220,854 fotowall-background37.bmp\n",
      "2019/09/23  下午 01:38         6,220,854 fotowall-background38.bmp\n",
      "2019/09/23  下午 01:39         6,220,854 fotowall-background39.bmp\n",
      "2019/09/21  下午 10:10         6,220,854 fotowall-background4.bmp\n",
      "2019/09/21  下午 10:14         6,220,854 fotowall-background5.bmp\n",
      "2019/09/21  下午 10:14         6,220,854 fotowall-background6.bmp\n",
      "2019/09/21  下午 10:18         6,220,854 fotowall-background7.bmp\n",
      "2019/09/21  下午 10:18         6,220,854 fotowall-background8.bmp\n",
      "2019/09/21  下午 10:19         6,220,854 fotowall-background9.bmp\n",
      "2019/09/23  下午 04:24    <DIR>          Links\n",
      "2019/06/05  上午 09:35    <DIR>          Microsoft\n",
      "2018/05/21  下午 11:21    <DIR>          Music\n",
      "2019/10/12  下午 03:44    <DIR>          OneDrive\n",
      "2019/09/26  下午 11:00    <DIR>          OneDrive.old\n",
      "2017/06/18  下午 11:08    <DIR>          Pictures\n",
      "2019/10/05  上午 10:59               403 poem.py\n",
      "2017/03/22  下午 11:56                 0 programs_shortcut.vbs\n",
      "2017/08/31  下午 11:23    <DIR>          PUBG Optimization\n",
      "2017/05/20  上午 11:44    <DIR>          Saved Games\n",
      "2017/02/10  下午 04:24    <DIR>          Searches\n",
      "2017/03/12  下午 01:11    <DIR>          Tracing\n",
      "2018/01/10  下午 06:28    <DIR>          Videos\n",
      "2017/03/22  下午 11:56            82,178 xdm-main-reg-bak.reg\n",
      "2019/10/06  下午 10:26    <DIR>          數學軟體作業檔案\n",
      "              50 個檔案     241,861,048 位元組\n",
      "              29 個目錄  91,534,282,752 位元組可用\n"
     ]
    }
   ],
   "source": [
    "%ls"
   ]
  },
  {
   "cell_type": "code",
   "execution_count": 118,
   "metadata": {},
   "outputs": [],
   "source": [
    "myvideo = YouTubeVideo('Gsfu82kv3iE')"
   ]
  },
  {
   "cell_type": "code",
   "execution_count": 119,
   "metadata": {},
   "outputs": [
    {
     "data": {
      "image/jpeg": "[encoded data removed]",
      "text/html": [
       "\n",
       "        <iframe\n",
       "            width=\"400\"\n",
       "            height=\"300\"\n",
       "            src=\"https://www.youtube.com/embed/Gsfu82kv3iE\"\n",
       "            frameborder=\"0\"\n",
       "            allowfullscreen\n",
       "        ></iframe>\n",
       "        "
      ],
      "text/plain": [
       "<IPython.lib.display.YouTubeVideo at 0x364fe7c2b0>"
      ]
     },
     "metadata": {},
     "output_type": "display_data"
    }
   ],
   "source": [
    "display(myvideo)"
   ]
  },
  {
   "cell_type": "code",
   "execution_count": 120,
   "metadata": {},
   "outputs": [],
   "source": [
    "html_str = \"<h2>標題</h2>\""
   ]
  },
  {
   "cell_type": "code",
   "execution_count": 121,
   "metadata": {},
   "outputs": [],
   "source": [
    "egg = HTML(html_str)"
   ]
  },
  {
   "cell_type": "code",
   "execution_count": 122,
   "metadata": {},
   "outputs": [
    {
     "data": {
      "text/html": [
       "<h2>標題</h2>"
      ],
      "text/plain": [
       "<IPython.core.display.HTML object>"
      ]
     },
     "metadata": {},
     "output_type": "display_data"
    }
   ],
   "source": [
    "display(egg)"
   ]
  },
  {
   "cell_type": "code",
   "execution_count": 124,
   "metadata": {},
   "outputs": [],
   "source": [
    "html_str = '<h2 style=\"color:red;\">標題</h2>'"
   ]
  },
  {
   "cell_type": "code",
   "execution_count": 125,
   "metadata": {},
   "outputs": [],
   "source": [
    "egg = HTML(html_str)"
   ]
  },
  {
   "cell_type": "code",
   "execution_count": 126,
   "metadata": {},
   "outputs": [
    {
     "data": {
      "text/html": [
       "<h2 style=\"color:red;\">標題</h2>"
      ],
      "text/plain": [
       "<IPython.core.display.HTML object>"
      ]
     },
     "metadata": {},
     "output_type": "display_data"
    }
   ],
   "source": [
    "display(egg)"
   ]
  },
  {
   "cell_type": "code",
   "execution_count": null,
   "metadata": {},
   "outputs": [],
   "source": []
  }
 ],
 "metadata": {
  "kernelspec": {
   "display_name": "Python 3",
   "language": "python",
   "name": "python3"
  },
  "language_info": {
   "codemirror_mode": {
    "name": "ipython",
    "version": 3
   },
   "file_extension": ".py",
   "mimetype": "text/x-python",
   "name": "python",
   "nbconvert_exporter": "python",
   "pygments_lexer": "ipython3",
   "version": "3.7.3"
  }
 },
 "nbformat": 4,
 "nbformat_minor": 2
}
