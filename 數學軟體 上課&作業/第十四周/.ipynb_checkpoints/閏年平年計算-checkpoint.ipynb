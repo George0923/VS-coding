{
 "cells": [
  {
   "cell_type": "code",
   "execution_count": 1,
   "metadata": {},
   "outputs": [],
   "source": [
    "%matplotlib inline\n",
    "import numpy as np\n",
    "import pandas as pd\n",
    "import matplotlib.pyplot as plt"
   ]
  },
  {
   "cell_type": "code",
   "execution_count": 3,
   "metadata": {},
   "outputs": [
    {
     "name": "stdout",
     "output_type": "stream",
     "text": [
      "請輸入欲查詢年份：2019\n",
      "2019 年是平年\n"
     ]
    }
   ],
   "source": [
    "year = int(input(\"請輸入欲查詢年份：\"))\n",
    "\n",
    "if (year%4) == 0:\n",
    "    if (year%400) == 0:\n",
    "        print(year,\"年是閏年\")\n",
    "    elif (year%100) == 0:\n",
    "        print(year, \"年是平年\")\n",
    "    else:\n",
    "        print(year, \"年是閏年\")\n",
    "else:\n",
    "    print(year, \"年是平年\")"
   ]
  },
  {
   "cell_type": "code",
   "execution_count": null,
   "metadata": {},
   "outputs": [],
   "source": []
  }
 ],
 "metadata": {
  "kernelspec": {
   "display_name": "Python 3",
   "language": "python",
   "name": "python3"
  },
  "language_info": {
   "codemirror_mode": {
    "name": "ipython",
    "version": 3
   },
   "file_extension": ".py",
   "mimetype": "text/x-python",
   "name": "python",
   "nbconvert_exporter": "python",
   "pygments_lexer": "ipython3",
   "version": "3.7.3"
  }
 },
 "nbformat": 4,
 "nbformat_minor": 2
}
