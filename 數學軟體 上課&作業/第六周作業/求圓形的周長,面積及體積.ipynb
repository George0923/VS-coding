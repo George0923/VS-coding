{
 "cells": [
  {
   "cell_type": "markdown",
   "metadata": {},
   "source": [
    "# 作業四"
   ]
  },
  {
   "cell_type": "code",
   "execution_count": 1,
   "metadata": {},
   "outputs": [],
   "source": [
    "%matplotlib inline\n",
    "import numpy as np\n",
    "import matplotlib.pyplot as plt\n",
    "import pandas as pd"
   ]
  },
  {
   "cell_type": "code",
   "execution_count": 14,
   "metadata": {},
   "outputs": [],
   "source": [
    "def around(egg):\n",
    "    x = (egg)\n",
    "    return float(egg)*2*3.14159265359*2\n",
    "def area(egg):\n",
    "    x = (egg)\n",
    "    return float(egg)*float(egg)*3.14159265359*2+2*float(egg)*3.14159265359*float(ham)\n",
    "def volume(ham):\n",
    "    y = (ham)\n",
    "    return float(egg)*float(egg)*3.14159265359*float(ham)\n",
    "    "
   ]
  },
  {
   "cell_type": "code",
   "execution_count": 16,
   "metadata": {},
   "outputs": [
    {
     "name": "stdout",
     "output_type": "stream",
     "text": [
      "請輸入該圓柱的半徑值:\n",
      "10\n",
      "請輸入該圓柱的高:\n",
      "5\n",
      "該圓柱體的底圓周長為: 125.6637061436\n",
      "該圓柱體的表面積為: 942.477796077\n",
      "該圓柱體的體積為: 1570.7963267950001\n"
     ]
    }
   ],
   "source": [
    "print(\"請輸入該圓柱的半徑值:\")\n",
    "egg = input(\"\")\n",
    "print(\"請輸入該圓柱的高:\")\n",
    "ham = input(\"\")\n",
    "print(\"該圓柱體的底圓周長為:\", around(egg))\n",
    "print(\"該圓柱體的表面積為:\", area(egg))\n",
    "print(\"該圓柱體的體積為:\", volume(ham))"
   ]
  },
  {
   "cell_type": "code",
   "execution_count": null,
   "metadata": {},
   "outputs": [],
   "source": []
  }
 ],
 "metadata": {
  "kernelspec": {
   "display_name": "Python 3",
   "language": "python",
   "name": "python3"
  },
  "language_info": {
   "codemirror_mode": {
    "name": "ipython",
    "version": 3
   },
   "file_extension": ".py",
   "mimetype": "text/x-python",
   "name": "python",
   "nbconvert_exporter": "python",
   "pygments_lexer": "ipython3",
   "version": "3.7.3"
  }
 },
 "nbformat": 4,
 "nbformat_minor": 2
}
