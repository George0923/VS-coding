{
 "cells": [
  {
   "cell_type": "code",
   "execution_count": 3,
   "metadata": {},
   "outputs": [],
   "source": [
    "person = (\"George\", \"student\", 20, \"fried chicken\")\n",
    "(name, identity, age, favorite) = person"
   ]
  },
  {
   "cell_type": "code",
   "execution_count": 8,
   "metadata": {},
   "outputs": [
    {
     "name": "stdout",
     "output_type": "stream",
     "text": [
      "請輸入您想查詢的資料:奇聞\n",
      "目前尚無此資料,請重新查詢\n"
     ]
    }
   ],
   "source": [
    "x = input(\"請輸入您想查詢的資料:\")\n",
    "if x == \"姓名\":\n",
    "    print(name)\n",
    "elif x == \"職業\":\n",
    "    print(identity)\n",
    "elif x == \"年齡\":\n",
    "    print(age)\n",
    "elif x == \"喜好\":\n",
    "    print(favorite)\n",
    "else:\n",
    "    print(\"目前尚無此資料,請重新查詢\")"
   ]
  },
  {
   "cell_type": "code",
   "execution_count": null,
   "metadata": {},
   "outputs": [],
   "source": []
  }
 ],
 "metadata": {
  "kernelspec": {
   "display_name": "Python 3",
   "language": "python",
   "name": "python3"
  },
  "language_info": {
   "codemirror_mode": {
    "name": "ipython",
    "version": 3
   },
   "file_extension": ".py",
   "mimetype": "text/x-python",
   "name": "python",
   "nbconvert_exporter": "python",
   "pygments_lexer": "ipython3",
   "version": "3.7.3"
  }
 },
 "nbformat": 4,
 "nbformat_minor": 2
}
