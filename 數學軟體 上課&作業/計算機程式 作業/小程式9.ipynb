{
 "cells": [
  {
   "cell_type": "markdown",
   "metadata": {},
   "source": [
    "# 複利/現值計算"
   ]
  },
  {
   "cell_type": "code",
   "execution_count": 4,
   "metadata": {},
   "outputs": [],
   "source": [
    "import numpy as np"
   ]
  },
  {
   "cell_type": "code",
   "execution_count": 7,
   "metadata": {},
   "outputs": [
    {
     "name": "stdout",
     "output_type": "stream",
     "text": [
      "請輸入您想利用的功能(複利計算/現值計算):複利計算\n",
      "請輸入您的本金(元):1000\n",
      "請輸入您的年利率(%):5\n",
      "請輸入您的期數(年):5\n",
      "複利結果為:1276.2815625000003 元\n"
     ]
    }
   ],
   "source": [
    "x = input(\"請輸入您想利用的功能(複利計算/現值計算):\")\n",
    "if x == \"複利計算\":\n",
    "    amount = input(\"請輸入您的本金(元):\")\n",
    "    rate = input(\"請輸入您的年利率(%):\")\n",
    "    time = input(\"請輸入您的期數(年):\")\n",
    "    def invest(amount,rate,time): \n",
    "        principal = float(amount)*(1+float(rate)/100)**float(time)\n",
    "        return principal\n",
    "    print('複利結果為:{0}'.format(invest(amount, rate ,time)),'元')\n",
    "elif x == \"現值計算\":\n",
    "    c = input(\"請輸入您的現金流:\")\n",
    "    cn = float(c)\n",
    "    r = input(\"請輸入您的貼現率:\")\n",
    "    rn = float(r)\n",
    "    n = input(\"請輸入您的期限:\")\n",
    "    nn = float(n)\n",
    "    def pv_f(cn,rn,nn,when=1):\n",
    "        c = np.array(cn)\n",
    "        r = np.array(rn)\n",
    "        if when == 1:\n",
    "            n = np.arange(1, nn+1)\n",
    "        else:\n",
    "            n = np.arange(0, nn)\n",
    "        pv = cn/(1+rn)**n\n",
    "        return pv.sum()\n",
    "    pv1 = pv_f(cn,rn,nn,when=1)\n",
    "    print(\"普通年金現值（年末）：%.2f\"% pv1)\n",
    "    pv2 = pv_f(cn,rn,nn,when=0)\n",
    "    print(\"預付年金現值（年初）：%.2f\" % pv2)"
   ]
  },
  {
   "cell_type": "code",
   "execution_count": null,
   "metadata": {},
   "outputs": [],
   "source": []
  }
 ],
 "metadata": {
  "kernelspec": {
   "display_name": "Python 3",
   "language": "python",
   "name": "python3"
  },
  "language_info": {
   "codemirror_mode": {
    "name": "ipython",
    "version": 3
   },
   "file_extension": ".py",
   "mimetype": "text/x-python",
   "name": "python",
   "nbconvert_exporter": "python",
   "pygments_lexer": "ipython3",
   "version": "3.7.3"
  }
 },
 "nbformat": 4,
 "nbformat_minor": 2
}
