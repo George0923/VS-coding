{
 "cells": [
  {
   "cell_type": "code",
   "execution_count": 12,
   "metadata": {},
   "outputs": [],
   "source": [
    "%matplotlib inline\n",
    "import pandas as pd\n",
    "import numpy as np\n",
    "import matplotlib.pyplot as plt\n",
    "import csv as csv\n",
    "import xlrd\n",
    "from datetime import datetime"
   ]
  },
  {
   "cell_type": "code",
   "execution_count": 137,
   "metadata": {},
   "outputs": [],
   "source": [
    "df1 = pd.read_excel(r'C:\\Users\\USER\\Desktop\\大學\\大三\\三下\\計算機程式\\最終檔\\1. 6203 元大MSCI台灣.xlsx',encoding='gbk')\n",
    "df1a = pd.read_excel(r'C:\\Users\\USER\\Desktop\\大學\\大三\\三下\\計算機程式\\綜合數據 - 複製.xlsx',encoding='gbk')\n",
    "left = pd.DataFrame(df1)\n",
    "right = pd.DataFrame(df1a)\n",
    "b = pd.merge(left,right, on='日期')"
   ]
  },
  {
   "cell_type": "code",
   "execution_count": 138,
   "metadata": {},
   "outputs": [],
   "source": [
    "b.to_excel(r'C:\\Users\\USER\\Desktop\\大學\\大三\\三下\\計算機程式\\1. 6203 元大MSCI台灣 ek.xlsx',index=False,columns=None)"
   ]
  },
  {
   "cell_type": "code",
   "execution_count": null,
   "metadata": {},
   "outputs": [],
   "source": []
  }
 ],
 "metadata": {
  "kernelspec": {
   "display_name": "Python 3",
   "language": "python",
   "name": "python3"
  },
  "language_info": {
   "codemirror_mode": {
    "name": "ipython",
    "version": 3
   },
   "file_extension": ".py",
   "mimetype": "text/x-python",
   "name": "python",
   "nbconvert_exporter": "python",
   "pygments_lexer": "ipython3",
   "version": "3.7.3"
  }
 },
 "nbformat": 4,
 "nbformat_minor": 2
}
