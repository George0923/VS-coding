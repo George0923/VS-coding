{
 "cells": [
  {
   "cell_type": "code",
   "execution_count": 1,
   "metadata": {},
   "outputs": [],
   "source": [
    "%matplotlib inline\n",
    "import pandas as pd\n",
    "import numpy as np\n",
    "import matplotlib.pyplot as plt\n",
    "import csv as csv\n",
    "import xlrd\n",
    "from datetime import datetime\n",
    "from pandas import DataFrame"
   ]
  },
  {
   "cell_type": "code",
   "execution_count": 2,
   "metadata": {},
   "outputs": [],
   "source": [
    "lion = pd.read_excel(r'C:\\Users\\USER\\Desktop\\大學\\大三\\三下\\計算機程式\\整合需用數據\\lion_test - 複製 (2).xlsx', encoding='gbk')\n",
    "df1a = pd.read_excel(r'C:\\Users\\USER\\Desktop\\大學\\大三\\三下\\計算機程式\\整合需用數據\\綜合數據 - 複製.xlsx',encoding='gbk')"
   ]
  },
  {
   "cell_type": "code",
   "execution_count": 79,
   "metadata": {},
   "outputs": [],
   "source": [
    "元大MSCI = lion.loc[lion['證券名稱']=='大億'] #lion_test查\n",
    "\n",
    "df1 = pd.read_excel(r'C:\\Users\\USER\\Desktop\\大學\\大三\\三下\\計算機程式\\整合需用數據\\80. 大億.xlsx'\n",
    "                    ,encoding='gbk')                                           #檔名\n",
    "left = pd.DataFrame(df1)\n",
    "right = pd.DataFrame(df1a)\n",
    "\n",
    "b = pd.merge(left,right, on='日期')\n",
    "\n",
    "center = pd.DataFrame(元大MSCI)\n",
    "\n",
    "c = pd.merge(b,center,on='日期')\n",
    "\n",
    "c.drop(['code','證券名稱','國際證券編碼'],axis=1,inplace=True)\n",
    "\n",
    "c.to_csv(r'C:\\Users\\USER\\Desktop\\大學\\大三\\三下\\計算機程式\\final\\80. 大億.csv'\n",
    "         ,index=False,columns=None,encoding='utf-8-sig')        #檔名"
   ]
  },
  {
   "cell_type": "code",
   "execution_count": null,
   "metadata": {},
   "outputs": [],
   "source": []
  }
 ],
 "metadata": {
  "kernelspec": {
   "display_name": "Python 3",
   "language": "python",
   "name": "python3"
  },
  "language_info": {
   "codemirror_mode": {
    "name": "ipython",
    "version": 3
   },
   "file_extension": ".py",
   "mimetype": "text/x-python",
   "name": "python",
   "nbconvert_exporter": "python",
   "pygments_lexer": "ipython3",
   "version": "3.7.3"
  }
 },
 "nbformat": 4,
 "nbformat_minor": 2
}
