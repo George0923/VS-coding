{
 "cells": [
  {
   "cell_type": "code",
   "execution_count": 1,
   "metadata": {},
   "outputs": [],
   "source": [
    "%matplotlib inline\n",
    "\n",
    "import pandas as pd\n",
    "import numpy as np \n",
    "import matplotlib.pyplot as plt"
   ]
  },
  {
   "cell_type": "markdown",
   "metadata": {},
   "source": [
    "# 1. 讀入套件"
   ]
  },
  {
   "cell_type": "code",
   "execution_count": 2,
   "metadata": {},
   "outputs": [],
   "source": [
    "from tensorflow.keras.preprocessing import sequence\n",
    "from tensorflow.keras.models import Sequential\n",
    "from tensorflow.keras.layers import Dense, Embedding\n",
    "from tensorflow.keras.layers import LSTM\n",
    "from tensorflow.keras.datasets import imdb"
   ]
  },
  {
   "cell_type": "markdown",
   "metadata": {},
   "source": [
    "# 2. 讀入數據"
   ]
  },
  {
   "cell_type": "code",
   "execution_count": 3,
   "metadata": {},
   "outputs": [
    {
     "name": "stdout",
     "output_type": "stream",
     "text": [
      "Downloading data from https://storage.googleapis.com/tensorflow/tf-keras-datasets/imdb.npz\n",
      "17465344/17464789 [==============================] - 4s 0us/step\n"
     ]
    }
   ],
   "source": [
    "(x_train,y_train), (x_test, y_test) = imdb.load_data(num_words = 10000)"
   ]
  },
  {
   "cell_type": "code",
   "execution_count": 4,
   "metadata": {},
   "outputs": [
    {
     "data": {
      "text/plain": [
       "25000"
      ]
     },
     "execution_count": 4,
     "metadata": {},
     "output_type": "execute_result"
    }
   ],
   "source": [
    "len(x_train)"
   ]
  },
  {
   "cell_type": "code",
   "execution_count": 5,
   "metadata": {},
   "outputs": [
    {
     "data": {
      "text/plain": [
       "25000"
      ]
     },
     "execution_count": 5,
     "metadata": {},
     "output_type": "execute_result"
    }
   ],
   "source": [
    "len(y_train)"
   ]
  },
  {
   "cell_type": "markdown",
   "metadata": {},
   "source": [
    "# 3. 整理資料"
   ]
  },
  {
   "cell_type": "markdown",
   "metadata": {},
   "source": [
    "### maxlen調整為200"
   ]
  },
  {
   "cell_type": "code",
   "execution_count": 8,
   "metadata": {},
   "outputs": [],
   "source": [
    "x_train = sequence.pad_sequences(x_train, maxlen = 200)\n",
    "x_test = sequence.pad_sequences(x_test, maxlen = 200)"
   ]
  },
  {
   "cell_type": "markdown",
   "metadata": {},
   "source": [
    "# 4. 打造函數學習機"
   ]
  },
  {
   "cell_type": "markdown",
   "metadata": {},
   "source": [
    "### LSTM改為128, dropout改為0.3"
   ]
  },
  {
   "cell_type": "code",
   "execution_count": 11,
   "metadata": {},
   "outputs": [],
   "source": [
    "model = Sequential()\n",
    "model.add(Embedding(10000,128))\n",
    "model.add(LSTM(128, dropout = 0.3, recurrent_dropout = 0.3))\n",
    "model.add(Dense(1, activation='sigmoid'))\n",
    "model.compile(loss='binary_crossentropy', optimizer = 'adam', metrics=['accuracy'])"
   ]
  },
  {
   "cell_type": "code",
   "execution_count": 12,
   "metadata": {},
   "outputs": [
    {
     "name": "stdout",
     "output_type": "stream",
     "text": [
      "Model: \"sequential_1\"\n",
      "_________________________________________________________________\n",
      "Layer (type)                 Output Shape              Param #   \n",
      "=================================================================\n",
      "embedding (Embedding)        (None, None, 128)         1280000   \n",
      "_________________________________________________________________\n",
      "lstm (LSTM)                  (None, 128)               131584    \n",
      "_________________________________________________________________\n",
      "dense (Dense)                (None, 1)                 129       \n",
      "=================================================================\n",
      "Total params: 1,411,713\n",
      "Trainable params: 1,411,713\n",
      "Non-trainable params: 0\n",
      "_________________________________________________________________\n"
     ]
    }
   ],
   "source": [
    "model.summary()"
   ]
  },
  {
   "cell_type": "markdown",
   "metadata": {},
   "source": [
    "# 5. 訓練"
   ]
  },
  {
   "cell_type": "markdown",
   "metadata": {},
   "source": [
    "### batch_size改為32, epochs改為12"
   ]
  },
  {
   "cell_type": "code",
   "execution_count": 14,
   "metadata": {},
   "outputs": [
    {
     "name": "stdout",
     "output_type": "stream",
     "text": [
      "Train on 25000 samples, validate on 25000 samples\n",
      "Epoch 1/12\n",
      "25000/25000 [==============================] - 1022s 41ms/sample - loss: 0.6936 - accuracy: 0.4969 - val_loss: 0.6940 - val_accuracy: 0.5012\n",
      "Epoch 2/12\n",
      "25000/25000 [==============================] - 886s 35ms/sample - loss: 0.6833 - accuracy: 0.5559 - val_loss: 0.7075 - val_accuracy: 0.4956\n",
      "Epoch 3/12\n",
      "25000/25000 [==============================] - 1026s 41ms/sample - loss: 0.6324 - accuracy: 0.6373 - val_loss: 0.7815 - val_accuracy: 0.4968\n",
      "Epoch 4/12\n",
      "25000/25000 [==============================] - 933s 37ms/sample - loss: 0.5565 - accuracy: 0.7021 - val_loss: 0.8719 - val_accuracy: 0.4917\n",
      "Epoch 5/12\n",
      "25000/25000 [==============================] - 901s 36ms/sample - loss: 0.4815 - accuracy: 0.7553 - val_loss: 1.0880 - val_accuracy: 0.4915\n",
      "Epoch 6/12\n",
      "25000/25000 [==============================] - 1540s 62ms/sample - loss: 0.4116 - accuracy: 0.7946 - val_loss: 1.3435 - val_accuracy: 0.4913\n",
      "Epoch 7/12\n",
      "25000/25000 [==============================] - 1416s 57ms/sample - loss: 0.3515 - accuracy: 0.8280 - val_loss: 1.5425 - val_accuracy: 0.4919\n",
      "Epoch 8/12\n",
      "25000/25000 [==============================] - 914s 37ms/sample - loss: 0.3029 - accuracy: 0.8542 - val_loss: 1.7820 - val_accuracy: 0.4943\n",
      "Epoch 9/12\n",
      "25000/25000 [==============================] - 964s 39ms/sample - loss: 0.2622 - accuracy: 0.8764 - val_loss: 2.0973 - val_accuracy: 0.4960\n",
      "Epoch 10/12\n",
      "25000/25000 [==============================] - 1332s 53ms/sample - loss: 0.2257 - accuracy: 0.8965 - val_loss: 2.3900 - val_accuracy: 0.4944\n",
      "Epoch 11/12\n",
      "25000/25000 [==============================] - 955s 38ms/sample - loss: 0.1983 - accuracy: 0.9093 - val_loss: 2.5220 - val_accuracy: 0.4944\n",
      "Epoch 12/12\n",
      "25000/25000 [==============================] - 922s 37ms/sample - loss: 0.1768 - accuracy: 0.9222 - val_loss: 2.8542 - val_accuracy: 0.4926\n"
     ]
    },
    {
     "data": {
      "text/plain": [
       "<tensorflow.python.keras.callbacks.History at 0xfac8337f28>"
      ]
     },
     "execution_count": 14,
     "metadata": {},
     "output_type": "execute_result"
    }
   ],
   "source": [
    "model.fit(x_train, y_train, batch_size=32, epochs=12, validation_data=(x_test,y_test))"
   ]
  },
  {
   "cell_type": "code",
   "execution_count": 16,
   "metadata": {},
   "outputs": [],
   "source": [
    "model_json = model.to_json()\n",
    "open('imdb_model_architecture.json', 'w').write(model_json)\n",
    "model.save_weights('imdb_model_weights.h5')"
   ]
  }
 ],
 "metadata": {
  "kernelspec": {
   "display_name": "Python 3",
   "language": "python",
   "name": "python3"
  },
  "language_info": {
   "codemirror_mode": {
    "name": "ipython",
    "version": 3
   },
   "file_extension": ".py",
   "mimetype": "text/x-python",
   "name": "python",
   "nbconvert_exporter": "python",
   "pygments_lexer": "ipython3",
   "version": "3.7.3"
  }
 },
 "nbformat": 4,
 "nbformat_minor": 2
}
