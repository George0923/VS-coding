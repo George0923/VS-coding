{
 "cells": [
  {
   "cell_type": "markdown",
   "metadata": {},
   "source": [
    "# 每日需攝取營養計算器"
   ]
  },
  {
   "cell_type": "code",
   "execution_count": 4,
   "metadata": {},
   "outputs": [
    {
     "name": "stdout",
     "output_type": "stream",
     "text": [
      "請輸入您的TDEE:2500\n"
     ]
    }
   ],
   "source": [
    "from ipywidgets import interact\n",
    "a = input('請輸入您的TDEE:')\n",
    "def f(choice):\n",
    "    print(choice)\n",
    "    if choice == '一般健身族群':\n",
    "        c = float(a)*0.5/4\n",
    "        e = float(a)*0.3/4\n",
    "        f = float(a)*0.2/9\n",
    "        print('您每日需攝取', c,'克的碳水化合物,', e,'克的蛋白質,', f,'克的脂肪')\n",
    "    elif choice == '高碳水':\n",
    "        c = float(a)*0.6/4\n",
    "        e = float(a)*0.25/4\n",
    "        f = float(a)*0.15/9\n",
    "        print('您每日需攝取', c,'克的碳水化合物,', e,'克的蛋白質,', f,'克的脂肪')\n",
    "    elif choice == '超高蛋白質':\n",
    "        c = float(a)*0.25/4\n",
    "        e = float(a)*0.45/4\n",
    "        f = float(a)*0.3/9\n",
    "        print('您每日需攝取', c,'克的碳水化合物,', e,'克的蛋白質,', f,'克的脂肪')\n",
    "    else:\n",
    "        c = float(a)*0.1/4\n",
    "        e = float(a)*0.2/4\n",
    "        f = float(a)*0.7/9\n",
    "        print('您每日需攝取', c,'克的碳水化合物,', e,'克的蛋白質,', f,'克的脂肪')"
   ]
  },
  {
   "cell_type": "code",
   "execution_count": 5,
   "metadata": {},
   "outputs": [
    {
     "data": {
      "application/vnd.jupyter.widget-view+json": {
       "model_id": "322596e17eb2498fa3cfde92c0cc66be",
       "version_major": 2,
       "version_minor": 0
      },
      "text/plain": [
       "interactive(children=(Dropdown(description='choice', options=('一般健身族群', '超高蛋白質', '生酮飲食', '高碳水'), value='一般健身族群…"
      ]
     },
     "metadata": {},
     "output_type": "display_data"
    }
   ],
   "source": [
    "interact(f,choice={'一般健身族群','高碳水','超高蛋白質','生酮飲食'});"
   ]
  }
 ],
 "metadata": {
  "kernelspec": {
   "display_name": "Python 3",
   "language": "python",
   "name": "python3"
  },
  "language_info": {
   "codemirror_mode": {
    "name": "ipython",
    "version": 3
   },
   "file_extension": ".py",
   "mimetype": "text/x-python",
   "name": "python",
   "nbconvert_exporter": "python",
   "pygments_lexer": "ipython3",
   "version": "3.7.3"
  }
 },
 "nbformat": 4,
 "nbformat_minor": 2
}
