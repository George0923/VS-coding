{
 "cells": [
  {
   "cell_type": "code",
   "execution_count": 4,
   "metadata": {},
   "outputs": [],
   "source": [
    "%matplotlib inline\n",
    "import numpy as np\n",
    "import matplotlib.pyplot as plt\n",
    "import pandas as pd\n",
    "from ipywidgets import interact\n",
    "import time"
   ]
  },
  {
   "cell_type": "code",
   "execution_count": 53,
   "metadata": {},
   "outputs": [],
   "source": [
    "def f(choice):\n",
    "    print(choice)\n",
    "    if choice == \"日本\":\n",
    "        print(time.localtime(time.time()+1*3600))\n",
    "    elif choice == \"香港\":\n",
    "        print(time.localtime(time.time()))\n",
    "    elif choice == \"新加坡\":\n",
    "        print(time.localtime(time.time()))\n",
    "    elif choice == \"韓國\":\n",
    "        print(time.localtime(time.time()+1*3600))\n",
    "    elif choice == \"中國\":\n",
    "        print(time.localtime(time.time()))\n",
    "    elif choice == \"斯里蘭卡\":\n",
    "        print(time.localtime(time.time()-2.5*3600))\n",
    "    elif choice == \"泰國\":\n",
    "        print(time.localtime(time.time()-1*3600))\n",
    "    elif choice == \"關島\":\n",
    "        print(time.localtime(time.time()+2*3600))\n",
    "    elif choice == \"紐西蘭\":\n",
    "        print(time.localtime(time.time()+4*3600))\n",
    "    elif choice == \"荷蘭\":\n",
    "        print(time.localtime(time.time()-7*3600))\n",
    "    elif choice == \"德國\":\n",
    "        print(time.localtime(time.time()-7*3600))\n",
    "    elif choice == \"英國\":\n",
    "        print(time.localtime(time.time()-8*3600))\n",
    "    elif choice == \"美國西岸\":\n",
    "        print(time.localtime(time.time()-13*3600))\n",
    "    elif choice == \"美國東岸\":\n",
    "        print(time.localtime(time.time()-16*3600))\n",
    "    else:\n",
    "        print(time.localtime(time.time()-11*3600))"
   ]
  },
  {
   "cell_type": "code",
   "execution_count": 54,
   "metadata": {},
   "outputs": [
    {
     "data": {
      "application/vnd.jupyter.widget-view+json": {
       "model_id": "b3a0e21274dc4fa6a66b2614f513a594",
       "version_major": 2,
       "version_minor": 0
      },
      "text/plain": [
       "interactive(children=(Dropdown(description='choice', options=('韓國', '關島', '英國', '香港', '美國東岸', '德國', '新加坡', '泰國…"
      ]
     },
     "metadata": {},
     "output_type": "display_data"
    },
    {
     "data": {
      "text/plain": [
       "<function __main__.f(choice)>"
      ]
     },
     "execution_count": 54,
     "metadata": {},
     "output_type": "execute_result"
    }
   ],
   "source": [
    "interact(f, choice = {\"日本\", \"香港\", \"新加坡\", \"韓國\", \"中國\", \"斯里蘭卡\", \"泰國\", \"關島\", \"紐西蘭\", \"荷蘭\", \"德國\", \"英國\", \"美國西岸\", \"美國東岸\", \"巴西\"})"
   ]
  },
  {
   "cell_type": "code",
   "execution_count": null,
   "metadata": {},
   "outputs": [],
   "source": []
  }
 ],
 "metadata": {
  "kernelspec": {
   "display_name": "Python 3",
   "language": "python",
   "name": "python3"
  },
  "language_info": {
   "codemirror_mode": {
    "name": "ipython",
    "version": 3
   },
   "file_extension": ".py",
   "mimetype": "text/x-python",
   "name": "python",
   "nbconvert_exporter": "python",
   "pygments_lexer": "ipython3",
   "version": "3.7.3"
  }
 },
 "nbformat": 4,
 "nbformat_minor": 2
}
