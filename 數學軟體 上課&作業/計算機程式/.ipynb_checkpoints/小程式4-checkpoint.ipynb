{
 "cells": [
  {
   "cell_type": "markdown",
   "metadata": {},
   "source": [
    "# 歷史性的一天"
   ]
  },
  {
   "cell_type": "code",
   "execution_count": 22,
   "metadata": {},
   "outputs": [],
   "source": [
    "import webbrowser"
   ]
  },
  {
   "cell_type": "code",
   "execution_count": 23,
   "metadata": {},
   "outputs": [
    {
     "name": "stdout",
     "output_type": "stream",
     "text": [
      "問題一:請問高雄市長韓國瑜的市長罷免案於民國109年的幾月幾日通過?6/6\n",
      "問題二:請問高雄市長韓國瑜的市長罷免案最終同意票數為多少票?939090張\n",
      "恭喜您答對了,開炮慶祝摟摟搂\n"
     ]
    }
   ],
   "source": [
    "a = input('問題一:請問高雄市長韓國瑜的市長罷免案於民國109年的幾月幾日通過?')\n",
    "b = input('問題二:請問高雄市長韓國瑜的市長罷免案最終同意票數為多少票?')\n",
    "if a == '6/6' or'6月6日'& b == '93.9萬'or'93萬9090張' or '939090張':\n",
    "    print('恭喜您答對了,開炮慶祝摟摟搂')\n",
    "else:\n",
    "    print('ㄋ各位答錯瞜,網站給你><')\n",
    "    webbrowser.open_new('https://udn.com/news/story/120934/4590594')"
   ]
  }
 ],
 "metadata": {
  "kernelspec": {
   "display_name": "Python 3",
   "language": "python",
   "name": "python3"
  },
  "language_info": {
   "codemirror_mode": {
    "name": "ipython",
    "version": 3
   },
   "file_extension": ".py",
   "mimetype": "text/x-python",
   "name": "python",
   "nbconvert_exporter": "python",
   "pygments_lexer": "ipython3",
   "version": "3.7.3"
  }
 },
 "nbformat": 4,
 "nbformat_minor": 2
}
