{
 "cells": [
  {
   "cell_type": "code",
   "execution_count": 2,
   "metadata": {},
   "outputs": [],
   "source": [
    "def f(choice):\n",
    "    print(choice)\n",
    "from ipywidgets import interact"
   ]
  },
  {
   "cell_type": "code",
   "execution_count": 3,
   "metadata": {},
   "outputs": [
    {
     "name": "stdout",
     "output_type": "stream",
     "text": [
      "野生的白痴室友出現,並開始做蠢事了\n"
     ]
    },
    {
     "data": {
      "application/vnd.jupyter.widget-view+json": {
       "model_id": "8143727458a54e859780de48e4154560",
       "version_major": 2,
       "version_minor": 0
      },
      "text/plain": [
       "interactive(children=(Dropdown(description='choice', options={'打暈他': '效果拔群,對白癡室友造成傷害附加暈眩效果', '理性勸說': '效果不理想,該室…"
      ]
     },
     "metadata": {},
     "output_type": "display_data"
    }
   ],
   "source": [
    "print(\"野生的白痴室友出現,並開始做蠢事了\")\n",
    "interact (f, choice={\"打暈他\":\"效果拔群,對白癡室友造成傷害附加暈眩效果\", \"理性勸說\":\"效果不理想,該室友還是一樣很白癡,並對你附加了氣氣氣氣氣效果\"\n",
    "          , \"無視\":\"似乎沒有效果,白癡室友對你附加了混亂效果\"});"
   ]
  },
  {
   "cell_type": "code",
   "execution_count": 36,
   "metadata": {},
   "outputs": [
    {
     "name": "stdout",
     "output_type": "stream",
     "text": [
      "野生的白痴室友出現,並開始做蠢事了\n"
     ]
    },
    {
     "data": {
      "application/vnd.jupyter.widget-view+json": {
       "model_id": "ae21c4b7de324b59a4953c8b02572483",
       "version_major": 2,
       "version_minor": 0
      },
      "text/plain": [
       "interactive(children=(Dropdown(description='choice', options={'打暈他': '效果拔群,對白癡室友造成傷害附加暈眩效果', '理性勸說': '效果不理想,該室…"
      ]
     },
     "metadata": {},
     "output_type": "display_data"
    }
   ],
   "source": [
    "print(\"野生的白痴室友出現,並開始做蠢事了\")\n",
    "interact (f, choice={\"打暈他\":\"效果拔群,對白癡室友造成傷害附加暈眩效果\", \"理性勸說\":\"效果不理想,該室友還是一樣很白癡,並對你附加了氣氣氣氣氣效果\"\n",
    "          , \"無視\":\"似乎沒有效果,白癡室友對你附加了混亂效果\"});"
   ]
  },
  {
   "cell_type": "code",
   "execution_count": 37,
   "metadata": {},
   "outputs": [
    {
     "name": "stdout",
     "output_type": "stream",
     "text": [
      "野生的白痴室友出現,並開始做蠢事了\n"
     ]
    },
    {
     "data": {
      "application/vnd.jupyter.widget-view+json": {
       "model_id": "03eb41bd0e704c7498f0af1c1d9e403c",
       "version_major": 2,
       "version_minor": 0
      },
      "text/plain": [
       "interactive(children=(Dropdown(description='choice', options={'打暈他': '效果拔群,對白癡室友造成傷害附加暈眩效果', '理性勸說': '效果不理想,該室…"
      ]
     },
     "metadata": {},
     "output_type": "display_data"
    }
   ],
   "source": [
    "print(\"野生的白痴室友出現,並開始做蠢事了\")\n",
    "interact (f, choice={\"打暈他\":\"效果拔群,對白癡室友造成傷害附加暈眩效果\", \"理性勸說\":\"效果不理想,該室友還是一樣很白癡,並對你附加了氣氣氣氣氣效果\"\n",
    "          , \"無視\":\"似乎沒有效果,白癡室友對你附加了混亂效果\"});"
   ]
  },
  {
   "cell_type": "code",
   "execution_count": null,
   "metadata": {},
   "outputs": [],
   "source": []
  }
 ],
 "metadata": {
  "kernelspec": {
   "display_name": "Python 3",
   "language": "python",
   "name": "python3"
  },
  "language_info": {
   "codemirror_mode": {
    "name": "ipython",
    "version": 3
   },
   "file_extension": ".py",
   "mimetype": "text/x-python",
   "name": "python",
   "nbconvert_exporter": "python",
   "pygments_lexer": "ipython3",
   "version": "3.7.3"
  }
 },
 "nbformat": 4,
 "nbformat_minor": 2
}
