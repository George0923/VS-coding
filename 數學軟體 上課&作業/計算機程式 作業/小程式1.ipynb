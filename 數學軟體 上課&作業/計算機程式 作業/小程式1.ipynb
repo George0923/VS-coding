{
 "cells": [
  {
   "cell_type": "markdown",
   "metadata": {},
   "source": [
    "# 基礎代謝率BMR計算"
   ]
  },
  {
   "cell_type": "code",
   "execution_count": 10,
   "metadata": {},
   "outputs": [
    {
     "name": "stdout",
     "output_type": "stream",
     "text": [
      "請輸入您的性別:男性\n",
      "請輸入您的身高(cm):172\n",
      "請輸入您的體重(kg):67.4\n",
      "請輸入您的年齡:21\n",
      "您的基礎代謝率(BMR)為: 1649.0\n"
     ]
    }
   ],
   "source": [
    "a = input('請輸入您的性別:')\n",
    "b = input('請輸入您的身高(cm):')\n",
    "c = input('請輸入您的體重(kg):')\n",
    "d = input('請輸入您的年齡:')\n",
    "if '男' in a:\n",
    "    s = 5\n",
    "else:\n",
    "    s = -151\n",
    "\n",
    "BMR = (10*float(c) + 6.25*float(b) - 5.0*int(d)) + s\n",
    "print('您的基礎代謝率(BMR)為:', BMR)"
   ]
  },
  {
   "cell_type": "code",
   "execution_count": null,
   "metadata": {},
   "outputs": [],
   "source": []
  }
 ],
 "metadata": {
  "kernelspec": {
   "display_name": "Python 3",
   "language": "python",
   "name": "python3"
  },
  "language_info": {
   "codemirror_mode": {
    "name": "ipython",
    "version": 3
   },
   "file_extension": ".py",
   "mimetype": "text/x-python",
   "name": "python",
   "nbconvert_exporter": "python",
   "pygments_lexer": "ipython3",
   "version": "3.7.3"
  }
 },
 "nbformat": 4,
 "nbformat_minor": 2
}
