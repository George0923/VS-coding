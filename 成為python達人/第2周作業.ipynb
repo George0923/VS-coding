{
 "cells": [
  {
   "cell_type": "markdown",
   "metadata": {},
   "source": [
    "# 作業1 猜數字遊戲"
   ]
  },
  {
   "cell_type": "code",
   "execution_count": 1,
   "metadata": {},
   "outputs": [
    {
     "name": "stdout",
     "output_type": "stream",
     "text": [
      "Populating the interactive namespace from numpy and matplotlib\n"
     ]
    },
    {
     "name": "stderr",
     "output_type": "stream",
     "text": [
      "C:\\Users\\USER\\Anaconda3\\lib\\site-packages\\IPython\\core\\magics\\pylab.py:160: UserWarning: pylab import has clobbered these variables: ['random']\n",
      "`%matplotlib` prevents importing * from pylab and numpy\n",
      "  \"\\n`%matplotlib` prevents importing * from pylab and numpy\"\n"
     ]
    }
   ],
   "source": [
    "import random\n",
    "%pylab inline"
   ]
  },
  {
   "cell_type": "code",
   "execution_count": 2,
   "metadata": {},
   "outputs": [],
   "source": [
    "x = random.randint(1,100)\n",
    "y = 0"
   ]
  },
  {
   "cell_type": "code",
   "execution_count": 3,
   "metadata": {},
   "outputs": [
    {
     "name": "stdout",
     "output_type": "stream",
     "text": [
      "請猜一個數字(1~100)20\n",
      "x比20大\n",
      "請猜一個數字(1~100)50\n",
      "x比50大\n",
      "請猜一個數字(1~100)70\n",
      "x比70大\n",
      "請猜一個數字(1~100)90\n",
      "x比90小\n",
      "請猜一個數字(1~100)80\n",
      "x比80小\n",
      "請猜一個數字(1~100)75\n",
      "x比75小\n",
      "請猜一個數字(1~100)72\n",
      "x比72大\n",
      "請猜一個數字(1~100)73\n",
      "x比73大\n",
      "請猜一個數字(1~100)74\n",
      "恭喜你猜對了! \n",
      "答案是74\n"
     ]
    }
   ],
   "source": [
    "while (y != x):\n",
    "    y=int(input(\"請猜一個數字(1~100)\"))\n",
    "    if (y < x):\n",
    "        print(\"x比{}大\".format(y))\n",
    "    elif(y > x):\n",
    "        print(\"x比{}小\".format(y))\n",
    "    else:\n",
    "        print(\"恭喜你猜對了! \\n答案是{}\".format(x))"
   ]
  },
  {
   "cell_type": "markdown",
   "metadata": {},
   "source": [
    "# 作業2 感恩讚嘆機器人"
   ]
  },
  {
   "cell_type": "code",
   "execution_count": 5,
   "metadata": {},
   "outputs": [
    {
     "name": "stdout",
     "output_type": "stream",
     "text": [
      ">>人進得來貨出的去 高雄發大財\n",
      "『感恩韓導，讚嘆韓導。』\n",
      ">>bye\n",
      "『感恩韓導，讚嘆韓導。』\n"
     ]
    }
   ],
   "source": [
    "message = \" \"\n",
    "while message != \"bye\":\n",
    "    message = input(\">>\")\n",
    "    print(\"『感恩韓導，讚嘆韓導。』\")"
   ]
  },
  {
   "cell_type": "markdown",
   "metadata": {},
   "source": [
    "# 作業3 顛倒字串"
   ]
  },
  {
   "cell_type": "code",
   "execution_count": 6,
   "metadata": {},
   "outputs": [
    {
     "name": "stdout",
     "output_type": "stream",
     "text": [
      "請輸入字串： hallo\n",
      "ollah"
     ]
    }
   ],
   "source": [
    "print('請輸入字串：', end = ' ')\n",
    "x = str(input().strip())\n",
    "x_list = list(x)\n",
    "def reverse(Words = True):\n",
    "    x_list.reverse()\n",
    "    for i in x_list:\n",
    "        print(i, end = '')\n",
    "    pass\n",
    "reverse(x_list)"
   ]
  },
  {
   "cell_type": "markdown",
   "metadata": {},
   "source": [
    "# 挑戰題1 天干地支"
   ]
  },
  {
   "cell_type": "code",
   "execution_count": 7,
   "metadata": {},
   "outputs": [
    {
     "name": "stdout",
     "output_type": "stream",
     "text": [
      "輸出2014~2073為農曆的天干地支哪個年\n",
      "西元年 2014 若換算為農曆年則為 甲午 年\n",
      "西元年 2015 若換算為農曆年則為 乙未 年\n",
      "西元年 2016 若換算為農曆年則為 丙申 年\n",
      "西元年 2017 若換算為農曆年則為 丁酉 年\n",
      "西元年 2018 若換算為農曆年則為 戊戌 年\n",
      "西元年 2019 若換算為農曆年則為 己亥 年\n",
      "西元年 2020 若換算為農曆年則為 庚子 年\n",
      "西元年 2021 若換算為農曆年則為 辛丑 年\n",
      "西元年 2022 若換算為農曆年則為 壬寅 年\n",
      "西元年 2023 若換算為農曆年則為 癸卯 年\n",
      "西元年 2024 若換算為農曆年則為 甲辰 年\n",
      "西元年 2025 若換算為農曆年則為 乙巳 年\n",
      "西元年 2026 若換算為農曆年則為 丙午 年\n",
      "西元年 2027 若換算為農曆年則為 丁未 年\n",
      "西元年 2028 若換算為農曆年則為 戊申 年\n",
      "西元年 2029 若換算為農曆年則為 己酉 年\n",
      "西元年 2030 若換算為農曆年則為 庚戌 年\n",
      "西元年 2031 若換算為農曆年則為 辛亥 年\n",
      "西元年 2032 若換算為農曆年則為 壬子 年\n",
      "西元年 2033 若換算為農曆年則為 癸丑 年\n",
      "西元年 2034 若換算為農曆年則為 甲寅 年\n",
      "西元年 2035 若換算為農曆年則為 乙卯 年\n",
      "西元年 2036 若換算為農曆年則為 丙辰 年\n",
      "西元年 2037 若換算為農曆年則為 丁巳 年\n",
      "西元年 2038 若換算為農曆年則為 戊午 年\n",
      "西元年 2039 若換算為農曆年則為 己未 年\n",
      "西元年 2040 若換算為農曆年則為 庚申 年\n",
      "西元年 2041 若換算為農曆年則為 辛酉 年\n",
      "西元年 2042 若換算為農曆年則為 壬戌 年\n",
      "西元年 2043 若換算為農曆年則為 癸亥 年\n",
      "西元年 2044 若換算為農曆年則為 甲子 年\n",
      "西元年 2045 若換算為農曆年則為 乙丑 年\n",
      "西元年 2046 若換算為農曆年則為 丙寅 年\n",
      "西元年 2047 若換算為農曆年則為 丁卯 年\n",
      "西元年 2048 若換算為農曆年則為 戊辰 年\n",
      "西元年 2049 若換算為農曆年則為 己巳 年\n",
      "西元年 2050 若換算為農曆年則為 庚午 年\n",
      "西元年 2051 若換算為農曆年則為 辛未 年\n",
      "西元年 2052 若換算為農曆年則為 壬申 年\n",
      "西元年 2053 若換算為農曆年則為 癸酉 年\n",
      "西元年 2054 若換算為農曆年則為 甲戌 年\n",
      "西元年 2055 若換算為農曆年則為 乙亥 年\n",
      "西元年 2056 若換算為農曆年則為 丙子 年\n",
      "西元年 2057 若換算為農曆年則為 丁丑 年\n",
      "西元年 2058 若換算為農曆年則為 戊寅 年\n",
      "西元年 2059 若換算為農曆年則為 己卯 年\n",
      "西元年 2060 若換算為農曆年則為 庚辰 年\n",
      "西元年 2061 若換算為農曆年則為 辛巳 年\n",
      "西元年 2062 若換算為農曆年則為 壬午 年\n",
      "西元年 2063 若換算為農曆年則為 癸未 年\n",
      "西元年 2064 若換算為農曆年則為 甲申 年\n",
      "西元年 2065 若換算為農曆年則為 乙酉 年\n",
      "西元年 2066 若換算為農曆年則為 丙戌 年\n",
      "西元年 2067 若換算為農曆年則為 丁亥 年\n",
      "西元年 2068 若換算為農曆年則為 戊子 年\n",
      "西元年 2069 若換算為農曆年則為 己丑 年\n",
      "西元年 2070 若換算為農曆年則為 庚寅 年\n",
      "西元年 2071 若換算為農曆年則為 辛卯 年\n",
      "西元年 2072 若換算為農曆年則為 壬辰 年\n",
      "西元年 2073 若換算為農曆年則為 癸巳 年\n"
     ]
    }
   ],
   "source": [
    "print('輸出2014~2073為農曆的天干地支哪個年')\n",
    "\n",
    "y = list(range(2014, 2074))\n",
    "sky = ['癸', '甲', '乙', '丙', '丁', '戊', '己', '庚', '辛', '壬']\n",
    "land = ['亥', '子', '丑', '寅', '卯', '辰', '巳', '午', '未', '申', '酉', '戌']\n",
    "       \n",
    "\n",
    "for i in y:\n",
    "    a = (i-1913) % 10\n",
    "    skystr = sky[a]\n",
    "    b = (i-1911) % 12\n",
    "    landstr = land[b]\n",
    "    print('西元年', i, '若換算為農曆年則為', skystr + landstr, \"年\")"
   ]
  },
  {
   "cell_type": "markdown",
   "metadata": {},
   "source": [
    "# 挑戰題2 我有一棵樹"
   ]
  },
  {
   "cell_type": "code",
   "execution_count": 8,
   "metadata": {},
   "outputs": [
    {
     "name": "stdout",
     "output_type": "stream",
     "text": [
      "請輸入樹層數:10\n",
      "         * \n",
      "        * * \n",
      "       * * * \n",
      "      * * * * \n",
      "     * * * * * \n",
      "    * * * * * * \n",
      "   * * * * * * * \n",
      "  * * * * * * * * \n",
      " * * * * * * * * * \n",
      "* * * * * * * * * * \n"
     ]
    }
   ],
   "source": [
    "n = int(input(\"請輸入樹層數:\"))\n",
    "for i in range(n):\n",
    "    for j in range(n-i-1):\n",
    "        print(\" \",end=\"\")\n",
    "    for k in range(i+1):\n",
    "        print(\"*\",end=\" \")\n",
    "    print()"
   ]
  }
 ],
 "metadata": {
  "kernelspec": {
   "display_name": "Python 3",
   "language": "python",
   "name": "python3"
  },
  "language_info": {
   "codemirror_mode": {
    "name": "ipython",
    "version": 3
   },
   "file_extension": ".py",
   "mimetype": "text/x-python",
   "name": "python",
   "nbconvert_exporter": "python",
   "pygments_lexer": "ipython3",
   "version": "3.7.3"
  }
 },
 "nbformat": 4,
 "nbformat_minor": 2
}
