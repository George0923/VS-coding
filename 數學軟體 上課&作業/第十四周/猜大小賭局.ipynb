{
 "cells": [
  {
   "cell_type": "code",
   "execution_count": 1,
   "metadata": {},
   "outputs": [],
   "source": [
    "%matplotlib inline\n",
    "import numpy as np\n",
    "import pandas as np\n",
    "import matplotlib.pyplot as plt\n",
    "import random"
   ]
  },
  {
   "cell_type": "code",
   "execution_count": 52,
   "metadata": {},
   "outputs": [
    {
     "name": "stdout",
     "output_type": "stream",
     "text": [
      "----- 遊戲開始 -----\n",
      "請下注，大 or 小：大\n",
      "下注金額：200\n",
      "----- 搖骰子 -----\n",
      "骰子點數： [4]\n",
      "很遺憾，你輸了 200 元，你現在有 800 元本金\n",
      "----- 遊戲開始 -----\n",
      "請下注，大 or 小：sj\n",
      "下注金額：10\n",
      "骰子點數： [4]\n",
      "很遺憾，你輸了 10 元，你現在有 790 元本金\n",
      "----- 遊戲開始 -----\n",
      "請下注，大 or 小：小\n",
      "下注金額：400\n",
      "----- 搖骰子 -----\n",
      "骰子點數： [4]\n",
      "恭喜，你贏了 400 元，你現在有 1190 元本金\n",
      "格式有誤，請重新輸入\n",
      "----- 遊戲開始 -----\n",
      "請下注，大 or 小：大\n",
      "下注金額：10000\n",
      "----- 搖骰子 -----\n",
      "骰子點數： [6]\n",
      "很遺憾，你輸了 10000 元，你現在有 -8810 元本金\n",
      "遊戲結束\n"
     ]
    }
   ],
   "source": [
    "def roll_dice(numbers = 3,points = None):\n",
    "    print('----- 搖骰子 -----')\n",
    "    if points is None:\n",
    "        points = []\n",
    "    while numbers > 0:\n",
    "        point = random.randrange(1,7)\n",
    "        points.append(point)\n",
    "        numbers = numbers - 1\n",
    "        return points\n",
    "def roll_result(total):\n",
    "    isBig = 11 <= total <=18\n",
    "    isSmall = 3 <= total <= 10\n",
    "    if isBig:\n",
    "        return '大'\n",
    "    elif isSmall:\n",
    "        return '小'\n",
    "def start_game():\n",
    "    your_money = 1000\n",
    "    while your_money > 0:\n",
    "        print('----- 遊戲開始 -----')\n",
    "        choices = ['大','小']\n",
    "        your_choice = input('請下注，大 or 小：')\n",
    "        your_bet = input('下注金額：')\n",
    "        if your_choice in choices:\n",
    "            points = roll_dice()\n",
    "            total = sum(points)\n",
    "            youWin = your_choice == roll_result(total)\n",
    "            youLose = your_choice != roll_result(total)\n",
    "        if youWin:\n",
    "            print('骰子點數：',points)\n",
    "            your_money = your_money + int(your_bet)\n",
    "            print('恭喜，你贏了 {} 元，你現在有 {} 元本金'.format(your_bet, your_money))       \n",
    "        if youLose:\n",
    "            print('骰子點數：',points)\n",
    "            your_money = your_money - int(your_bet)\n",
    "            print('很遺憾，你輸了 {} 元，你現在有 {} 元本金'.format(your_bet, your_money))  \n",
    "        else:\n",
    "            print('格式有誤，請重新輸入')    \n",
    "    else:\n",
    "        print('遊戲結束')\n",
    "start_game()"
   ]
  },
  {
   "cell_type": "code",
   "execution_count": null,
   "metadata": {},
   "outputs": [],
   "source": []
  }
 ],
 "metadata": {
  "kernelspec": {
   "display_name": "Python 3",
   "language": "python",
   "name": "python3"
  },
  "language_info": {
   "codemirror_mode": {
    "name": "ipython",
    "version": 3
   },
   "file_extension": ".py",
   "mimetype": "text/x-python",
   "name": "python",
   "nbconvert_exporter": "python",
   "pygments_lexer": "ipython3",
   "version": "3.7.3"
  }
 },
 "nbformat": 4,
 "nbformat_minor": 2
}
