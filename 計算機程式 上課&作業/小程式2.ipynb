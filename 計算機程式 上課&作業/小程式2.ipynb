{
 "cells": [
  {
   "cell_type": "markdown",
   "metadata": {},
   "source": [
    "# 每日總消耗熱量(TDEE)計算"
   ]
  },
  {
   "cell_type": "code",
   "execution_count": 12,
   "metadata": {},
   "outputs": [],
   "source": [
    "from ipywidgets import interact"
   ]
  },
  {
   "cell_type": "code",
   "execution_count": 13,
   "metadata": {},
   "outputs": [
    {
     "name": "stdout",
     "output_type": "stream",
     "text": [
      "請輸入您的基礎代謝率(BMR):1649\n"
     ]
    }
   ],
   "source": [
    "a = input('請輸入您的基礎代謝率(BMR):')\n",
    "def f(choice):\n",
    "    print(choice)\n",
    "    if choice == '久坐(辦公室職位，沒有運動習慣)':\n",
    "        print('您的TDEE為',float(a)*1.2)\n",
    "    elif choice == '輕度(輕度運動1-2天/週)':\n",
    "        print('您的TDEE為',float(a)*1.375)\n",
    "    elif choice == '中度(運動3-5天/週)':\n",
    "        print('您的TDEE為',float(a)*1.55)\n",
    "    elif choice == '高度(運動6-7天/週)':\n",
    "        print('您的TDEE為',float(a)*1.725)\n",
    "    else:\n",
    "        print('您的TDEE為',float(a)*1.9)"
   ]
  },
  {
   "cell_type": "code",
   "execution_count": 15,
   "metadata": {},
   "outputs": [
    {
     "data": {
      "application/vnd.jupyter.widget-view+json": {
       "model_id": "5316b258a8c94eeebb31c09f7c6f40b1",
       "version_major": 2,
       "version_minor": 0
      },
      "text/plain": [
       "interactive(children=(Dropdown(description='choice', options=('高度(運動6-7天/週)', '久坐(辦公室職位，沒有運動習慣)', '極高度(運動員等級，每…"
      ]
     },
     "metadata": {},
     "output_type": "display_data"
    }
   ],
   "source": [
    "interact(f, choice={'久坐(辦公室職位，沒有運動習慣)', '輕度(輕度運動1-2天/週)', '中度(運動3-5天/週)','高度(運動6-7天/週)', '極高度(運動員等級，每天運動2次)'});"
   ]
  },
  {
   "cell_type": "code",
   "execution_count": null,
   "metadata": {},
   "outputs": [],
   "source": []
  }
 ],
 "metadata": {
  "kernelspec": {
   "display_name": "Python 3",
   "language": "python",
   "name": "python3"
  },
  "language_info": {
   "codemirror_mode": {
    "name": "ipython",
    "version": 3
   },
   "file_extension": ".py",
   "mimetype": "text/x-python",
   "name": "python",
   "nbconvert_exporter": "python",
   "pygments_lexer": "ipython3",
   "version": "3.7.3"
  }
 },
 "nbformat": 4,
 "nbformat_minor": 2
}
