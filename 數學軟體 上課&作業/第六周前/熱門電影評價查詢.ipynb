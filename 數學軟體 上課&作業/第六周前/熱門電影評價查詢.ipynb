{
 "cells": [
  {
   "cell_type": "code",
   "execution_count": 4,
   "metadata": {},
   "outputs": [],
   "source": [
    "%matplotlib inline\n",
    "import numpy as np\n",
    "import matplotlib.pyplot as plt\n",
    "import pandas as pd\n",
    "import webbrowser"
   ]
  },
  {
   "cell_type": "code",
   "execution_count": 11,
   "metadata": {},
   "outputs": [
    {
     "name": "stdout",
     "output_type": "stream",
     "text": [
      "請輸入您想查詢的電影名稱:返校\n"
     ]
    }
   ],
   "source": [
    "x = input(\"請輸入您想查詢的電影名稱:\")\n",
    "if \"返校\" in x:\n",
    "    webbrowser.open_new(\"https://movies.yahoo.com.tw/movieinfo_main.html/id=10109\")\n",
    "if \"信用詐欺師JP\" in x:\n",
    "    webbrowser.open_new(\"https://movies.yahoo.com.tw/movieinfo_main/%E4%BF%A1%E7%94%A8%E8%A9%90%E6%AC%BA%E5%B8%ABJP-the-confidence-man-jp-10190\")\n",
    "if \"天氣之子\" in x:\n",
    "    webbrowser.open_new(\"https://movies.yahoo.com.tw/movieinfo_main/%E5%A4%A9%E6%B0%A3%E4%B9%8B%E5%AD%90-weathering-with-you-10091\")"
   ]
  },
  {
   "cell_type": "code",
   "execution_count": null,
   "metadata": {},
   "outputs": [],
   "source": []
  },
  {
   "cell_type": "code",
   "execution_count": null,
   "metadata": {},
   "outputs": [],
   "source": []
  }
 ],
 "metadata": {
  "kernelspec": {
   "display_name": "Python 3",
   "language": "python",
   "name": "python3"
  },
  "language_info": {
   "codemirror_mode": {
    "name": "ipython",
    "version": 3
   },
   "file_extension": ".py",
   "mimetype": "text/x-python",
   "name": "python",
   "nbconvert_exporter": "python",
   "pygments_lexer": "ipython3",
   "version": "3.7.3"
  }
 },
 "nbformat": 4,
 "nbformat_minor": 2
}
